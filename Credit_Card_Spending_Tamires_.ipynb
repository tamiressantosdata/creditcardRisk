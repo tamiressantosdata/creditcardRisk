{
  "nbformat": 4,
  "nbformat_minor": 0,
  "metadata": {
    "colab": {
      "name": "Credit Card Spending_Tamires_.ipynb",
      "provenance": [],
      "collapsed_sections": []
    },
    "kernelspec": {
      "name": "python3",
      "display_name": "Python 3"
    },
    "language_info": {
      "name": "python"
    }
  },
  "cells": [
    {
      "cell_type": "markdown",
      "source": [
        "##Firstly, data cleaning should be done.\n",
        "##Train and test data is created according to the size of the data we have (we assume that customers are tagged).\n",
        "##We start using the logistic regression algorithm, which is the most basic algorithm.We are building our logistic regression model with the data we have\n",
        "##An error of our test data with the model  created\n",
        "\n",
        "## Logistic Regression -49% of accuracy\n",
        "## Random ForestClsssifier give us 72% of accu racy.\n",
        "##XBosst:88%of accuracy\n",
        "##To improve the results was used tuned parameters, cross-validation and Hyper Parameter Tuning (RandomizedSearchCV)"
      ],
      "metadata": {
        "id": "sYie2Y5qcajg"
      }
    },
    {
      "cell_type": "code",
      "execution_count": 24,
      "metadata": {
        "id": "BZ6HSSxX0EIi"
      },
      "outputs": [],
      "source": [
        "#import libraries \n",
        "from sklearn.preprocessing import StandardScaler\n",
        "import matplotlib.pyplot as plt \n",
        "import numpy as np\n",
        "import pandas as pd\n",
        "import seaborn as sns"
      ]
    },
    {
      "cell_type": "code",
      "source": [
        "#read the csv file \n",
        "df = pd.read_csv('MiBolsillo.csv',encoding = 'unicode_escape',sep=';')\n",
        "df.dataframeName = 'MiBolsillo.csv'\n",
        "nRow, nCol = df.shape\n",
        "print(f'There are {nRow} rows and {nCol} columns')"
      ],
      "metadata": {
        "colab": {
          "base_uri": "https://localhost:8080/"
        },
        "id": "118igngx0YrH",
        "outputId": "33d65edb-95fe-43f2-8e79-0e759a9f3205"
      },
      "execution_count": 25,
      "outputs": [
        {
          "output_type": "stream",
          "name": "stdout",
          "text": [
            "There are 4955 rows and 13 columns\n"
          ]
        }
      ]
    },
    {
      "cell_type": "code",
      "source": [
        "df.head()"
      ],
      "metadata": {
        "colab": {
          "base_uri": "https://localhost:8080/",
          "height": 444
        },
        "id": "isxvOlgs0u4w",
        "outputId": "f4950a93-faca-4f34-da62-1f7edb67f2e4"
      },
      "execution_count": 26,
      "outputs": [
        {
          "output_type": "execute_result",
          "data": {
            "text/plain": [
              "         id  safra_abertura                  cidade estado  idade sexo  \\\n",
              "0  4,53E+11          201405  CAMPO LIMPO PAULISTA      SP      37    F   \n",
              "1  4,53E+11          201405  CAMPO LIMPO PAULISTA      SP      37    F   \n",
              "2  4,53E+11          201405  CAMPO LIMPO PAULISTA      SP      37    F   \n",
              "3  4,53E+11          201405  CAMPO LIMPO PAULISTA      SP      37    F   \n",
              "4  4,53E+11          201405  CAMPO LIMPO PAULISTA      SP      37    F   \n",
              "\n",
              "   limite_total  limite_disp       data  valor  grupo_estabelecimento  \\\n",
              "0          4700         5605  4.12.2019      31               SERVIO   \n",
              "1          4700         5343  9.11.2019  150,01             FARMACIAS   \n",
              "2          4700         2829  6.05.2019      50               SERVIO   \n",
              "3          4700         2547  1.06.2019    54,4              M.O.T.O.   \n",
              "4          4700         2515  1.06.2019   32,79              M.O.T.O.   \n",
              "\n",
              "  cidade_estabelecimento pais_estabelecimento  \n",
              "0              SAO PAULO                   BR  \n",
              "1                 SANTOS                   BR  \n",
              "2              SAO PAULO                   BR  \n",
              "3                 OSASCO                   BR  \n",
              "4                 OSASCO                   BR  "
            ],
            "text/html": [
              "\n",
              "  <div id=\"df-a228b455-8b71-47fe-b317-12314ac46fdf\">\n",
              "    <div class=\"colab-df-container\">\n",
              "      <div>\n",
              "<style scoped>\n",
              "    .dataframe tbody tr th:only-of-type {\n",
              "        vertical-align: middle;\n",
              "    }\n",
              "\n",
              "    .dataframe tbody tr th {\n",
              "        vertical-align: top;\n",
              "    }\n",
              "\n",
              "    .dataframe thead th {\n",
              "        text-align: right;\n",
              "    }\n",
              "</style>\n",
              "<table border=\"1\" class=\"dataframe\">\n",
              "  <thead>\n",
              "    <tr style=\"text-align: right;\">\n",
              "      <th></th>\n",
              "      <th>id</th>\n",
              "      <th>safra_abertura</th>\n",
              "      <th>cidade</th>\n",
              "      <th>estado</th>\n",
              "      <th>idade</th>\n",
              "      <th>sexo</th>\n",
              "      <th>limite_total</th>\n",
              "      <th>limite_disp</th>\n",
              "      <th>data</th>\n",
              "      <th>valor</th>\n",
              "      <th>grupo_estabelecimento</th>\n",
              "      <th>cidade_estabelecimento</th>\n",
              "      <th>pais_estabelecimento</th>\n",
              "    </tr>\n",
              "  </thead>\n",
              "  <tbody>\n",
              "    <tr>\n",
              "      <th>0</th>\n",
              "      <td>4,53E+11</td>\n",
              "      <td>201405</td>\n",
              "      <td>CAMPO LIMPO PAULISTA</td>\n",
              "      <td>SP</td>\n",
              "      <td>37</td>\n",
              "      <td>F</td>\n",
              "      <td>4700</td>\n",
              "      <td>5605</td>\n",
              "      <td>4.12.2019</td>\n",
              "      <td>31</td>\n",
              "      <td>SERVIO</td>\n",
              "      <td>SAO PAULO</td>\n",
              "      <td>BR</td>\n",
              "    </tr>\n",
              "    <tr>\n",
              "      <th>1</th>\n",
              "      <td>4,53E+11</td>\n",
              "      <td>201405</td>\n",
              "      <td>CAMPO LIMPO PAULISTA</td>\n",
              "      <td>SP</td>\n",
              "      <td>37</td>\n",
              "      <td>F</td>\n",
              "      <td>4700</td>\n",
              "      <td>5343</td>\n",
              "      <td>9.11.2019</td>\n",
              "      <td>150,01</td>\n",
              "      <td>FARMACIAS</td>\n",
              "      <td>SANTOS</td>\n",
              "      <td>BR</td>\n",
              "    </tr>\n",
              "    <tr>\n",
              "      <th>2</th>\n",
              "      <td>4,53E+11</td>\n",
              "      <td>201405</td>\n",
              "      <td>CAMPO LIMPO PAULISTA</td>\n",
              "      <td>SP</td>\n",
              "      <td>37</td>\n",
              "      <td>F</td>\n",
              "      <td>4700</td>\n",
              "      <td>2829</td>\n",
              "      <td>6.05.2019</td>\n",
              "      <td>50</td>\n",
              "      <td>SERVIO</td>\n",
              "      <td>SAO PAULO</td>\n",
              "      <td>BR</td>\n",
              "    </tr>\n",
              "    <tr>\n",
              "      <th>3</th>\n",
              "      <td>4,53E+11</td>\n",
              "      <td>201405</td>\n",
              "      <td>CAMPO LIMPO PAULISTA</td>\n",
              "      <td>SP</td>\n",
              "      <td>37</td>\n",
              "      <td>F</td>\n",
              "      <td>4700</td>\n",
              "      <td>2547</td>\n",
              "      <td>1.06.2019</td>\n",
              "      <td>54,4</td>\n",
              "      <td>M.O.T.O.</td>\n",
              "      <td>OSASCO</td>\n",
              "      <td>BR</td>\n",
              "    </tr>\n",
              "    <tr>\n",
              "      <th>4</th>\n",
              "      <td>4,53E+11</td>\n",
              "      <td>201405</td>\n",
              "      <td>CAMPO LIMPO PAULISTA</td>\n",
              "      <td>SP</td>\n",
              "      <td>37</td>\n",
              "      <td>F</td>\n",
              "      <td>4700</td>\n",
              "      <td>2515</td>\n",
              "      <td>1.06.2019</td>\n",
              "      <td>32,79</td>\n",
              "      <td>M.O.T.O.</td>\n",
              "      <td>OSASCO</td>\n",
              "      <td>BR</td>\n",
              "    </tr>\n",
              "  </tbody>\n",
              "</table>\n",
              "</div>\n",
              "      <button class=\"colab-df-convert\" onclick=\"convertToInteractive('df-a228b455-8b71-47fe-b317-12314ac46fdf')\"\n",
              "              title=\"Convert this dataframe to an interactive table.\"\n",
              "              style=\"display:none;\">\n",
              "        \n",
              "  <svg xmlns=\"http://www.w3.org/2000/svg\" height=\"24px\"viewBox=\"0 0 24 24\"\n",
              "       width=\"24px\">\n",
              "    <path d=\"M0 0h24v24H0V0z\" fill=\"none\"/>\n",
              "    <path d=\"M18.56 5.44l.94 2.06.94-2.06 2.06-.94-2.06-.94-.94-2.06-.94 2.06-2.06.94zm-11 1L8.5 8.5l.94-2.06 2.06-.94-2.06-.94L8.5 2.5l-.94 2.06-2.06.94zm10 10l.94 2.06.94-2.06 2.06-.94-2.06-.94-.94-2.06-.94 2.06-2.06.94z\"/><path d=\"M17.41 7.96l-1.37-1.37c-.4-.4-.92-.59-1.43-.59-.52 0-1.04.2-1.43.59L10.3 9.45l-7.72 7.72c-.78.78-.78 2.05 0 2.83L4 21.41c.39.39.9.59 1.41.59.51 0 1.02-.2 1.41-.59l7.78-7.78 2.81-2.81c.8-.78.8-2.07 0-2.86zM5.41 20L4 18.59l7.72-7.72 1.47 1.35L5.41 20z\"/>\n",
              "  </svg>\n",
              "      </button>\n",
              "      \n",
              "  <style>\n",
              "    .colab-df-container {\n",
              "      display:flex;\n",
              "      flex-wrap:wrap;\n",
              "      gap: 12px;\n",
              "    }\n",
              "\n",
              "    .colab-df-convert {\n",
              "      background-color: #E8F0FE;\n",
              "      border: none;\n",
              "      border-radius: 50%;\n",
              "      cursor: pointer;\n",
              "      display: none;\n",
              "      fill: #1967D2;\n",
              "      height: 32px;\n",
              "      padding: 0 0 0 0;\n",
              "      width: 32px;\n",
              "    }\n",
              "\n",
              "    .colab-df-convert:hover {\n",
              "      background-color: #E2EBFA;\n",
              "      box-shadow: 0px 1px 2px rgba(60, 64, 67, 0.3), 0px 1px 3px 1px rgba(60, 64, 67, 0.15);\n",
              "      fill: #174EA6;\n",
              "    }\n",
              "\n",
              "    [theme=dark] .colab-df-convert {\n",
              "      background-color: #3B4455;\n",
              "      fill: #D2E3FC;\n",
              "    }\n",
              "\n",
              "    [theme=dark] .colab-df-convert:hover {\n",
              "      background-color: #434B5C;\n",
              "      box-shadow: 0px 1px 3px 1px rgba(0, 0, 0, 0.15);\n",
              "      filter: drop-shadow(0px 1px 2px rgba(0, 0, 0, 0.3));\n",
              "      fill: #FFFFFF;\n",
              "    }\n",
              "  </style>\n",
              "\n",
              "      <script>\n",
              "        const buttonEl =\n",
              "          document.querySelector('#df-a228b455-8b71-47fe-b317-12314ac46fdf button.colab-df-convert');\n",
              "        buttonEl.style.display =\n",
              "          google.colab.kernel.accessAllowed ? 'block' : 'none';\n",
              "\n",
              "        async function convertToInteractive(key) {\n",
              "          const element = document.querySelector('#df-a228b455-8b71-47fe-b317-12314ac46fdf');\n",
              "          const dataTable =\n",
              "            await google.colab.kernel.invokeFunction('convertToInteractive',\n",
              "                                                     [key], {});\n",
              "          if (!dataTable) return;\n",
              "\n",
              "          const docLinkHtml = 'Like what you see? Visit the ' +\n",
              "            '<a target=\"_blank\" href=https://colab.research.google.com/notebooks/data_table.ipynb>data table notebook</a>'\n",
              "            + ' to learn more about interactive tables.';\n",
              "          element.innerHTML = '';\n",
              "          dataTable['output_type'] = 'display_data';\n",
              "          await google.colab.output.renderOutput(dataTable, element);\n",
              "          const docLink = document.createElement('div');\n",
              "          docLink.innerHTML = docLinkHtml;\n",
              "          element.appendChild(docLink);\n",
              "        }\n",
              "      </script>\n",
              "    </div>\n",
              "  </div>\n",
              "  "
            ]
          },
          "metadata": {},
          "execution_count": 26
        }
      ]
    },
    {
      "cell_type": "code",
      "source": [
        "#change name of the columns \n",
        "df.columns = ['id','branch_number','city','state','age','gender','total_credit_card_limit','current_available_limit' ,'date','amount','category_expense','purchase_city','purchase_country']"
      ],
      "metadata": {
        "id": "nrvbkqs_1Bzt"
      },
      "execution_count": 27,
      "outputs": []
    },
    {
      "cell_type": "code",
      "source": [
        "#converting the date variable to date_time format\n",
        "df.date = pd.to_datetime(df.date,dayfirst=True)\n",
        "df.head()"
      ],
      "metadata": {
        "colab": {
          "base_uri": "https://localhost:8080/",
          "height": 444
        },
        "id": "wVcOGGWU1rbz",
        "outputId": "6dfb2f62-a4e4-4538-fe16-2f8d1a2bc58c"
      },
      "execution_count": 28,
      "outputs": [
        {
          "output_type": "execute_result",
          "data": {
            "text/plain": [
              "         id  branch_number                    city state  age gender  \\\n",
              "0  4,53E+11         201405  CAMPO LIMPO PAULISTA     SP    37      F   \n",
              "1  4,53E+11         201405  CAMPO LIMPO PAULISTA     SP    37      F   \n",
              "2  4,53E+11         201405  CAMPO LIMPO PAULISTA     SP    37      F   \n",
              "3  4,53E+11         201405  CAMPO LIMPO PAULISTA     SP    37      F   \n",
              "4  4,53E+11         201405  CAMPO LIMPO PAULISTA     SP    37      F   \n",
              "\n",
              "   total_credit_card_limit  current_available_limit       date  amount  \\\n",
              "0                     4700                     5605 2019-12-04      31   \n",
              "1                     4700                     5343 2019-11-09  150,01   \n",
              "2                     4700                     2829 2019-05-06      50   \n",
              "3                     4700                     2547 2019-06-01    54,4   \n",
              "4                     4700                     2515 2019-06-01   32,79   \n",
              "\n",
              "  category_expense purchase_city purchase_country  \n",
              "0          SERVIO     SAO PAULO               BR  \n",
              "1        FARMACIAS        SANTOS               BR  \n",
              "2          SERVIO     SAO PAULO               BR  \n",
              "3         M.O.T.O.        OSASCO               BR  \n",
              "4         M.O.T.O.        OSASCO               BR  "
            ],
            "text/html": [
              "\n",
              "  <div id=\"df-d36249a7-fb29-4730-b2e5-069bc550a932\">\n",
              "    <div class=\"colab-df-container\">\n",
              "      <div>\n",
              "<style scoped>\n",
              "    .dataframe tbody tr th:only-of-type {\n",
              "        vertical-align: middle;\n",
              "    }\n",
              "\n",
              "    .dataframe tbody tr th {\n",
              "        vertical-align: top;\n",
              "    }\n",
              "\n",
              "    .dataframe thead th {\n",
              "        text-align: right;\n",
              "    }\n",
              "</style>\n",
              "<table border=\"1\" class=\"dataframe\">\n",
              "  <thead>\n",
              "    <tr style=\"text-align: right;\">\n",
              "      <th></th>\n",
              "      <th>id</th>\n",
              "      <th>branch_number</th>\n",
              "      <th>city</th>\n",
              "      <th>state</th>\n",
              "      <th>age</th>\n",
              "      <th>gender</th>\n",
              "      <th>total_credit_card_limit</th>\n",
              "      <th>current_available_limit</th>\n",
              "      <th>date</th>\n",
              "      <th>amount</th>\n",
              "      <th>category_expense</th>\n",
              "      <th>purchase_city</th>\n",
              "      <th>purchase_country</th>\n",
              "    </tr>\n",
              "  </thead>\n",
              "  <tbody>\n",
              "    <tr>\n",
              "      <th>0</th>\n",
              "      <td>4,53E+11</td>\n",
              "      <td>201405</td>\n",
              "      <td>CAMPO LIMPO PAULISTA</td>\n",
              "      <td>SP</td>\n",
              "      <td>37</td>\n",
              "      <td>F</td>\n",
              "      <td>4700</td>\n",
              "      <td>5605</td>\n",
              "      <td>2019-12-04</td>\n",
              "      <td>31</td>\n",
              "      <td>SERVIO</td>\n",
              "      <td>SAO PAULO</td>\n",
              "      <td>BR</td>\n",
              "    </tr>\n",
              "    <tr>\n",
              "      <th>1</th>\n",
              "      <td>4,53E+11</td>\n",
              "      <td>201405</td>\n",
              "      <td>CAMPO LIMPO PAULISTA</td>\n",
              "      <td>SP</td>\n",
              "      <td>37</td>\n",
              "      <td>F</td>\n",
              "      <td>4700</td>\n",
              "      <td>5343</td>\n",
              "      <td>2019-11-09</td>\n",
              "      <td>150,01</td>\n",
              "      <td>FARMACIAS</td>\n",
              "      <td>SANTOS</td>\n",
              "      <td>BR</td>\n",
              "    </tr>\n",
              "    <tr>\n",
              "      <th>2</th>\n",
              "      <td>4,53E+11</td>\n",
              "      <td>201405</td>\n",
              "      <td>CAMPO LIMPO PAULISTA</td>\n",
              "      <td>SP</td>\n",
              "      <td>37</td>\n",
              "      <td>F</td>\n",
              "      <td>4700</td>\n",
              "      <td>2829</td>\n",
              "      <td>2019-05-06</td>\n",
              "      <td>50</td>\n",
              "      <td>SERVIO</td>\n",
              "      <td>SAO PAULO</td>\n",
              "      <td>BR</td>\n",
              "    </tr>\n",
              "    <tr>\n",
              "      <th>3</th>\n",
              "      <td>4,53E+11</td>\n",
              "      <td>201405</td>\n",
              "      <td>CAMPO LIMPO PAULISTA</td>\n",
              "      <td>SP</td>\n",
              "      <td>37</td>\n",
              "      <td>F</td>\n",
              "      <td>4700</td>\n",
              "      <td>2547</td>\n",
              "      <td>2019-06-01</td>\n",
              "      <td>54,4</td>\n",
              "      <td>M.O.T.O.</td>\n",
              "      <td>OSASCO</td>\n",
              "      <td>BR</td>\n",
              "    </tr>\n",
              "    <tr>\n",
              "      <th>4</th>\n",
              "      <td>4,53E+11</td>\n",
              "      <td>201405</td>\n",
              "      <td>CAMPO LIMPO PAULISTA</td>\n",
              "      <td>SP</td>\n",
              "      <td>37</td>\n",
              "      <td>F</td>\n",
              "      <td>4700</td>\n",
              "      <td>2515</td>\n",
              "      <td>2019-06-01</td>\n",
              "      <td>32,79</td>\n",
              "      <td>M.O.T.O.</td>\n",
              "      <td>OSASCO</td>\n",
              "      <td>BR</td>\n",
              "    </tr>\n",
              "  </tbody>\n",
              "</table>\n",
              "</div>\n",
              "      <button class=\"colab-df-convert\" onclick=\"convertToInteractive('df-d36249a7-fb29-4730-b2e5-069bc550a932')\"\n",
              "              title=\"Convert this dataframe to an interactive table.\"\n",
              "              style=\"display:none;\">\n",
              "        \n",
              "  <svg xmlns=\"http://www.w3.org/2000/svg\" height=\"24px\"viewBox=\"0 0 24 24\"\n",
              "       width=\"24px\">\n",
              "    <path d=\"M0 0h24v24H0V0z\" fill=\"none\"/>\n",
              "    <path d=\"M18.56 5.44l.94 2.06.94-2.06 2.06-.94-2.06-.94-.94-2.06-.94 2.06-2.06.94zm-11 1L8.5 8.5l.94-2.06 2.06-.94-2.06-.94L8.5 2.5l-.94 2.06-2.06.94zm10 10l.94 2.06.94-2.06 2.06-.94-2.06-.94-.94-2.06-.94 2.06-2.06.94z\"/><path d=\"M17.41 7.96l-1.37-1.37c-.4-.4-.92-.59-1.43-.59-.52 0-1.04.2-1.43.59L10.3 9.45l-7.72 7.72c-.78.78-.78 2.05 0 2.83L4 21.41c.39.39.9.59 1.41.59.51 0 1.02-.2 1.41-.59l7.78-7.78 2.81-2.81c.8-.78.8-2.07 0-2.86zM5.41 20L4 18.59l7.72-7.72 1.47 1.35L5.41 20z\"/>\n",
              "  </svg>\n",
              "      </button>\n",
              "      \n",
              "  <style>\n",
              "    .colab-df-container {\n",
              "      display:flex;\n",
              "      flex-wrap:wrap;\n",
              "      gap: 12px;\n",
              "    }\n",
              "\n",
              "    .colab-df-convert {\n",
              "      background-color: #E8F0FE;\n",
              "      border: none;\n",
              "      border-radius: 50%;\n",
              "      cursor: pointer;\n",
              "      display: none;\n",
              "      fill: #1967D2;\n",
              "      height: 32px;\n",
              "      padding: 0 0 0 0;\n",
              "      width: 32px;\n",
              "    }\n",
              "\n",
              "    .colab-df-convert:hover {\n",
              "      background-color: #E2EBFA;\n",
              "      box-shadow: 0px 1px 2px rgba(60, 64, 67, 0.3), 0px 1px 3px 1px rgba(60, 64, 67, 0.15);\n",
              "      fill: #174EA6;\n",
              "    }\n",
              "\n",
              "    [theme=dark] .colab-df-convert {\n",
              "      background-color: #3B4455;\n",
              "      fill: #D2E3FC;\n",
              "    }\n",
              "\n",
              "    [theme=dark] .colab-df-convert:hover {\n",
              "      background-color: #434B5C;\n",
              "      box-shadow: 0px 1px 3px 1px rgba(0, 0, 0, 0.15);\n",
              "      filter: drop-shadow(0px 1px 2px rgba(0, 0, 0, 0.3));\n",
              "      fill: #FFFFFF;\n",
              "    }\n",
              "  </style>\n",
              "\n",
              "      <script>\n",
              "        const buttonEl =\n",
              "          document.querySelector('#df-d36249a7-fb29-4730-b2e5-069bc550a932 button.colab-df-convert');\n",
              "        buttonEl.style.display =\n",
              "          google.colab.kernel.accessAllowed ? 'block' : 'none';\n",
              "\n",
              "        async function convertToInteractive(key) {\n",
              "          const element = document.querySelector('#df-d36249a7-fb29-4730-b2e5-069bc550a932');\n",
              "          const dataTable =\n",
              "            await google.colab.kernel.invokeFunction('convertToInteractive',\n",
              "                                                     [key], {});\n",
              "          if (!dataTable) return;\n",
              "\n",
              "          const docLinkHtml = 'Like what you see? Visit the ' +\n",
              "            '<a target=\"_blank\" href=https://colab.research.google.com/notebooks/data_table.ipynb>data table notebook</a>'\n",
              "            + ' to learn more about interactive tables.';\n",
              "          element.innerHTML = '';\n",
              "          dataTable['output_type'] = 'display_data';\n",
              "          await google.colab.output.renderOutput(dataTable, element);\n",
              "          const docLink = document.createElement('div');\n",
              "          docLink.innerHTML = docLinkHtml;\n",
              "          element.appendChild(docLink);\n",
              "        }\n",
              "      </script>\n",
              "    </div>\n",
              "  </div>\n",
              "  "
            ]
          },
          "metadata": {},
          "execution_count": 28
        }
      ]
    },
    {
      "cell_type": "code",
      "source": [
        "#create a dataframe as customers with old and new customer names\n",
        "customers = pd.DataFrame(df.id.unique())\n",
        "customers.columns = ['old_customer_name']\n",
        "new_list = list(range(1, len(customers)+1))\n",
        "customers['new_customer_name'] = new_list\n",
        "customers"
      ],
      "metadata": {
        "colab": {
          "base_uri": "https://localhost:8080/",
          "height": 927
        },
        "id": "ihphjvfi1zx-",
        "outputId": "638ee1b6-63bd-477c-de47-a6919d45da7c"
      },
      "execution_count": 29,
      "outputs": [
        {
          "output_type": "execute_result",
          "data": {
            "text/plain": [
              "   old_customer_name  new_customer_name\n",
              "0           4,53E+11                  1\n",
              "1           4,23E+11                  2\n",
              "2           5,91E+11                  3\n",
              "3           8,61E+11                  4\n",
              "4           6,51E+11                  5\n",
              "5        94873707154                  6\n",
              "6           3,09E+11                  7\n",
              "7           2,46E+11                  8\n",
              "8           5,43E+11                  9\n",
              "9           5,81E+11                 10\n",
              "10          5,02E+11                 11\n",
              "11          3,48E+11                 12\n",
              "12          1,00E+12                 13\n",
              "13          5,38E+11                 14\n",
              "14          9,54E+11                 15\n",
              "15          3,31E+11                 16\n",
              "16        1883101787                 17\n",
              "17          8,99E+11                 18\n",
              "18          6,06E+11                 19\n",
              "19          7,91E+11                 20\n",
              "20          5,87E+11                 21\n",
              "21        9813602284                 22\n",
              "22          9,19E+11                 23\n",
              "23          7,04E+11                 24\n",
              "24          8,14E+11                 25\n",
              "25          2,21E+11                 26\n",
              "26       64831300521                 27\n",
              "27          1,79E+11                 28"
            ],
            "text/html": [
              "\n",
              "  <div id=\"df-22fddba4-667f-4069-97d9-e824e1acc1ce\">\n",
              "    <div class=\"colab-df-container\">\n",
              "      <div>\n",
              "<style scoped>\n",
              "    .dataframe tbody tr th:only-of-type {\n",
              "        vertical-align: middle;\n",
              "    }\n",
              "\n",
              "    .dataframe tbody tr th {\n",
              "        vertical-align: top;\n",
              "    }\n",
              "\n",
              "    .dataframe thead th {\n",
              "        text-align: right;\n",
              "    }\n",
              "</style>\n",
              "<table border=\"1\" class=\"dataframe\">\n",
              "  <thead>\n",
              "    <tr style=\"text-align: right;\">\n",
              "      <th></th>\n",
              "      <th>old_customer_name</th>\n",
              "      <th>new_customer_name</th>\n",
              "    </tr>\n",
              "  </thead>\n",
              "  <tbody>\n",
              "    <tr>\n",
              "      <th>0</th>\n",
              "      <td>4,53E+11</td>\n",
              "      <td>1</td>\n",
              "    </tr>\n",
              "    <tr>\n",
              "      <th>1</th>\n",
              "      <td>4,23E+11</td>\n",
              "      <td>2</td>\n",
              "    </tr>\n",
              "    <tr>\n",
              "      <th>2</th>\n",
              "      <td>5,91E+11</td>\n",
              "      <td>3</td>\n",
              "    </tr>\n",
              "    <tr>\n",
              "      <th>3</th>\n",
              "      <td>8,61E+11</td>\n",
              "      <td>4</td>\n",
              "    </tr>\n",
              "    <tr>\n",
              "      <th>4</th>\n",
              "      <td>6,51E+11</td>\n",
              "      <td>5</td>\n",
              "    </tr>\n",
              "    <tr>\n",
              "      <th>5</th>\n",
              "      <td>94873707154</td>\n",
              "      <td>6</td>\n",
              "    </tr>\n",
              "    <tr>\n",
              "      <th>6</th>\n",
              "      <td>3,09E+11</td>\n",
              "      <td>7</td>\n",
              "    </tr>\n",
              "    <tr>\n",
              "      <th>7</th>\n",
              "      <td>2,46E+11</td>\n",
              "      <td>8</td>\n",
              "    </tr>\n",
              "    <tr>\n",
              "      <th>8</th>\n",
              "      <td>5,43E+11</td>\n",
              "      <td>9</td>\n",
              "    </tr>\n",
              "    <tr>\n",
              "      <th>9</th>\n",
              "      <td>5,81E+11</td>\n",
              "      <td>10</td>\n",
              "    </tr>\n",
              "    <tr>\n",
              "      <th>10</th>\n",
              "      <td>5,02E+11</td>\n",
              "      <td>11</td>\n",
              "    </tr>\n",
              "    <tr>\n",
              "      <th>11</th>\n",
              "      <td>3,48E+11</td>\n",
              "      <td>12</td>\n",
              "    </tr>\n",
              "    <tr>\n",
              "      <th>12</th>\n",
              "      <td>1,00E+12</td>\n",
              "      <td>13</td>\n",
              "    </tr>\n",
              "    <tr>\n",
              "      <th>13</th>\n",
              "      <td>5,38E+11</td>\n",
              "      <td>14</td>\n",
              "    </tr>\n",
              "    <tr>\n",
              "      <th>14</th>\n",
              "      <td>9,54E+11</td>\n",
              "      <td>15</td>\n",
              "    </tr>\n",
              "    <tr>\n",
              "      <th>15</th>\n",
              "      <td>3,31E+11</td>\n",
              "      <td>16</td>\n",
              "    </tr>\n",
              "    <tr>\n",
              "      <th>16</th>\n",
              "      <td>1883101787</td>\n",
              "      <td>17</td>\n",
              "    </tr>\n",
              "    <tr>\n",
              "      <th>17</th>\n",
              "      <td>8,99E+11</td>\n",
              "      <td>18</td>\n",
              "    </tr>\n",
              "    <tr>\n",
              "      <th>18</th>\n",
              "      <td>6,06E+11</td>\n",
              "      <td>19</td>\n",
              "    </tr>\n",
              "    <tr>\n",
              "      <th>19</th>\n",
              "      <td>7,91E+11</td>\n",
              "      <td>20</td>\n",
              "    </tr>\n",
              "    <tr>\n",
              "      <th>20</th>\n",
              "      <td>5,87E+11</td>\n",
              "      <td>21</td>\n",
              "    </tr>\n",
              "    <tr>\n",
              "      <th>21</th>\n",
              "      <td>9813602284</td>\n",
              "      <td>22</td>\n",
              "    </tr>\n",
              "    <tr>\n",
              "      <th>22</th>\n",
              "      <td>9,19E+11</td>\n",
              "      <td>23</td>\n",
              "    </tr>\n",
              "    <tr>\n",
              "      <th>23</th>\n",
              "      <td>7,04E+11</td>\n",
              "      <td>24</td>\n",
              "    </tr>\n",
              "    <tr>\n",
              "      <th>24</th>\n",
              "      <td>8,14E+11</td>\n",
              "      <td>25</td>\n",
              "    </tr>\n",
              "    <tr>\n",
              "      <th>25</th>\n",
              "      <td>2,21E+11</td>\n",
              "      <td>26</td>\n",
              "    </tr>\n",
              "    <tr>\n",
              "      <th>26</th>\n",
              "      <td>64831300521</td>\n",
              "      <td>27</td>\n",
              "    </tr>\n",
              "    <tr>\n",
              "      <th>27</th>\n",
              "      <td>1,79E+11</td>\n",
              "      <td>28</td>\n",
              "    </tr>\n",
              "  </tbody>\n",
              "</table>\n",
              "</div>\n",
              "      <button class=\"colab-df-convert\" onclick=\"convertToInteractive('df-22fddba4-667f-4069-97d9-e824e1acc1ce')\"\n",
              "              title=\"Convert this dataframe to an interactive table.\"\n",
              "              style=\"display:none;\">\n",
              "        \n",
              "  <svg xmlns=\"http://www.w3.org/2000/svg\" height=\"24px\"viewBox=\"0 0 24 24\"\n",
              "       width=\"24px\">\n",
              "    <path d=\"M0 0h24v24H0V0z\" fill=\"none\"/>\n",
              "    <path d=\"M18.56 5.44l.94 2.06.94-2.06 2.06-.94-2.06-.94-.94-2.06-.94 2.06-2.06.94zm-11 1L8.5 8.5l.94-2.06 2.06-.94-2.06-.94L8.5 2.5l-.94 2.06-2.06.94zm10 10l.94 2.06.94-2.06 2.06-.94-2.06-.94-.94-2.06-.94 2.06-2.06.94z\"/><path d=\"M17.41 7.96l-1.37-1.37c-.4-.4-.92-.59-1.43-.59-.52 0-1.04.2-1.43.59L10.3 9.45l-7.72 7.72c-.78.78-.78 2.05 0 2.83L4 21.41c.39.39.9.59 1.41.59.51 0 1.02-.2 1.41-.59l7.78-7.78 2.81-2.81c.8-.78.8-2.07 0-2.86zM5.41 20L4 18.59l7.72-7.72 1.47 1.35L5.41 20z\"/>\n",
              "  </svg>\n",
              "      </button>\n",
              "      \n",
              "  <style>\n",
              "    .colab-df-container {\n",
              "      display:flex;\n",
              "      flex-wrap:wrap;\n",
              "      gap: 12px;\n",
              "    }\n",
              "\n",
              "    .colab-df-convert {\n",
              "      background-color: #E8F0FE;\n",
              "      border: none;\n",
              "      border-radius: 50%;\n",
              "      cursor: pointer;\n",
              "      display: none;\n",
              "      fill: #1967D2;\n",
              "      height: 32px;\n",
              "      padding: 0 0 0 0;\n",
              "      width: 32px;\n",
              "    }\n",
              "\n",
              "    .colab-df-convert:hover {\n",
              "      background-color: #E2EBFA;\n",
              "      box-shadow: 0px 1px 2px rgba(60, 64, 67, 0.3), 0px 1px 3px 1px rgba(60, 64, 67, 0.15);\n",
              "      fill: #174EA6;\n",
              "    }\n",
              "\n",
              "    [theme=dark] .colab-df-convert {\n",
              "      background-color: #3B4455;\n",
              "      fill: #D2E3FC;\n",
              "    }\n",
              "\n",
              "    [theme=dark] .colab-df-convert:hover {\n",
              "      background-color: #434B5C;\n",
              "      box-shadow: 0px 1px 3px 1px rgba(0, 0, 0, 0.15);\n",
              "      filter: drop-shadow(0px 1px 2px rgba(0, 0, 0, 0.3));\n",
              "      fill: #FFFFFF;\n",
              "    }\n",
              "  </style>\n",
              "\n",
              "      <script>\n",
              "        const buttonEl =\n",
              "          document.querySelector('#df-22fddba4-667f-4069-97d9-e824e1acc1ce button.colab-df-convert');\n",
              "        buttonEl.style.display =\n",
              "          google.colab.kernel.accessAllowed ? 'block' : 'none';\n",
              "\n",
              "        async function convertToInteractive(key) {\n",
              "          const element = document.querySelector('#df-22fddba4-667f-4069-97d9-e824e1acc1ce');\n",
              "          const dataTable =\n",
              "            await google.colab.kernel.invokeFunction('convertToInteractive',\n",
              "                                                     [key], {});\n",
              "          if (!dataTable) return;\n",
              "\n",
              "          const docLinkHtml = 'Like what you see? Visit the ' +\n",
              "            '<a target=\"_blank\" href=https://colab.research.google.com/notebooks/data_table.ipynb>data table notebook</a>'\n",
              "            + ' to learn more about interactive tables.';\n",
              "          element.innerHTML = '';\n",
              "          dataTable['output_type'] = 'display_data';\n",
              "          await google.colab.output.renderOutput(dataTable, element);\n",
              "          const docLink = document.createElement('div');\n",
              "          docLink.innerHTML = docLinkHtml;\n",
              "          element.appendChild(docLink);\n",
              "        }\n",
              "      </script>\n",
              "    </div>\n",
              "  </div>\n",
              "  "
            ]
          },
          "metadata": {},
          "execution_count": 29
        }
      ]
    },
    {
      "cell_type": "code",
      "source": [
        "# we need to float the type of amount variable\n",
        "for i in range(0,len(df.amount)):\n",
        "    df.amount[i] = df.amount[i].replace('.','').replace(',','.')\n",
        "\n",
        "#I export values containing '-' in the amount variable as df_amount_nan\n",
        "df_amount_nan = df[df.amount == ' -   ']\n",
        "\n",
        "# There are '-' values in the amount column. I am deleting theese rows because we can't convert it to the float type with these values\n",
        "df = df[df.amount != ' -   ']\n",
        "\n",
        "# Now the amount variable is ready to convert to float type.\n",
        "df.amount = df.amount.astype(float)"
      ],
      "metadata": {
        "colab": {
          "base_uri": "https://localhost:8080/"
        },
        "id": "ZtTeNgKb2F5b",
        "outputId": "665e93ec-5aed-4af0-85b6-becb6fde62d2"
      },
      "execution_count": 30,
      "outputs": [
        {
          "output_type": "stream",
          "name": "stderr",
          "text": [
            "/usr/local/lib/python3.7/dist-packages/ipykernel_launcher.py:3: SettingWithCopyWarning: \n",
            "A value is trying to be set on a copy of a slice from a DataFrame\n",
            "\n",
            "See the caveats in the documentation: https://pandas.pydata.org/pandas-docs/stable/user_guide/indexing.html#returning-a-view-versus-a-copy\n",
            "  This is separate from the ipykernel package so we can avoid doing imports until\n",
            "/usr/local/lib/python3.7/dist-packages/pandas/core/generic.py:5516: SettingWithCopyWarning: \n",
            "A value is trying to be set on a copy of a slice from a DataFrame.\n",
            "Try using .loc[row_indexer,col_indexer] = value instead\n",
            "\n",
            "See the caveats in the documentation: https://pandas.pydata.org/pandas-docs/stable/user_guide/indexing.html#returning-a-view-versus-a-copy\n",
            "  self[name] = value\n"
          ]
        }
      ]
    },
    {
      "cell_type": "code",
      "source": [
        "#converting the date variable to date_time format\n",
        "\n",
        "df.date = pd.to_datetime(df.date,dayfirst=True)"
      ],
      "metadata": {
        "id": "ycTMHfPP2T0H"
      },
      "execution_count": 31,
      "outputs": []
    },
    {
      "cell_type": "code",
      "source": [
        "#convert the gender variable to dummy_variable\n",
        "dms = pd.get_dummies(df['gender'])\n",
        "df = pd.concat([df,dms],axis=1)\n",
        "df.drop(['gender', 'M'], axis=1,inplace=True)\n",
        "df.rename(columns={'F': 'Female'}, inplace=True)\n",
        "df"
      ],
      "metadata": {
        "colab": {
          "base_uri": "https://localhost:8080/",
          "height": 748
        },
        "id": "xLXRaIgC2b-1",
        "outputId": "e4763e93-beab-4cf4-d3aa-a1ac091c56f9"
      },
      "execution_count": 32,
      "outputs": [
        {
          "output_type": "execute_result",
          "data": {
            "text/plain": [
              "            id  branch_number                    city state  age  \\\n",
              "0     4,53E+11         201405  CAMPO LIMPO PAULISTA     SP    37   \n",
              "1     4,53E+11         201405  CAMPO LIMPO PAULISTA     SP    37   \n",
              "2     4,53E+11         201405  CAMPO LIMPO PAULISTA     SP    37   \n",
              "3     4,53E+11         201405  CAMPO LIMPO PAULISTA     SP    37   \n",
              "4     4,53E+11         201405  CAMPO LIMPO PAULISTA     SP    37   \n",
              "...        ...            ...                     ...   ...  ...   \n",
              "4950  9,19E+11         201910  SAO PAULO                SP    37   \n",
              "4951  9,19E+11         201910  SAO PAULO                SP    37   \n",
              "4952  9,19E+11         201910  SAO PAULO                SP    37   \n",
              "4953  9,19E+11         201910  SAO PAULO                SP    37   \n",
              "4954  9,19E+11         201910  SAO PAULO                SP    37   \n",
              "\n",
              "      total_credit_card_limit  current_available_limit       date  amount  \\\n",
              "0                        4700                     5605 2019-12-04   31.00   \n",
              "1                        4700                     5343 2019-11-09  150.01   \n",
              "2                        4700                     2829 2019-05-06   50.00   \n",
              "3                        4700                     2547 2019-06-01   54.40   \n",
              "4                        4700                     2515 2019-06-01   32.79   \n",
              "...                       ...                      ...        ...     ...   \n",
              "4950                     8500                     5305 2020-01-23   25.50   \n",
              "4951                     8500                     5266 2020-01-23   39.50   \n",
              "4952                     8500                     5445 2020-02-19   75.56   \n",
              "4953                     8500                     5002 2020-03-30    5.90   \n",
              "4954                     8500                     5222 2020-01-24   43.69   \n",
              "\n",
              "     category_expense  purchase_city purchase_country  Female  \n",
              "0             SERVIO      SAO PAULO               BR       1  \n",
              "1           FARMACIAS         SANTOS               BR       1  \n",
              "2             SERVIO      SAO PAULO               BR       1  \n",
              "3            M.O.T.O.         OSASCO               BR       1  \n",
              "4            M.O.T.O.         OSASCO               BR       1  \n",
              "...               ...            ...              ...     ...  \n",
              "4950      RESTAURANTE      SAO PAULO               BR       0  \n",
              "4951    SUPERMERCADOS      SAO PAULO               BR       0  \n",
              "4952      RESTAURANTE      SAO PAULO               BR       0  \n",
              "4953          SERVIO      SAO PAULO               BR       0  \n",
              "4954         M.O.T.O.  RIO DE JANEIR               BR       0  \n",
              "\n",
              "[4942 rows x 13 columns]"
            ],
            "text/html": [
              "\n",
              "  <div id=\"df-e81500f6-ebe1-4a43-95f6-9fac4110bfd0\">\n",
              "    <div class=\"colab-df-container\">\n",
              "      <div>\n",
              "<style scoped>\n",
              "    .dataframe tbody tr th:only-of-type {\n",
              "        vertical-align: middle;\n",
              "    }\n",
              "\n",
              "    .dataframe tbody tr th {\n",
              "        vertical-align: top;\n",
              "    }\n",
              "\n",
              "    .dataframe thead th {\n",
              "        text-align: right;\n",
              "    }\n",
              "</style>\n",
              "<table border=\"1\" class=\"dataframe\">\n",
              "  <thead>\n",
              "    <tr style=\"text-align: right;\">\n",
              "      <th></th>\n",
              "      <th>id</th>\n",
              "      <th>branch_number</th>\n",
              "      <th>city</th>\n",
              "      <th>state</th>\n",
              "      <th>age</th>\n",
              "      <th>total_credit_card_limit</th>\n",
              "      <th>current_available_limit</th>\n",
              "      <th>date</th>\n",
              "      <th>amount</th>\n",
              "      <th>category_expense</th>\n",
              "      <th>purchase_city</th>\n",
              "      <th>purchase_country</th>\n",
              "      <th>Female</th>\n",
              "    </tr>\n",
              "  </thead>\n",
              "  <tbody>\n",
              "    <tr>\n",
              "      <th>0</th>\n",
              "      <td>4,53E+11</td>\n",
              "      <td>201405</td>\n",
              "      <td>CAMPO LIMPO PAULISTA</td>\n",
              "      <td>SP</td>\n",
              "      <td>37</td>\n",
              "      <td>4700</td>\n",
              "      <td>5605</td>\n",
              "      <td>2019-12-04</td>\n",
              "      <td>31.00</td>\n",
              "      <td>SERVIO</td>\n",
              "      <td>SAO PAULO</td>\n",
              "      <td>BR</td>\n",
              "      <td>1</td>\n",
              "    </tr>\n",
              "    <tr>\n",
              "      <th>1</th>\n",
              "      <td>4,53E+11</td>\n",
              "      <td>201405</td>\n",
              "      <td>CAMPO LIMPO PAULISTA</td>\n",
              "      <td>SP</td>\n",
              "      <td>37</td>\n",
              "      <td>4700</td>\n",
              "      <td>5343</td>\n",
              "      <td>2019-11-09</td>\n",
              "      <td>150.01</td>\n",
              "      <td>FARMACIAS</td>\n",
              "      <td>SANTOS</td>\n",
              "      <td>BR</td>\n",
              "      <td>1</td>\n",
              "    </tr>\n",
              "    <tr>\n",
              "      <th>2</th>\n",
              "      <td>4,53E+11</td>\n",
              "      <td>201405</td>\n",
              "      <td>CAMPO LIMPO PAULISTA</td>\n",
              "      <td>SP</td>\n",
              "      <td>37</td>\n",
              "      <td>4700</td>\n",
              "      <td>2829</td>\n",
              "      <td>2019-05-06</td>\n",
              "      <td>50.00</td>\n",
              "      <td>SERVIO</td>\n",
              "      <td>SAO PAULO</td>\n",
              "      <td>BR</td>\n",
              "      <td>1</td>\n",
              "    </tr>\n",
              "    <tr>\n",
              "      <th>3</th>\n",
              "      <td>4,53E+11</td>\n",
              "      <td>201405</td>\n",
              "      <td>CAMPO LIMPO PAULISTA</td>\n",
              "      <td>SP</td>\n",
              "      <td>37</td>\n",
              "      <td>4700</td>\n",
              "      <td>2547</td>\n",
              "      <td>2019-06-01</td>\n",
              "      <td>54.40</td>\n",
              "      <td>M.O.T.O.</td>\n",
              "      <td>OSASCO</td>\n",
              "      <td>BR</td>\n",
              "      <td>1</td>\n",
              "    </tr>\n",
              "    <tr>\n",
              "      <th>4</th>\n",
              "      <td>4,53E+11</td>\n",
              "      <td>201405</td>\n",
              "      <td>CAMPO LIMPO PAULISTA</td>\n",
              "      <td>SP</td>\n",
              "      <td>37</td>\n",
              "      <td>4700</td>\n",
              "      <td>2515</td>\n",
              "      <td>2019-06-01</td>\n",
              "      <td>32.79</td>\n",
              "      <td>M.O.T.O.</td>\n",
              "      <td>OSASCO</td>\n",
              "      <td>BR</td>\n",
              "      <td>1</td>\n",
              "    </tr>\n",
              "    <tr>\n",
              "      <th>...</th>\n",
              "      <td>...</td>\n",
              "      <td>...</td>\n",
              "      <td>...</td>\n",
              "      <td>...</td>\n",
              "      <td>...</td>\n",
              "      <td>...</td>\n",
              "      <td>...</td>\n",
              "      <td>...</td>\n",
              "      <td>...</td>\n",
              "      <td>...</td>\n",
              "      <td>...</td>\n",
              "      <td>...</td>\n",
              "      <td>...</td>\n",
              "    </tr>\n",
              "    <tr>\n",
              "      <th>4950</th>\n",
              "      <td>9,19E+11</td>\n",
              "      <td>201910</td>\n",
              "      <td>SAO PAULO</td>\n",
              "      <td>SP</td>\n",
              "      <td>37</td>\n",
              "      <td>8500</td>\n",
              "      <td>5305</td>\n",
              "      <td>2020-01-23</td>\n",
              "      <td>25.50</td>\n",
              "      <td>RESTAURANTE</td>\n",
              "      <td>SAO PAULO</td>\n",
              "      <td>BR</td>\n",
              "      <td>0</td>\n",
              "    </tr>\n",
              "    <tr>\n",
              "      <th>4951</th>\n",
              "      <td>9,19E+11</td>\n",
              "      <td>201910</td>\n",
              "      <td>SAO PAULO</td>\n",
              "      <td>SP</td>\n",
              "      <td>37</td>\n",
              "      <td>8500</td>\n",
              "      <td>5266</td>\n",
              "      <td>2020-01-23</td>\n",
              "      <td>39.50</td>\n",
              "      <td>SUPERMERCADOS</td>\n",
              "      <td>SAO PAULO</td>\n",
              "      <td>BR</td>\n",
              "      <td>0</td>\n",
              "    </tr>\n",
              "    <tr>\n",
              "      <th>4952</th>\n",
              "      <td>9,19E+11</td>\n",
              "      <td>201910</td>\n",
              "      <td>SAO PAULO</td>\n",
              "      <td>SP</td>\n",
              "      <td>37</td>\n",
              "      <td>8500</td>\n",
              "      <td>5445</td>\n",
              "      <td>2020-02-19</td>\n",
              "      <td>75.56</td>\n",
              "      <td>RESTAURANTE</td>\n",
              "      <td>SAO PAULO</td>\n",
              "      <td>BR</td>\n",
              "      <td>0</td>\n",
              "    </tr>\n",
              "    <tr>\n",
              "      <th>4953</th>\n",
              "      <td>9,19E+11</td>\n",
              "      <td>201910</td>\n",
              "      <td>SAO PAULO</td>\n",
              "      <td>SP</td>\n",
              "      <td>37</td>\n",
              "      <td>8500</td>\n",
              "      <td>5002</td>\n",
              "      <td>2020-03-30</td>\n",
              "      <td>5.90</td>\n",
              "      <td>SERVIO</td>\n",
              "      <td>SAO PAULO</td>\n",
              "      <td>BR</td>\n",
              "      <td>0</td>\n",
              "    </tr>\n",
              "    <tr>\n",
              "      <th>4954</th>\n",
              "      <td>9,19E+11</td>\n",
              "      <td>201910</td>\n",
              "      <td>SAO PAULO</td>\n",
              "      <td>SP</td>\n",
              "      <td>37</td>\n",
              "      <td>8500</td>\n",
              "      <td>5222</td>\n",
              "      <td>2020-01-24</td>\n",
              "      <td>43.69</td>\n",
              "      <td>M.O.T.O.</td>\n",
              "      <td>RIO DE JANEIR</td>\n",
              "      <td>BR</td>\n",
              "      <td>0</td>\n",
              "    </tr>\n",
              "  </tbody>\n",
              "</table>\n",
              "<p>4942 rows × 13 columns</p>\n",
              "</div>\n",
              "      <button class=\"colab-df-convert\" onclick=\"convertToInteractive('df-e81500f6-ebe1-4a43-95f6-9fac4110bfd0')\"\n",
              "              title=\"Convert this dataframe to an interactive table.\"\n",
              "              style=\"display:none;\">\n",
              "        \n",
              "  <svg xmlns=\"http://www.w3.org/2000/svg\" height=\"24px\"viewBox=\"0 0 24 24\"\n",
              "       width=\"24px\">\n",
              "    <path d=\"M0 0h24v24H0V0z\" fill=\"none\"/>\n",
              "    <path d=\"M18.56 5.44l.94 2.06.94-2.06 2.06-.94-2.06-.94-.94-2.06-.94 2.06-2.06.94zm-11 1L8.5 8.5l.94-2.06 2.06-.94-2.06-.94L8.5 2.5l-.94 2.06-2.06.94zm10 10l.94 2.06.94-2.06 2.06-.94-2.06-.94-.94-2.06-.94 2.06-2.06.94z\"/><path d=\"M17.41 7.96l-1.37-1.37c-.4-.4-.92-.59-1.43-.59-.52 0-1.04.2-1.43.59L10.3 9.45l-7.72 7.72c-.78.78-.78 2.05 0 2.83L4 21.41c.39.39.9.59 1.41.59.51 0 1.02-.2 1.41-.59l7.78-7.78 2.81-2.81c.8-.78.8-2.07 0-2.86zM5.41 20L4 18.59l7.72-7.72 1.47 1.35L5.41 20z\"/>\n",
              "  </svg>\n",
              "      </button>\n",
              "      \n",
              "  <style>\n",
              "    .colab-df-container {\n",
              "      display:flex;\n",
              "      flex-wrap:wrap;\n",
              "      gap: 12px;\n",
              "    }\n",
              "\n",
              "    .colab-df-convert {\n",
              "      background-color: #E8F0FE;\n",
              "      border: none;\n",
              "      border-radius: 50%;\n",
              "      cursor: pointer;\n",
              "      display: none;\n",
              "      fill: #1967D2;\n",
              "      height: 32px;\n",
              "      padding: 0 0 0 0;\n",
              "      width: 32px;\n",
              "    }\n",
              "\n",
              "    .colab-df-convert:hover {\n",
              "      background-color: #E2EBFA;\n",
              "      box-shadow: 0px 1px 2px rgba(60, 64, 67, 0.3), 0px 1px 3px 1px rgba(60, 64, 67, 0.15);\n",
              "      fill: #174EA6;\n",
              "    }\n",
              "\n",
              "    [theme=dark] .colab-df-convert {\n",
              "      background-color: #3B4455;\n",
              "      fill: #D2E3FC;\n",
              "    }\n",
              "\n",
              "    [theme=dark] .colab-df-convert:hover {\n",
              "      background-color: #434B5C;\n",
              "      box-shadow: 0px 1px 3px 1px rgba(0, 0, 0, 0.15);\n",
              "      filter: drop-shadow(0px 1px 2px rgba(0, 0, 0, 0.3));\n",
              "      fill: #FFFFFF;\n",
              "    }\n",
              "  </style>\n",
              "\n",
              "      <script>\n",
              "        const buttonEl =\n",
              "          document.querySelector('#df-e81500f6-ebe1-4a43-95f6-9fac4110bfd0 button.colab-df-convert');\n",
              "        buttonEl.style.display =\n",
              "          google.colab.kernel.accessAllowed ? 'block' : 'none';\n",
              "\n",
              "        async function convertToInteractive(key) {\n",
              "          const element = document.querySelector('#df-e81500f6-ebe1-4a43-95f6-9fac4110bfd0');\n",
              "          const dataTable =\n",
              "            await google.colab.kernel.invokeFunction('convertToInteractive',\n",
              "                                                     [key], {});\n",
              "          if (!dataTable) return;\n",
              "\n",
              "          const docLinkHtml = 'Like what you see? Visit the ' +\n",
              "            '<a target=\"_blank\" href=https://colab.research.google.com/notebooks/data_table.ipynb>data table notebook</a>'\n",
              "            + ' to learn more about interactive tables.';\n",
              "          element.innerHTML = '';\n",
              "          dataTable['output_type'] = 'display_data';\n",
              "          await google.colab.output.renderOutput(dataTable, element);\n",
              "          const docLink = document.createElement('div');\n",
              "          docLink.innerHTML = docLinkHtml;\n",
              "          element.appendChild(docLink);\n",
              "        }\n",
              "      </script>\n",
              "    </div>\n",
              "  </div>\n",
              "  "
            ]
          },
          "metadata": {},
          "execution_count": 32
        }
      ]
    },
    {
      "cell_type": "code",
      "source": [
        "# I look at the total spending of each customer\n",
        "total = df.groupby('id')[['amount']].sum().sort_values('amount',ascending=False)\n",
        "total.rename(columns={'amount': 'Total_spending'}, inplace=True)\n",
        "total"
      ],
      "metadata": {
        "colab": {
          "base_uri": "https://localhost:8080/",
          "height": 959
        },
        "id": "qapX-rCx3etP",
        "outputId": "5569a992-d34a-4c1b-aa53-c95450399b55"
      },
      "execution_count": 33,
      "outputs": [
        {
          "output_type": "execute_result",
          "data": {
            "text/plain": [
              "             Total_spending\n",
              "id                         \n",
              "6,06E+11          151744.49\n",
              "1,00E+12           46792.97\n",
              "3,31E+11           39500.85\n",
              "2,21E+11           37023.41\n",
              "5,02E+11           31114.48\n",
              "8,61E+11           25350.47\n",
              "5,38E+11           21523.28\n",
              "9,54E+11           19785.22\n",
              "8,14E+11           18700.03\n",
              "7,91E+11           16561.81\n",
              "94873707154        15918.58\n",
              "6,51E+11           14267.05\n",
              "5,91E+11           14213.00\n",
              "9813602284         13320.17\n",
              "5,81E+11           13206.96\n",
              "9,19E+11           12377.37\n",
              "4,53E+11           11931.63\n",
              "1883101787         10642.75\n",
              "8,99E+11            9873.89\n",
              "5,43E+11            9348.86\n",
              "1,79E+11            7963.08\n",
              "5,87E+11            7762.95\n",
              "4,23E+11            7699.55\n",
              "3,09E+11            6749.50\n",
              "2,46E+11            6096.40\n",
              "3,48E+11            5627.10\n",
              "64831300521         5191.30\n",
              "7,04E+11            1686.98"
            ],
            "text/html": [
              "\n",
              "  <div id=\"df-7dca094e-7feb-4bdc-bc6f-f803b0805a7e\">\n",
              "    <div class=\"colab-df-container\">\n",
              "      <div>\n",
              "<style scoped>\n",
              "    .dataframe tbody tr th:only-of-type {\n",
              "        vertical-align: middle;\n",
              "    }\n",
              "\n",
              "    .dataframe tbody tr th {\n",
              "        vertical-align: top;\n",
              "    }\n",
              "\n",
              "    .dataframe thead th {\n",
              "        text-align: right;\n",
              "    }\n",
              "</style>\n",
              "<table border=\"1\" class=\"dataframe\">\n",
              "  <thead>\n",
              "    <tr style=\"text-align: right;\">\n",
              "      <th></th>\n",
              "      <th>Total_spending</th>\n",
              "    </tr>\n",
              "    <tr>\n",
              "      <th>id</th>\n",
              "      <th></th>\n",
              "    </tr>\n",
              "  </thead>\n",
              "  <tbody>\n",
              "    <tr>\n",
              "      <th>6,06E+11</th>\n",
              "      <td>151744.49</td>\n",
              "    </tr>\n",
              "    <tr>\n",
              "      <th>1,00E+12</th>\n",
              "      <td>46792.97</td>\n",
              "    </tr>\n",
              "    <tr>\n",
              "      <th>3,31E+11</th>\n",
              "      <td>39500.85</td>\n",
              "    </tr>\n",
              "    <tr>\n",
              "      <th>2,21E+11</th>\n",
              "      <td>37023.41</td>\n",
              "    </tr>\n",
              "    <tr>\n",
              "      <th>5,02E+11</th>\n",
              "      <td>31114.48</td>\n",
              "    </tr>\n",
              "    <tr>\n",
              "      <th>8,61E+11</th>\n",
              "      <td>25350.47</td>\n",
              "    </tr>\n",
              "    <tr>\n",
              "      <th>5,38E+11</th>\n",
              "      <td>21523.28</td>\n",
              "    </tr>\n",
              "    <tr>\n",
              "      <th>9,54E+11</th>\n",
              "      <td>19785.22</td>\n",
              "    </tr>\n",
              "    <tr>\n",
              "      <th>8,14E+11</th>\n",
              "      <td>18700.03</td>\n",
              "    </tr>\n",
              "    <tr>\n",
              "      <th>7,91E+11</th>\n",
              "      <td>16561.81</td>\n",
              "    </tr>\n",
              "    <tr>\n",
              "      <th>94873707154</th>\n",
              "      <td>15918.58</td>\n",
              "    </tr>\n",
              "    <tr>\n",
              "      <th>6,51E+11</th>\n",
              "      <td>14267.05</td>\n",
              "    </tr>\n",
              "    <tr>\n",
              "      <th>5,91E+11</th>\n",
              "      <td>14213.00</td>\n",
              "    </tr>\n",
              "    <tr>\n",
              "      <th>9813602284</th>\n",
              "      <td>13320.17</td>\n",
              "    </tr>\n",
              "    <tr>\n",
              "      <th>5,81E+11</th>\n",
              "      <td>13206.96</td>\n",
              "    </tr>\n",
              "    <tr>\n",
              "      <th>9,19E+11</th>\n",
              "      <td>12377.37</td>\n",
              "    </tr>\n",
              "    <tr>\n",
              "      <th>4,53E+11</th>\n",
              "      <td>11931.63</td>\n",
              "    </tr>\n",
              "    <tr>\n",
              "      <th>1883101787</th>\n",
              "      <td>10642.75</td>\n",
              "    </tr>\n",
              "    <tr>\n",
              "      <th>8,99E+11</th>\n",
              "      <td>9873.89</td>\n",
              "    </tr>\n",
              "    <tr>\n",
              "      <th>5,43E+11</th>\n",
              "      <td>9348.86</td>\n",
              "    </tr>\n",
              "    <tr>\n",
              "      <th>1,79E+11</th>\n",
              "      <td>7963.08</td>\n",
              "    </tr>\n",
              "    <tr>\n",
              "      <th>5,87E+11</th>\n",
              "      <td>7762.95</td>\n",
              "    </tr>\n",
              "    <tr>\n",
              "      <th>4,23E+11</th>\n",
              "      <td>7699.55</td>\n",
              "    </tr>\n",
              "    <tr>\n",
              "      <th>3,09E+11</th>\n",
              "      <td>6749.50</td>\n",
              "    </tr>\n",
              "    <tr>\n",
              "      <th>2,46E+11</th>\n",
              "      <td>6096.40</td>\n",
              "    </tr>\n",
              "    <tr>\n",
              "      <th>3,48E+11</th>\n",
              "      <td>5627.10</td>\n",
              "    </tr>\n",
              "    <tr>\n",
              "      <th>64831300521</th>\n",
              "      <td>5191.30</td>\n",
              "    </tr>\n",
              "    <tr>\n",
              "      <th>7,04E+11</th>\n",
              "      <td>1686.98</td>\n",
              "    </tr>\n",
              "  </tbody>\n",
              "</table>\n",
              "</div>\n",
              "      <button class=\"colab-df-convert\" onclick=\"convertToInteractive('df-7dca094e-7feb-4bdc-bc6f-f803b0805a7e')\"\n",
              "              title=\"Convert this dataframe to an interactive table.\"\n",
              "              style=\"display:none;\">\n",
              "        \n",
              "  <svg xmlns=\"http://www.w3.org/2000/svg\" height=\"24px\"viewBox=\"0 0 24 24\"\n",
              "       width=\"24px\">\n",
              "    <path d=\"M0 0h24v24H0V0z\" fill=\"none\"/>\n",
              "    <path d=\"M18.56 5.44l.94 2.06.94-2.06 2.06-.94-2.06-.94-.94-2.06-.94 2.06-2.06.94zm-11 1L8.5 8.5l.94-2.06 2.06-.94-2.06-.94L8.5 2.5l-.94 2.06-2.06.94zm10 10l.94 2.06.94-2.06 2.06-.94-2.06-.94-.94-2.06-.94 2.06-2.06.94z\"/><path d=\"M17.41 7.96l-1.37-1.37c-.4-.4-.92-.59-1.43-.59-.52 0-1.04.2-1.43.59L10.3 9.45l-7.72 7.72c-.78.78-.78 2.05 0 2.83L4 21.41c.39.39.9.59 1.41.59.51 0 1.02-.2 1.41-.59l7.78-7.78 2.81-2.81c.8-.78.8-2.07 0-2.86zM5.41 20L4 18.59l7.72-7.72 1.47 1.35L5.41 20z\"/>\n",
              "  </svg>\n",
              "      </button>\n",
              "      \n",
              "  <style>\n",
              "    .colab-df-container {\n",
              "      display:flex;\n",
              "      flex-wrap:wrap;\n",
              "      gap: 12px;\n",
              "    }\n",
              "\n",
              "    .colab-df-convert {\n",
              "      background-color: #E8F0FE;\n",
              "      border: none;\n",
              "      border-radius: 50%;\n",
              "      cursor: pointer;\n",
              "      display: none;\n",
              "      fill: #1967D2;\n",
              "      height: 32px;\n",
              "      padding: 0 0 0 0;\n",
              "      width: 32px;\n",
              "    }\n",
              "\n",
              "    .colab-df-convert:hover {\n",
              "      background-color: #E2EBFA;\n",
              "      box-shadow: 0px 1px 2px rgba(60, 64, 67, 0.3), 0px 1px 3px 1px rgba(60, 64, 67, 0.15);\n",
              "      fill: #174EA6;\n",
              "    }\n",
              "\n",
              "    [theme=dark] .colab-df-convert {\n",
              "      background-color: #3B4455;\n",
              "      fill: #D2E3FC;\n",
              "    }\n",
              "\n",
              "    [theme=dark] .colab-df-convert:hover {\n",
              "      background-color: #434B5C;\n",
              "      box-shadow: 0px 1px 3px 1px rgba(0, 0, 0, 0.15);\n",
              "      filter: drop-shadow(0px 1px 2px rgba(0, 0, 0, 0.3));\n",
              "      fill: #FFFFFF;\n",
              "    }\n",
              "  </style>\n",
              "\n",
              "      <script>\n",
              "        const buttonEl =\n",
              "          document.querySelector('#df-7dca094e-7feb-4bdc-bc6f-f803b0805a7e button.colab-df-convert');\n",
              "        buttonEl.style.display =\n",
              "          google.colab.kernel.accessAllowed ? 'block' : 'none';\n",
              "\n",
              "        async function convertToInteractive(key) {\n",
              "          const element = document.querySelector('#df-7dca094e-7feb-4bdc-bc6f-f803b0805a7e');\n",
              "          const dataTable =\n",
              "            await google.colab.kernel.invokeFunction('convertToInteractive',\n",
              "                                                     [key], {});\n",
              "          if (!dataTable) return;\n",
              "\n",
              "          const docLinkHtml = 'Like what you see? Visit the ' +\n",
              "            '<a target=\"_blank\" href=https://colab.research.google.com/notebooks/data_table.ipynb>data table notebook</a>'\n",
              "            + ' to learn more about interactive tables.';\n",
              "          element.innerHTML = '';\n",
              "          dataTable['output_type'] = 'display_data';\n",
              "          await google.colab.output.renderOutput(dataTable, element);\n",
              "          const docLink = document.createElement('div');\n",
              "          docLink.innerHTML = docLinkHtml;\n",
              "          element.appendChild(docLink);\n",
              "        }\n",
              "      </script>\n",
              "    </div>\n",
              "  </div>\n",
              "  "
            ]
          },
          "metadata": {},
          "execution_count": 33
        }
      ]
    },
    {
      "cell_type": "code",
      "source": [
        "\n",
        "# I want to look at the total expense in each category\n",
        "categ = df.category_expense.value_counts().sort_values(ascending=False)\n",
        "\n",
        "\n",
        "plt.figure(figsize=(15,10))\n",
        "sns.barplot(x=categ.index,y=categ.values)\n",
        "plt.xlabel('Cataegories')\n",
        "plt.ylabel('Count')\n",
        "plt.title(\"Cataegories Count\")\n",
        "plt.xticks(rotation= 45);"
      ],
      "metadata": {
        "colab": {
          "base_uri": "https://localhost:8080/",
          "height": 774
        },
        "id": "OB1VQHGt2owe",
        "outputId": "a4e804ad-f98f-4ebc-a9c2-518965be7685"
      },
      "execution_count": 34,
      "outputs": [
        {
          "output_type": "stream",
          "name": "stderr",
          "text": [
            "/usr/local/lib/python3.7/dist-packages/matplotlib/backends/backend_agg.py:214: RuntimeWarning: Glyph 130 missing from current font.\n",
            "  font.set_text(s, 0.0, flags=flags)\n",
            "/usr/local/lib/python3.7/dist-packages/matplotlib/backends/backend_agg.py:183: RuntimeWarning: Glyph 130 missing from current font.\n",
            "  font.set_text(s, 0, flags=flags)\n"
          ]
        },
        {
          "output_type": "display_data",
          "data": {
            "text/plain": [
              "<Figure size 1080x720 with 1 Axes>"
            ],
            "image/png": "[encoded data removed]"
          },
          "metadata": {
            "needs_background": "light"
          }
        }
      ]
    },
    {
      "cell_type": "code",
      "source": [
        "#the number of transactions each client has with a credit card\n",
        "freq = df.groupby('id')[['amount']].count().sort_values('amount',ascending=False)\n",
        "freq.rename(columns={'amount': 'Frequency'}, inplace=True)\n",
        "freq"
      ],
      "metadata": {
        "colab": {
          "base_uri": "https://localhost:8080/",
          "height": 959
        },
        "id": "yatiBEUs2-3V",
        "outputId": "06e5285d-f703-476e-9ff9-60a3f4799869"
      },
      "execution_count": 35,
      "outputs": [
        {
          "output_type": "execute_result",
          "data": {
            "text/plain": [
              "             Frequency\n",
              "id                    \n",
              "5,02E+11           694\n",
              "6,51E+11           510\n",
              "3,31E+11           457\n",
              "2,21E+11           268\n",
              "94873707154        257\n",
              "5,38E+11           257\n",
              "6,06E+11           249\n",
              "5,91E+11           209\n",
              "9,54E+11           192\n",
              "8,14E+11           192\n",
              "9,19E+11           187\n",
              "1,00E+12           150\n",
              "7,91E+11           138\n",
              "4,53E+11           125\n",
              "3,48E+11           119\n",
              "5,87E+11           108\n",
              "5,43E+11           107\n",
              "8,61E+11           107\n",
              "8,99E+11           106\n",
              "64831300521         85\n",
              "4,23E+11            81\n",
              "5,81E+11            78\n",
              "9813602284          66\n",
              "1,79E+11            59\n",
              "1883101787          52\n",
              "3,09E+11            39\n",
              "2,46E+11            29\n",
              "7,04E+11            21"
            ],
            "text/html": [
              "\n",
              "  <div id=\"df-f81732fb-0390-4f51-89e4-c3c10ed9bbcf\">\n",
              "    <div class=\"colab-df-container\">\n",
              "      <div>\n",
              "<style scoped>\n",
              "    .dataframe tbody tr th:only-of-type {\n",
              "        vertical-align: middle;\n",
              "    }\n",
              "\n",
              "    .dataframe tbody tr th {\n",
              "        vertical-align: top;\n",
              "    }\n",
              "\n",
              "    .dataframe thead th {\n",
              "        text-align: right;\n",
              "    }\n",
              "</style>\n",
              "<table border=\"1\" class=\"dataframe\">\n",
              "  <thead>\n",
              "    <tr style=\"text-align: right;\">\n",
              "      <th></th>\n",
              "      <th>Frequency</th>\n",
              "    </tr>\n",
              "    <tr>\n",
              "      <th>id</th>\n",
              "      <th></th>\n",
              "    </tr>\n",
              "  </thead>\n",
              "  <tbody>\n",
              "    <tr>\n",
              "      <th>5,02E+11</th>\n",
              "      <td>694</td>\n",
              "    </tr>\n",
              "    <tr>\n",
              "      <th>6,51E+11</th>\n",
              "      <td>510</td>\n",
              "    </tr>\n",
              "    <tr>\n",
              "      <th>3,31E+11</th>\n",
              "      <td>457</td>\n",
              "    </tr>\n",
              "    <tr>\n",
              "      <th>2,21E+11</th>\n",
              "      <td>268</td>\n",
              "    </tr>\n",
              "    <tr>\n",
              "      <th>94873707154</th>\n",
              "      <td>257</td>\n",
              "    </tr>\n",
              "    <tr>\n",
              "      <th>5,38E+11</th>\n",
              "      <td>257</td>\n",
              "    </tr>\n",
              "    <tr>\n",
              "      <th>6,06E+11</th>\n",
              "      <td>249</td>\n",
              "    </tr>\n",
              "    <tr>\n",
              "      <th>5,91E+11</th>\n",
              "      <td>209</td>\n",
              "    </tr>\n",
              "    <tr>\n",
              "      <th>9,54E+11</th>\n",
              "      <td>192</td>\n",
              "    </tr>\n",
              "    <tr>\n",
              "      <th>8,14E+11</th>\n",
              "      <td>192</td>\n",
              "    </tr>\n",
              "    <tr>\n",
              "      <th>9,19E+11</th>\n",
              "      <td>187</td>\n",
              "    </tr>\n",
              "    <tr>\n",
              "      <th>1,00E+12</th>\n",
              "      <td>150</td>\n",
              "    </tr>\n",
              "    <tr>\n",
              "      <th>7,91E+11</th>\n",
              "      <td>138</td>\n",
              "    </tr>\n",
              "    <tr>\n",
              "      <th>4,53E+11</th>\n",
              "      <td>125</td>\n",
              "    </tr>\n",
              "    <tr>\n",
              "      <th>3,48E+11</th>\n",
              "      <td>119</td>\n",
              "    </tr>\n",
              "    <tr>\n",
              "      <th>5,87E+11</th>\n",
              "      <td>108</td>\n",
              "    </tr>\n",
              "    <tr>\n",
              "      <th>5,43E+11</th>\n",
              "      <td>107</td>\n",
              "    </tr>\n",
              "    <tr>\n",
              "      <th>8,61E+11</th>\n",
              "      <td>107</td>\n",
              "    </tr>\n",
              "    <tr>\n",
              "      <th>8,99E+11</th>\n",
              "      <td>106</td>\n",
              "    </tr>\n",
              "    <tr>\n",
              "      <th>64831300521</th>\n",
              "      <td>85</td>\n",
              "    </tr>\n",
              "    <tr>\n",
              "      <th>4,23E+11</th>\n",
              "      <td>81</td>\n",
              "    </tr>\n",
              "    <tr>\n",
              "      <th>5,81E+11</th>\n",
              "      <td>78</td>\n",
              "    </tr>\n",
              "    <tr>\n",
              "      <th>9813602284</th>\n",
              "      <td>66</td>\n",
              "    </tr>\n",
              "    <tr>\n",
              "      <th>1,79E+11</th>\n",
              "      <td>59</td>\n",
              "    </tr>\n",
              "    <tr>\n",
              "      <th>1883101787</th>\n",
              "      <td>52</td>\n",
              "    </tr>\n",
              "    <tr>\n",
              "      <th>3,09E+11</th>\n",
              "      <td>39</td>\n",
              "    </tr>\n",
              "    <tr>\n",
              "      <th>2,46E+11</th>\n",
              "      <td>29</td>\n",
              "    </tr>\n",
              "    <tr>\n",
              "      <th>7,04E+11</th>\n",
              "      <td>21</td>\n",
              "    </tr>\n",
              "  </tbody>\n",
              "</table>\n",
              "</div>\n",
              "      <button class=\"colab-df-convert\" onclick=\"convertToInteractive('df-f81732fb-0390-4f51-89e4-c3c10ed9bbcf')\"\n",
              "              title=\"Convert this dataframe to an interactive table.\"\n",
              "              style=\"display:none;\">\n",
              "        \n",
              "  <svg xmlns=\"http://www.w3.org/2000/svg\" height=\"24px\"viewBox=\"0 0 24 24\"\n",
              "       width=\"24px\">\n",
              "    <path d=\"M0 0h24v24H0V0z\" fill=\"none\"/>\n",
              "    <path d=\"M18.56 5.44l.94 2.06.94-2.06 2.06-.94-2.06-.94-.94-2.06-.94 2.06-2.06.94zm-11 1L8.5 8.5l.94-2.06 2.06-.94-2.06-.94L8.5 2.5l-.94 2.06-2.06.94zm10 10l.94 2.06.94-2.06 2.06-.94-2.06-.94-.94-2.06-.94 2.06-2.06.94z\"/><path d=\"M17.41 7.96l-1.37-1.37c-.4-.4-.92-.59-1.43-.59-.52 0-1.04.2-1.43.59L10.3 9.45l-7.72 7.72c-.78.78-.78 2.05 0 2.83L4 21.41c.39.39.9.59 1.41.59.51 0 1.02-.2 1.41-.59l7.78-7.78 2.81-2.81c.8-.78.8-2.07 0-2.86zM5.41 20L4 18.59l7.72-7.72 1.47 1.35L5.41 20z\"/>\n",
              "  </svg>\n",
              "      </button>\n",
              "      \n",
              "  <style>\n",
              "    .colab-df-container {\n",
              "      display:flex;\n",
              "      flex-wrap:wrap;\n",
              "      gap: 12px;\n",
              "    }\n",
              "\n",
              "    .colab-df-convert {\n",
              "      background-color: #E8F0FE;\n",
              "      border: none;\n",
              "      border-radius: 50%;\n",
              "      cursor: pointer;\n",
              "      display: none;\n",
              "      fill: #1967D2;\n",
              "      height: 32px;\n",
              "      padding: 0 0 0 0;\n",
              "      width: 32px;\n",
              "    }\n",
              "\n",
              "    .colab-df-convert:hover {\n",
              "      background-color: #E2EBFA;\n",
              "      box-shadow: 0px 1px 2px rgba(60, 64, 67, 0.3), 0px 1px 3px 1px rgba(60, 64, 67, 0.15);\n",
              "      fill: #174EA6;\n",
              "    }\n",
              "\n",
              "    [theme=dark] .colab-df-convert {\n",
              "      background-color: #3B4455;\n",
              "      fill: #D2E3FC;\n",
              "    }\n",
              "\n",
              "    [theme=dark] .colab-df-convert:hover {\n",
              "      background-color: #434B5C;\n",
              "      box-shadow: 0px 1px 3px 1px rgba(0, 0, 0, 0.15);\n",
              "      filter: drop-shadow(0px 1px 2px rgba(0, 0, 0, 0.3));\n",
              "      fill: #FFFFFF;\n",
              "    }\n",
              "  </style>\n",
              "\n",
              "      <script>\n",
              "        const buttonEl =\n",
              "          document.querySelector('#df-f81732fb-0390-4f51-89e4-c3c10ed9bbcf button.colab-df-convert');\n",
              "        buttonEl.style.display =\n",
              "          google.colab.kernel.accessAllowed ? 'block' : 'none';\n",
              "\n",
              "        async function convertToInteractive(key) {\n",
              "          const element = document.querySelector('#df-f81732fb-0390-4f51-89e4-c3c10ed9bbcf');\n",
              "          const dataTable =\n",
              "            await google.colab.kernel.invokeFunction('convertToInteractive',\n",
              "                                                     [key], {});\n",
              "          if (!dataTable) return;\n",
              "\n",
              "          const docLinkHtml = 'Like what you see? Visit the ' +\n",
              "            '<a target=\"_blank\" href=https://colab.research.google.com/notebooks/data_table.ipynb>data table notebook</a>'\n",
              "            + ' to learn more about interactive tables.';\n",
              "          element.innerHTML = '';\n",
              "          dataTable['output_type'] = 'display_data';\n",
              "          await google.colab.output.renderOutput(dataTable, element);\n",
              "          const docLink = document.createElement('div');\n",
              "          docLink.innerHTML = docLinkHtml;\n",
              "          element.appendChild(docLink);\n",
              "        }\n",
              "      </script>\n",
              "    </div>\n",
              "  </div>\n",
              "  "
            ]
          },
          "metadata": {},
          "execution_count": 35
        }
      ]
    },
    {
      "cell_type": "code",
      "source": [
        "#look at the total spending of each customer\n",
        "plt.figure(figsize=(15,10))\n",
        "sns.barplot(x=total.index,y=total['Total_spending'])\n",
        "plt.xlabel('Customers')\n",
        "plt.ylabel('Total Spending')\n",
        "plt.title(\"Total Spending vs Customers\")\n",
        "plt.xticks(rotation= 45);"
      ],
      "metadata": {
        "colab": {
          "base_uri": "https://localhost:8080/",
          "height": 668
        },
        "id": "eZf9Toal3Jfk",
        "outputId": "3bdc978b-3e3c-44ed-9819-df83a81ece4d"
      },
      "execution_count": 36,
      "outputs": [
        {
          "output_type": "display_data",
          "data": {
            "text/plain": [
              "<Figure size 1080x720 with 1 Axes>"
            ],
            "image/png": "[encoded data removed]"
          },
          "metadata": {
            "needs_background": "light"
          }
        }
      ]
    },
    {
      "cell_type": "code",
      "source": [
        "# Scatter and density plots\n",
        "def plotScatterMatrix(df, plotSize, textSize):\n",
        "    df = df.select_dtypes(include =[np.number]) # keep only numerical columns\n",
        "    # Remove rows and columns that would lead to df being singular\n",
        "    df = df.dropna('columns')\n",
        "    df = df[[col for col in df if df[col].nunique() > 1]] # keep columns where there are more than 1 unique values\n",
        "    columnNames = list(df)\n",
        "    if len(columnNames) > 10: # reduce the number of columns for matrix inversion of kernel density plots\n",
        "        columnNames = columnNames[:10]\n",
        "    df = df[columnNames]\n",
        "    ax = pd.plotting.scatter_matrix(df, alpha=0.75, figsize=[plotSize, plotSize], diagonal='kde')\n",
        "    corrs = df.corr().values\n",
        "    for i, j in zip(*plt.np.triu_indices_from(ax, k = 1)):\n",
        "        ax[i, j].annotate('Corr. coef = %.3f' % corrs[i, j], (0.8, 0.2), xycoords='axes fraction', ha='center', va='center', size=textSize)\n",
        "    plt.suptitle('Scatter and Density Plot')\n",
        "    plt.show()"
      ],
      "metadata": {
        "id": "9kDTIlvu3Jkv"
      },
      "execution_count": 37,
      "outputs": []
    },
    {
      "cell_type": "code",
      "source": [
        "#correlation between variables \n",
        "plotScatterMatrix(df, 15, 10)"
      ],
      "metadata": {
        "colab": {
          "base_uri": "https://localhost:8080/",
          "height": 1000
        },
        "id": "k8TzrnkG6h3Y",
        "outputId": "ff440b00-e87c-4305-8414-8d1133193e4f"
      },
      "execution_count": 38,
      "outputs": [
        {
          "output_type": "stream",
          "name": "stderr",
          "text": [
            "/usr/local/lib/python3.7/dist-packages/ipykernel_launcher.py:5: FutureWarning: In a future version of pandas all arguments of DataFrame.dropna will be keyword-only\n",
            "  \"\"\"\n"
          ]
        },
        {
          "output_type": "display_data",
          "data": {
            "text/plain": [
              "<Figure size 1080x1080 with 36 Axes>"
            ],
            "image/png": "[encoded data removed]"
          },
          "metadata": {
            "needs_background": "light"
          }
        }
      ]
    },
    {
      "cell_type": "code",
      "source": [
        "# Distribution graphs (histogram/bar graph) of column data\n",
        "def plotPerColumnDistribution(df, nGraphShown, nGraphPerRow):\n",
        "    nunique = df.nunique()\n",
        "    df = df[[col for col in df if nunique[col] > 1 and nunique[col] < 50]] # For displaying purposes, pick columns that have between 1 and 50 unique values\n",
        "    nRow, nCol = df.shape\n",
        "    columnNames = list(df)\n",
        "    nGraphRow = (nCol + nGraphPerRow - 1) / nGraphPerRow\n",
        "    plt.figure(num = None, figsize = (6 * nGraphPerRow, 8 * nGraphRow), dpi = 80, facecolor = 'w', edgecolor = 'k')\n",
        "    for i in range(min(nCol, nGraphShown)):\n",
        "        plt.subplot(nGraphRow, nGraphPerRow, i + 1)\n",
        "        columnDf = df.iloc[:, i]\n",
        "        if (not np.issubdtype(type(columnDf.iloc[0]), np.number)):\n",
        "            valueCounts = columnDf.value_counts()\n",
        "            valueCounts.plot.bar()\n",
        "        else:\n",
        "            columnDf.hist()\n",
        "        plt.ylabel('counts')\n",
        "        plt.xticks(rotation = 90)\n",
        "        plt.title(f'{columnNames[i]} (column {i})')\n",
        "    plt.tight_layout(pad = 1.0, w_pad = 1.0, h_pad = 1.0)\n",
        "    plt.show()\n",
        "# Correlation matrix"
      ],
      "metadata": {
        "id": "GI_CKD9w7mHr"
      },
      "execution_count": 39,
      "outputs": []
    },
    {
      "cell_type": "code",
      "source": [
        "plotPerColumnDistribution(df, 10, 5)"
      ],
      "metadata": {
        "colab": {
          "base_uri": "https://localhost:8080/",
          "height": 709
        },
        "id": "8wYkGKAH7tuw",
        "outputId": "489e4563-c734-461c-f776-358e2a3e1787"
      },
      "execution_count": 40,
      "outputs": [
        {
          "output_type": "stream",
          "name": "stderr",
          "text": [
            "/usr/local/lib/python3.7/dist-packages/matplotlib/backends/backend_agg.py:214: RuntimeWarning: Glyph 130 missing from current font.\n",
            "  font.set_text(s, 0.0, flags=flags)\n",
            "/usr/local/lib/python3.7/dist-packages/matplotlib/backends/backend_agg.py:183: RuntimeWarning: Glyph 130 missing from current font.\n",
            "  font.set_text(s, 0, flags=flags)\n"
          ]
        },
        {
          "output_type": "display_data",
          "data": {
            "text/plain": [
              "<Figure size 2400x1536 with 8 Axes>"
            ],
            "image/png": "[encoded data removed]"
          },
          "metadata": {}
        }
      ]
    },
    {
      "cell_type": "code",
      "source": [
        "df.corr()"
      ],
      "metadata": {
        "colab": {
          "base_uri": "https://localhost:8080/",
          "height": 238
        },
        "id": "uFk2m62h8o_G",
        "outputId": "be843326-4f60-4c31-e1a9-decfd451ebb3"
      },
      "execution_count": 41,
      "outputs": [
        {
          "output_type": "execute_result",
          "data": {
            "text/plain": [
              "                         branch_number       age  total_credit_card_limit  \\\n",
              "branch_number                 1.000000 -0.365763                -0.194742   \n",
              "age                          -0.365763  1.000000                 0.554631   \n",
              "total_credit_card_limit      -0.194742  0.554631                 1.000000   \n",
              "current_available_limit      -0.335052  0.519919                 0.938872   \n",
              "amount                       -0.005254  0.111993                 0.186453   \n",
              "Female                        0.109896 -0.094320                -0.428910   \n",
              "\n",
              "                         current_available_limit    amount    Female  \n",
              "branch_number                          -0.335052 -0.005254  0.109896  \n",
              "age                                     0.519919  0.111993 -0.094320  \n",
              "total_credit_card_limit                 0.938872  0.186453 -0.428910  \n",
              "current_available_limit                 1.000000  0.114712 -0.407079  \n",
              "amount                                  0.114712  1.000000 -0.058389  \n",
              "Female                                 -0.407079 -0.058389  1.000000  "
            ],
            "text/html": [
              "\n",
              "  <div id=\"df-a4183054-b575-4122-9fca-8989e168b291\">\n",
              "    <div class=\"colab-df-container\">\n",
              "      <div>\n",
              "<style scoped>\n",
              "    .dataframe tbody tr th:only-of-type {\n",
              "        vertical-align: middle;\n",
              "    }\n",
              "\n",
              "    .dataframe tbody tr th {\n",
              "        vertical-align: top;\n",
              "    }\n",
              "\n",
              "    .dataframe thead th {\n",
              "        text-align: right;\n",
              "    }\n",
              "</style>\n",
              "<table border=\"1\" class=\"dataframe\">\n",
              "  <thead>\n",
              "    <tr style=\"text-align: right;\">\n",
              "      <th></th>\n",
              "      <th>branch_number</th>\n",
              "      <th>age</th>\n",
              "      <th>total_credit_card_limit</th>\n",
              "      <th>current_available_limit</th>\n",
              "      <th>amount</th>\n",
              "      <th>Female</th>\n",
              "    </tr>\n",
              "  </thead>\n",
              "  <tbody>\n",
              "    <tr>\n",
              "      <th>branch_number</th>\n",
              "      <td>1.000000</td>\n",
              "      <td>-0.365763</td>\n",
              "      <td>-0.194742</td>\n",
              "      <td>-0.335052</td>\n",
              "      <td>-0.005254</td>\n",
              "      <td>0.109896</td>\n",
              "    </tr>\n",
              "    <tr>\n",
              "      <th>age</th>\n",
              "      <td>-0.365763</td>\n",
              "      <td>1.000000</td>\n",
              "      <td>0.554631</td>\n",
              "      <td>0.519919</td>\n",
              "      <td>0.111993</td>\n",
              "      <td>-0.094320</td>\n",
              "    </tr>\n",
              "    <tr>\n",
              "      <th>total_credit_card_limit</th>\n",
              "      <td>-0.194742</td>\n",
              "      <td>0.554631</td>\n",
              "      <td>1.000000</td>\n",
              "      <td>0.938872</td>\n",
              "      <td>0.186453</td>\n",
              "      <td>-0.428910</td>\n",
              "    </tr>\n",
              "    <tr>\n",
              "      <th>current_available_limit</th>\n",
              "      <td>-0.335052</td>\n",
              "      <td>0.519919</td>\n",
              "      <td>0.938872</td>\n",
              "      <td>1.000000</td>\n",
              "      <td>0.114712</td>\n",
              "      <td>-0.407079</td>\n",
              "    </tr>\n",
              "    <tr>\n",
              "      <th>amount</th>\n",
              "      <td>-0.005254</td>\n",
              "      <td>0.111993</td>\n",
              "      <td>0.186453</td>\n",
              "      <td>0.114712</td>\n",
              "      <td>1.000000</td>\n",
              "      <td>-0.058389</td>\n",
              "    </tr>\n",
              "    <tr>\n",
              "      <th>Female</th>\n",
              "      <td>0.109896</td>\n",
              "      <td>-0.094320</td>\n",
              "      <td>-0.428910</td>\n",
              "      <td>-0.407079</td>\n",
              "      <td>-0.058389</td>\n",
              "      <td>1.000000</td>\n",
              "    </tr>\n",
              "  </tbody>\n",
              "</table>\n",
              "</div>\n",
              "      <button class=\"colab-df-convert\" onclick=\"convertToInteractive('df-a4183054-b575-4122-9fca-8989e168b291')\"\n",
              "              title=\"Convert this dataframe to an interactive table.\"\n",
              "              style=\"display:none;\">\n",
              "        \n",
              "  <svg xmlns=\"http://www.w3.org/2000/svg\" height=\"24px\"viewBox=\"0 0 24 24\"\n",
              "       width=\"24px\">\n",
              "    <path d=\"M0 0h24v24H0V0z\" fill=\"none\"/>\n",
              "    <path d=\"M18.56 5.44l.94 2.06.94-2.06 2.06-.94-2.06-.94-.94-2.06-.94 2.06-2.06.94zm-11 1L8.5 8.5l.94-2.06 2.06-.94-2.06-.94L8.5 2.5l-.94 2.06-2.06.94zm10 10l.94 2.06.94-2.06 2.06-.94-2.06-.94-.94-2.06-.94 2.06-2.06.94z\"/><path d=\"M17.41 7.96l-1.37-1.37c-.4-.4-.92-.59-1.43-.59-.52 0-1.04.2-1.43.59L10.3 9.45l-7.72 7.72c-.78.78-.78 2.05 0 2.83L4 21.41c.39.39.9.59 1.41.59.51 0 1.02-.2 1.41-.59l7.78-7.78 2.81-2.81c.8-.78.8-2.07 0-2.86zM5.41 20L4 18.59l7.72-7.72 1.47 1.35L5.41 20z\"/>\n",
              "  </svg>\n",
              "      </button>\n",
              "      \n",
              "  <style>\n",
              "    .colab-df-container {\n",
              "      display:flex;\n",
              "      flex-wrap:wrap;\n",
              "      gap: 12px;\n",
              "    }\n",
              "\n",
              "    .colab-df-convert {\n",
              "      background-color: #E8F0FE;\n",
              "      border: none;\n",
              "      border-radius: 50%;\n",
              "      cursor: pointer;\n",
              "      display: none;\n",
              "      fill: #1967D2;\n",
              "      height: 32px;\n",
              "      padding: 0 0 0 0;\n",
              "      width: 32px;\n",
              "    }\n",
              "\n",
              "    .colab-df-convert:hover {\n",
              "      background-color: #E2EBFA;\n",
              "      box-shadow: 0px 1px 2px rgba(60, 64, 67, 0.3), 0px 1px 3px 1px rgba(60, 64, 67, 0.15);\n",
              "      fill: #174EA6;\n",
              "    }\n",
              "\n",
              "    [theme=dark] .colab-df-convert {\n",
              "      background-color: #3B4455;\n",
              "      fill: #D2E3FC;\n",
              "    }\n",
              "\n",
              "    [theme=dark] .colab-df-convert:hover {\n",
              "      background-color: #434B5C;\n",
              "      box-shadow: 0px 1px 3px 1px rgba(0, 0, 0, 0.15);\n",
              "      filter: drop-shadow(0px 1px 2px rgba(0, 0, 0, 0.3));\n",
              "      fill: #FFFFFF;\n",
              "    }\n",
              "  </style>\n",
              "\n",
              "      <script>\n",
              "        const buttonEl =\n",
              "          document.querySelector('#df-a4183054-b575-4122-9fca-8989e168b291 button.colab-df-convert');\n",
              "        buttonEl.style.display =\n",
              "          google.colab.kernel.accessAllowed ? 'block' : 'none';\n",
              "\n",
              "        async function convertToInteractive(key) {\n",
              "          const element = document.querySelector('#df-a4183054-b575-4122-9fca-8989e168b291');\n",
              "          const dataTable =\n",
              "            await google.colab.kernel.invokeFunction('convertToInteractive',\n",
              "                                                     [key], {});\n",
              "          if (!dataTable) return;\n",
              "\n",
              "          const docLinkHtml = 'Like what you see? Visit the ' +\n",
              "            '<a target=\"_blank\" href=https://colab.research.google.com/notebooks/data_table.ipynb>data table notebook</a>'\n",
              "            + ' to learn more about interactive tables.';\n",
              "          element.innerHTML = '';\n",
              "          dataTable['output_type'] = 'display_data';\n",
              "          await google.colab.output.renderOutput(dataTable, element);\n",
              "          const docLink = document.createElement('div');\n",
              "          docLink.innerHTML = docLinkHtml;\n",
              "          element.appendChild(docLink);\n",
              "        }\n",
              "      </script>\n",
              "    </div>\n",
              "  </div>\n",
              "  "
            ]
          },
          "metadata": {},
          "execution_count": 41
        }
      ]
    },
    {
      "cell_type": "code",
      "source": [
        "#correlation in a heatmap\n",
        "import seaborn as sns\n",
        "corr = df.corr()\n",
        "sns.heatmap(corr, \n",
        "            xticklabels=corr.columns.values,\n",
        "            yticklabels=corr.columns.values)"
      ],
      "metadata": {
        "colab": {
          "base_uri": "https://localhost:8080/",
          "height": 390
        },
        "id": "8b2IfoNW9TfA",
        "outputId": "987f65f5-7d9f-44aa-cd12-3f9f41ec0969"
      },
      "execution_count": 42,
      "outputs": [
        {
          "output_type": "execute_result",
          "data": {
            "text/plain": [
              "<matplotlib.axes._subplots.AxesSubplot at 0x7fe7e28d0c10>"
            ]
          },
          "metadata": {},
          "execution_count": 42
        },
        {
          "output_type": "display_data",
          "data": {
            "text/plain": [
              "<Figure size 432x288 with 2 Axes>"
            ],
            "image/png": "[encoded data removed]"
          },
          "metadata": {
            "needs_background": "light"
          }
        }
      ]
    },
    {
      "cell_type": "code",
      "source": [
        "df[\"id\"].replace(customers['old_customer_name'].values,customers['new_customer_name'].values, inplace=True)"
      ],
      "metadata": {
        "id": "EAMd8F-8AHdy"
      },
      "execution_count": 43,
      "outputs": []
    },
    {
      "cell_type": "code",
      "source": [
        "df.info()"
      ],
      "metadata": {
        "colab": {
          "base_uri": "https://localhost:8080/"
        },
        "id": "ikZ7mQDsB14I",
        "outputId": "9883bc3a-7548-452b-fc33-501b1f6cbb28"
      },
      "execution_count": 44,
      "outputs": [
        {
          "output_type": "stream",
          "name": "stdout",
          "text": [
            "<class 'pandas.core.frame.DataFrame'>\n",
            "Int64Index: 4942 entries, 0 to 4954\n",
            "Data columns (total 13 columns):\n",
            " #   Column                   Non-Null Count  Dtype         \n",
            "---  ------                   --------------  -----         \n",
            " 0   id                       4942 non-null   int64         \n",
            " 1   branch_number            4942 non-null   int64         \n",
            " 2   city                     4942 non-null   object        \n",
            " 3   state                    4942 non-null   object        \n",
            " 4   age                      4942 non-null   int64         \n",
            " 5   total_credit_card_limit  4942 non-null   int64         \n",
            " 6   current_available_limit  4942 non-null   int64         \n",
            " 7   date                     4942 non-null   datetime64[ns]\n",
            " 8   amount                   4942 non-null   float64       \n",
            " 9   category_expense         4942 non-null   object        \n",
            " 10  purchase_city            4935 non-null   object        \n",
            " 11  purchase_country         4936 non-null   object        \n",
            " 12  Female                   4942 non-null   uint8         \n",
            "dtypes: datetime64[ns](1), float64(1), int64(5), object(5), uint8(1)\n",
            "memory usage: 506.7+ KB\n"
          ]
        }
      ]
    },
    {
      "cell_type": "code",
      "source": [
        "\n",
        "df.date = pd.to_datetime(df.date,dayfirst=True)"
      ],
      "metadata": {
        "id": "onDRD_wZB2BS"
      },
      "execution_count": 45,
      "outputs": []
    },
    {
      "cell_type": "code",
      "source": [
        "\n",
        "#want to look at the total spending of each customers\n",
        "freq = df.groupby('id')[['amount']].count().sort_values('amount',ascending=False)\n",
        "freq.rename(columns={'amount': 'Frequency'}, inplace=True)\n",
        "freq"
      ],
      "metadata": {
        "colab": {
          "base_uri": "https://localhost:8080/",
          "height": 959
        },
        "id": "XcucpZTfDSKm",
        "outputId": "a67fa8b8-5f20-488d-cc1e-09c9e5143682"
      },
      "execution_count": 46,
      "outputs": [
        {
          "output_type": "execute_result",
          "data": {
            "text/plain": [
              "    Frequency\n",
              "id           \n",
              "11        694\n",
              "5         510\n",
              "16        457\n",
              "26        268\n",
              "14        257\n",
              "6         257\n",
              "19        249\n",
              "3         209\n",
              "15        192\n",
              "25        192\n",
              "23        187\n",
              "13        150\n",
              "20        138\n",
              "1         125\n",
              "12        119\n",
              "21        108\n",
              "9         107\n",
              "4         107\n",
              "18        106\n",
              "27         85\n",
              "2          81\n",
              "10         78\n",
              "22         66\n",
              "28         59\n",
              "17         52\n",
              "7          39\n",
              "8          29\n",
              "24         21"
            ],
            "text/html": [
              "\n",
              "  <div id=\"df-2796863c-77d7-4141-bc58-94d5e8189fcb\">\n",
              "    <div class=\"colab-df-container\">\n",
              "      <div>\n",
              "<style scoped>\n",
              "    .dataframe tbody tr th:only-of-type {\n",
              "        vertical-align: middle;\n",
              "    }\n",
              "\n",
              "    .dataframe tbody tr th {\n",
              "        vertical-align: top;\n",
              "    }\n",
              "\n",
              "    .dataframe thead th {\n",
              "        text-align: right;\n",
              "    }\n",
              "</style>\n",
              "<table border=\"1\" class=\"dataframe\">\n",
              "  <thead>\n",
              "    <tr style=\"text-align: right;\">\n",
              "      <th></th>\n",
              "      <th>Frequency</th>\n",
              "    </tr>\n",
              "    <tr>\n",
              "      <th>id</th>\n",
              "      <th></th>\n",
              "    </tr>\n",
              "  </thead>\n",
              "  <tbody>\n",
              "    <tr>\n",
              "      <th>11</th>\n",
              "      <td>694</td>\n",
              "    </tr>\n",
              "    <tr>\n",
              "      <th>5</th>\n",
              "      <td>510</td>\n",
              "    </tr>\n",
              "    <tr>\n",
              "      <th>16</th>\n",
              "      <td>457</td>\n",
              "    </tr>\n",
              "    <tr>\n",
              "      <th>26</th>\n",
              "      <td>268</td>\n",
              "    </tr>\n",
              "    <tr>\n",
              "      <th>14</th>\n",
              "      <td>257</td>\n",
              "    </tr>\n",
              "    <tr>\n",
              "      <th>6</th>\n",
              "      <td>257</td>\n",
              "    </tr>\n",
              "    <tr>\n",
              "      <th>19</th>\n",
              "      <td>249</td>\n",
              "    </tr>\n",
              "    <tr>\n",
              "      <th>3</th>\n",
              "      <td>209</td>\n",
              "    </tr>\n",
              "    <tr>\n",
              "      <th>15</th>\n",
              "      <td>192</td>\n",
              "    </tr>\n",
              "    <tr>\n",
              "      <th>25</th>\n",
              "      <td>192</td>\n",
              "    </tr>\n",
              "    <tr>\n",
              "      <th>23</th>\n",
              "      <td>187</td>\n",
              "    </tr>\n",
              "    <tr>\n",
              "      <th>13</th>\n",
              "      <td>150</td>\n",
              "    </tr>\n",
              "    <tr>\n",
              "      <th>20</th>\n",
              "      <td>138</td>\n",
              "    </tr>\n",
              "    <tr>\n",
              "      <th>1</th>\n",
              "      <td>125</td>\n",
              "    </tr>\n",
              "    <tr>\n",
              "      <th>12</th>\n",
              "      <td>119</td>\n",
              "    </tr>\n",
              "    <tr>\n",
              "      <th>21</th>\n",
              "      <td>108</td>\n",
              "    </tr>\n",
              "    <tr>\n",
              "      <th>9</th>\n",
              "      <td>107</td>\n",
              "    </tr>\n",
              "    <tr>\n",
              "      <th>4</th>\n",
              "      <td>107</td>\n",
              "    </tr>\n",
              "    <tr>\n",
              "      <th>18</th>\n",
              "      <td>106</td>\n",
              "    </tr>\n",
              "    <tr>\n",
              "      <th>27</th>\n",
              "      <td>85</td>\n",
              "    </tr>\n",
              "    <tr>\n",
              "      <th>2</th>\n",
              "      <td>81</td>\n",
              "    </tr>\n",
              "    <tr>\n",
              "      <th>10</th>\n",
              "      <td>78</td>\n",
              "    </tr>\n",
              "    <tr>\n",
              "      <th>22</th>\n",
              "      <td>66</td>\n",
              "    </tr>\n",
              "    <tr>\n",
              "      <th>28</th>\n",
              "      <td>59</td>\n",
              "    </tr>\n",
              "    <tr>\n",
              "      <th>17</th>\n",
              "      <td>52</td>\n",
              "    </tr>\n",
              "    <tr>\n",
              "      <th>7</th>\n",
              "      <td>39</td>\n",
              "    </tr>\n",
              "    <tr>\n",
              "      <th>8</th>\n",
              "      <td>29</td>\n",
              "    </tr>\n",
              "    <tr>\n",
              "      <th>24</th>\n",
              "      <td>21</td>\n",
              "    </tr>\n",
              "  </tbody>\n",
              "</table>\n",
              "</div>\n",
              "      <button class=\"colab-df-convert\" onclick=\"convertToInteractive('df-2796863c-77d7-4141-bc58-94d5e8189fcb')\"\n",
              "              title=\"Convert this dataframe to an interactive table.\"\n",
              "              style=\"display:none;\">\n",
              "        \n",
              "  <svg xmlns=\"http://www.w3.org/2000/svg\" height=\"24px\"viewBox=\"0 0 24 24\"\n",
              "       width=\"24px\">\n",
              "    <path d=\"M0 0h24v24H0V0z\" fill=\"none\"/>\n",
              "    <path d=\"M18.56 5.44l.94 2.06.94-2.06 2.06-.94-2.06-.94-.94-2.06-.94 2.06-2.06.94zm-11 1L8.5 8.5l.94-2.06 2.06-.94-2.06-.94L8.5 2.5l-.94 2.06-2.06.94zm10 10l.94 2.06.94-2.06 2.06-.94-2.06-.94-.94-2.06-.94 2.06-2.06.94z\"/><path d=\"M17.41 7.96l-1.37-1.37c-.4-.4-.92-.59-1.43-.59-.52 0-1.04.2-1.43.59L10.3 9.45l-7.72 7.72c-.78.78-.78 2.05 0 2.83L4 21.41c.39.39.9.59 1.41.59.51 0 1.02-.2 1.41-.59l7.78-7.78 2.81-2.81c.8-.78.8-2.07 0-2.86zM5.41 20L4 18.59l7.72-7.72 1.47 1.35L5.41 20z\"/>\n",
              "  </svg>\n",
              "      </button>\n",
              "      \n",
              "  <style>\n",
              "    .colab-df-container {\n",
              "      display:flex;\n",
              "      flex-wrap:wrap;\n",
              "      gap: 12px;\n",
              "    }\n",
              "\n",
              "    .colab-df-convert {\n",
              "      background-color: #E8F0FE;\n",
              "      border: none;\n",
              "      border-radius: 50%;\n",
              "      cursor: pointer;\n",
              "      display: none;\n",
              "      fill: #1967D2;\n",
              "      height: 32px;\n",
              "      padding: 0 0 0 0;\n",
              "      width: 32px;\n",
              "    }\n",
              "\n",
              "    .colab-df-convert:hover {\n",
              "      background-color: #E2EBFA;\n",
              "      box-shadow: 0px 1px 2px rgba(60, 64, 67, 0.3), 0px 1px 3px 1px rgba(60, 64, 67, 0.15);\n",
              "      fill: #174EA6;\n",
              "    }\n",
              "\n",
              "    [theme=dark] .colab-df-convert {\n",
              "      background-color: #3B4455;\n",
              "      fill: #D2E3FC;\n",
              "    }\n",
              "\n",
              "    [theme=dark] .colab-df-convert:hover {\n",
              "      background-color: #434B5C;\n",
              "      box-shadow: 0px 1px 3px 1px rgba(0, 0, 0, 0.15);\n",
              "      filter: drop-shadow(0px 1px 2px rgba(0, 0, 0, 0.3));\n",
              "      fill: #FFFFFF;\n",
              "    }\n",
              "  </style>\n",
              "\n",
              "      <script>\n",
              "        const buttonEl =\n",
              "          document.querySelector('#df-2796863c-77d7-4141-bc58-94d5e8189fcb button.colab-df-convert');\n",
              "        buttonEl.style.display =\n",
              "          google.colab.kernel.accessAllowed ? 'block' : 'none';\n",
              "\n",
              "        async function convertToInteractive(key) {\n",
              "          const element = document.querySelector('#df-2796863c-77d7-4141-bc58-94d5e8189fcb');\n",
              "          const dataTable =\n",
              "            await google.colab.kernel.invokeFunction('convertToInteractive',\n",
              "                                                     [key], {});\n",
              "          if (!dataTable) return;\n",
              "\n",
              "          const docLinkHtml = 'Like what you see? Visit the ' +\n",
              "            '<a target=\"_blank\" href=https://colab.research.google.com/notebooks/data_table.ipynb>data table notebook</a>'\n",
              "            + ' to learn more about interactive tables.';\n",
              "          element.innerHTML = '';\n",
              "          dataTable['output_type'] = 'display_data';\n",
              "          await google.colab.output.renderOutput(dataTable, element);\n",
              "          const docLink = document.createElement('div');\n",
              "          docLink.innerHTML = docLinkHtml;\n",
              "          element.appendChild(docLink);\n",
              "        }\n",
              "      </script>\n",
              "    </div>\n",
              "  </div>\n",
              "  "
            ]
          },
          "metadata": {},
          "execution_count": 46
        }
      ]
    },
    {
      "cell_type": "code",
      "source": [
        "total = df.groupby('id')[['amount']].sum().sort_values('amount',ascending=False)\n",
        "total.rename(columns={'amount': 'Total_spending'}, inplace=True)\n",
        "total"
      ],
      "metadata": {
        "colab": {
          "base_uri": "https://localhost:8080/",
          "height": 959
        },
        "id": "t9C0JqnjDgKV",
        "outputId": "d85e8e3f-e22c-4efb-ce4b-651e4694fd90"
      },
      "execution_count": 47,
      "outputs": [
        {
          "output_type": "execute_result",
          "data": {
            "text/plain": [
              "    Total_spending\n",
              "id                \n",
              "19       151744.49\n",
              "13        46792.97\n",
              "16        39500.85\n",
              "26        37023.41\n",
              "11        31114.48\n",
              "4         25350.47\n",
              "14        21523.28\n",
              "15        19785.22\n",
              "25        18700.03\n",
              "20        16561.81\n",
              "6         15918.58\n",
              "5         14267.05\n",
              "3         14213.00\n",
              "22        13320.17\n",
              "10        13206.96\n",
              "23        12377.37\n",
              "1         11931.63\n",
              "17        10642.75\n",
              "18         9873.89\n",
              "9          9348.86\n",
              "28         7963.08\n",
              "21         7762.95\n",
              "2          7699.55\n",
              "7          6749.50\n",
              "8          6096.40\n",
              "12         5627.10\n",
              "27         5191.30\n",
              "24         1686.98"
            ],
            "text/html": [
              "\n",
              "  <div id=\"df-a5978b7e-f4db-4b02-ba7a-c5a71b8220f4\">\n",
              "    <div class=\"colab-df-container\">\n",
              "      <div>\n",
              "<style scoped>\n",
              "    .dataframe tbody tr th:only-of-type {\n",
              "        vertical-align: middle;\n",
              "    }\n",
              "\n",
              "    .dataframe tbody tr th {\n",
              "        vertical-align: top;\n",
              "    }\n",
              "\n",
              "    .dataframe thead th {\n",
              "        text-align: right;\n",
              "    }\n",
              "</style>\n",
              "<table border=\"1\" class=\"dataframe\">\n",
              "  <thead>\n",
              "    <tr style=\"text-align: right;\">\n",
              "      <th></th>\n",
              "      <th>Total_spending</th>\n",
              "    </tr>\n",
              "    <tr>\n",
              "      <th>id</th>\n",
              "      <th></th>\n",
              "    </tr>\n",
              "  </thead>\n",
              "  <tbody>\n",
              "    <tr>\n",
              "      <th>19</th>\n",
              "      <td>151744.49</td>\n",
              "    </tr>\n",
              "    <tr>\n",
              "      <th>13</th>\n",
              "      <td>46792.97</td>\n",
              "    </tr>\n",
              "    <tr>\n",
              "      <th>16</th>\n",
              "      <td>39500.85</td>\n",
              "    </tr>\n",
              "    <tr>\n",
              "      <th>26</th>\n",
              "      <td>37023.41</td>\n",
              "    </tr>\n",
              "    <tr>\n",
              "      <th>11</th>\n",
              "      <td>31114.48</td>\n",
              "    </tr>\n",
              "    <tr>\n",
              "      <th>4</th>\n",
              "      <td>25350.47</td>\n",
              "    </tr>\n",
              "    <tr>\n",
              "      <th>14</th>\n",
              "      <td>21523.28</td>\n",
              "    </tr>\n",
              "    <tr>\n",
              "      <th>15</th>\n",
              "      <td>19785.22</td>\n",
              "    </tr>\n",
              "    <tr>\n",
              "      <th>25</th>\n",
              "      <td>18700.03</td>\n",
              "    </tr>\n",
              "    <tr>\n",
              "      <th>20</th>\n",
              "      <td>16561.81</td>\n",
              "    </tr>\n",
              "    <tr>\n",
              "      <th>6</th>\n",
              "      <td>15918.58</td>\n",
              "    </tr>\n",
              "    <tr>\n",
              "      <th>5</th>\n",
              "      <td>14267.05</td>\n",
              "    </tr>\n",
              "    <tr>\n",
              "      <th>3</th>\n",
              "      <td>14213.00</td>\n",
              "    </tr>\n",
              "    <tr>\n",
              "      <th>22</th>\n",
              "      <td>13320.17</td>\n",
              "    </tr>\n",
              "    <tr>\n",
              "      <th>10</th>\n",
              "      <td>13206.96</td>\n",
              "    </tr>\n",
              "    <tr>\n",
              "      <th>23</th>\n",
              "      <td>12377.37</td>\n",
              "    </tr>\n",
              "    <tr>\n",
              "      <th>1</th>\n",
              "      <td>11931.63</td>\n",
              "    </tr>\n",
              "    <tr>\n",
              "      <th>17</th>\n",
              "      <td>10642.75</td>\n",
              "    </tr>\n",
              "    <tr>\n",
              "      <th>18</th>\n",
              "      <td>9873.89</td>\n",
              "    </tr>\n",
              "    <tr>\n",
              "      <th>9</th>\n",
              "      <td>9348.86</td>\n",
              "    </tr>\n",
              "    <tr>\n",
              "      <th>28</th>\n",
              "      <td>7963.08</td>\n",
              "    </tr>\n",
              "    <tr>\n",
              "      <th>21</th>\n",
              "      <td>7762.95</td>\n",
              "    </tr>\n",
              "    <tr>\n",
              "      <th>2</th>\n",
              "      <td>7699.55</td>\n",
              "    </tr>\n",
              "    <tr>\n",
              "      <th>7</th>\n",
              "      <td>6749.50</td>\n",
              "    </tr>\n",
              "    <tr>\n",
              "      <th>8</th>\n",
              "      <td>6096.40</td>\n",
              "    </tr>\n",
              "    <tr>\n",
              "      <th>12</th>\n",
              "      <td>5627.10</td>\n",
              "    </tr>\n",
              "    <tr>\n",
              "      <th>27</th>\n",
              "      <td>5191.30</td>\n",
              "    </tr>\n",
              "    <tr>\n",
              "      <th>24</th>\n",
              "      <td>1686.98</td>\n",
              "    </tr>\n",
              "  </tbody>\n",
              "</table>\n",
              "</div>\n",
              "      <button class=\"colab-df-convert\" onclick=\"convertToInteractive('df-a5978b7e-f4db-4b02-ba7a-c5a71b8220f4')\"\n",
              "              title=\"Convert this dataframe to an interactive table.\"\n",
              "              style=\"display:none;\">\n",
              "        \n",
              "  <svg xmlns=\"http://www.w3.org/2000/svg\" height=\"24px\"viewBox=\"0 0 24 24\"\n",
              "       width=\"24px\">\n",
              "    <path d=\"M0 0h24v24H0V0z\" fill=\"none\"/>\n",
              "    <path d=\"M18.56 5.44l.94 2.06.94-2.06 2.06-.94-2.06-.94-.94-2.06-.94 2.06-2.06.94zm-11 1L8.5 8.5l.94-2.06 2.06-.94-2.06-.94L8.5 2.5l-.94 2.06-2.06.94zm10 10l.94 2.06.94-2.06 2.06-.94-2.06-.94-.94-2.06-.94 2.06-2.06.94z\"/><path d=\"M17.41 7.96l-1.37-1.37c-.4-.4-.92-.59-1.43-.59-.52 0-1.04.2-1.43.59L10.3 9.45l-7.72 7.72c-.78.78-.78 2.05 0 2.83L4 21.41c.39.39.9.59 1.41.59.51 0 1.02-.2 1.41-.59l7.78-7.78 2.81-2.81c.8-.78.8-2.07 0-2.86zM5.41 20L4 18.59l7.72-7.72 1.47 1.35L5.41 20z\"/>\n",
              "  </svg>\n",
              "      </button>\n",
              "      \n",
              "  <style>\n",
              "    .colab-df-container {\n",
              "      display:flex;\n",
              "      flex-wrap:wrap;\n",
              "      gap: 12px;\n",
              "    }\n",
              "\n",
              "    .colab-df-convert {\n",
              "      background-color: #E8F0FE;\n",
              "      border: none;\n",
              "      border-radius: 50%;\n",
              "      cursor: pointer;\n",
              "      display: none;\n",
              "      fill: #1967D2;\n",
              "      height: 32px;\n",
              "      padding: 0 0 0 0;\n",
              "      width: 32px;\n",
              "    }\n",
              "\n",
              "    .colab-df-convert:hover {\n",
              "      background-color: #E2EBFA;\n",
              "      box-shadow: 0px 1px 2px rgba(60, 64, 67, 0.3), 0px 1px 3px 1px rgba(60, 64, 67, 0.15);\n",
              "      fill: #174EA6;\n",
              "    }\n",
              "\n",
              "    [theme=dark] .colab-df-convert {\n",
              "      background-color: #3B4455;\n",
              "      fill: #D2E3FC;\n",
              "    }\n",
              "\n",
              "    [theme=dark] .colab-df-convert:hover {\n",
              "      background-color: #434B5C;\n",
              "      box-shadow: 0px 1px 3px 1px rgba(0, 0, 0, 0.15);\n",
              "      filter: drop-shadow(0px 1px 2px rgba(0, 0, 0, 0.3));\n",
              "      fill: #FFFFFF;\n",
              "    }\n",
              "  </style>\n",
              "\n",
              "      <script>\n",
              "        const buttonEl =\n",
              "          document.querySelector('#df-a5978b7e-f4db-4b02-ba7a-c5a71b8220f4 button.colab-df-convert');\n",
              "        buttonEl.style.display =\n",
              "          google.colab.kernel.accessAllowed ? 'block' : 'none';\n",
              "\n",
              "        async function convertToInteractive(key) {\n",
              "          const element = document.querySelector('#df-a5978b7e-f4db-4b02-ba7a-c5a71b8220f4');\n",
              "          const dataTable =\n",
              "            await google.colab.kernel.invokeFunction('convertToInteractive',\n",
              "                                                     [key], {});\n",
              "          if (!dataTable) return;\n",
              "\n",
              "          const docLinkHtml = 'Like what you see? Visit the ' +\n",
              "            '<a target=\"_blank\" href=https://colab.research.google.com/notebooks/data_table.ipynb>data table notebook</a>'\n",
              "            + ' to learn more about interactive tables.';\n",
              "          element.innerHTML = '';\n",
              "          dataTable['output_type'] = 'display_data';\n",
              "          await google.colab.output.renderOutput(dataTable, element);\n",
              "          const docLink = document.createElement('div');\n",
              "          docLink.innerHTML = docLinkHtml;\n",
              "          element.appendChild(docLink);\n",
              "        }\n",
              "      </script>\n",
              "    </div>\n",
              "  </div>\n",
              "  "
            ]
          },
          "metadata": {},
          "execution_count": 47
        }
      ]
    },
    {
      "cell_type": "code",
      "source": [
        "plt.figure(figsize=(15,10))\n",
        "sns.barplot(x=total.index,y=total['Total_spending'])\n",
        "plt.xlabel('Customers')\n",
        "plt.ylabel('Total Spending')\n",
        "plt.title(\"Total Spending vs Customers\")\n",
        "plt.xticks(rotation= 45);"
      ],
      "metadata": {
        "colab": {
          "base_uri": "https://localhost:8080/",
          "height": 628
        },
        "id": "zixkCFPWDk4s",
        "outputId": "231f9790-271a-4652-d22c-2e4b99bae691"
      },
      "execution_count": 48,
      "outputs": [
        {
          "output_type": "display_data",
          "data": {
            "text/plain": [
              "<Figure size 1080x720 with 1 Axes>"
            ],
            "image/png": "[encoded data removed]"
          },
          "metadata": {
            "needs_background": "light"
          }
        }
      ]
    },
    {
      "cell_type": "markdown",
      "source": [
        "### As it is seen, the 19th customer is the person who spends the most among the customers.\n",
        "### We are going to analize the exepenses according to covid crisis."
      ],
      "metadata": {
        "id": "PkJL0F8_fiP3"
      }
    },
    {
      "cell_type": "code",
      "source": [
        "# pre covid\n",
        "pre_covid = df[(df.date > '2020-01-01') & (df.date < '2020-03-18')]\n",
        "\n",
        "#covid\n",
        "covid = df[(df.date >= '2020-03-18')]\n"
      ],
      "metadata": {
        "id": "u95N71ATEIcf"
      },
      "execution_count": 49,
      "outputs": []
    },
    {
      "cell_type": "code",
      "source": [
        "covid.head()"
      ],
      "metadata": {
        "colab": {
          "base_uri": "https://localhost:8080/",
          "height": 444
        },
        "id": "wDygzLnNE0F4",
        "outputId": "bb4a3b8c-0c70-4f67-d1b4-3a7a5f00e51f"
      },
      "execution_count": 50,
      "outputs": [
        {
          "output_type": "execute_result",
          "data": {
            "text/plain": [
              "    id  branch_number                    city state  age  \\\n",
              "5    1         201405  CAMPO LIMPO PAULISTA     SP    37   \n",
              "7    1         201405  CAMPO LIMPO PAULISTA     SP    37   \n",
              "11   1         201405  CAMPO LIMPO PAULISTA     SP    37   \n",
              "15   1         201405  CAMPO LIMPO PAULISTA     SP    37   \n",
              "29   1         201405  CAMPO LIMPO PAULISTA     SP    37   \n",
              "\n",
              "    total_credit_card_limit  current_available_limit       date  amount  \\\n",
              "5                      4700                     2636 2020-05-05   44.90   \n",
              "7                      4700                     2789 2020-03-21    5.00   \n",
              "11                     4700                     1706 2020-04-04  360.45   \n",
              "15                     4700                     2117 2020-04-01   26.00   \n",
              "29                     4700                     2770 2020-04-20   40.00   \n",
              "\n",
              "   category_expense purchase_city purchase_country  Female  \n",
              "5    ARTIGOS ELETRO        OSASCO               BR       1  \n",
              "7          M.O.T.O.     SAO PAULO               BR       1  \n",
              "11         M.O.T.O.  LNKD.IN/BILL               IE       1  \n",
              "15          SERVIO      CURITIBA               BR       1  \n",
              "29          SERVIO     SAO PAULO               BR       1  "
            ],
            "text/html": [
              "\n",
              "  <div id=\"df-29ee04e6-7106-48bd-bf5d-fa8a4e953084\">\n",
              "    <div class=\"colab-df-container\">\n",
              "      <div>\n",
              "<style scoped>\n",
              "    .dataframe tbody tr th:only-of-type {\n",
              "        vertical-align: middle;\n",
              "    }\n",
              "\n",
              "    .dataframe tbody tr th {\n",
              "        vertical-align: top;\n",
              "    }\n",
              "\n",
              "    .dataframe thead th {\n",
              "        text-align: right;\n",
              "    }\n",
              "</style>\n",
              "<table border=\"1\" class=\"dataframe\">\n",
              "  <thead>\n",
              "    <tr style=\"text-align: right;\">\n",
              "      <th></th>\n",
              "      <th>id</th>\n",
              "      <th>branch_number</th>\n",
              "      <th>city</th>\n",
              "      <th>state</th>\n",
              "      <th>age</th>\n",
              "      <th>total_credit_card_limit</th>\n",
              "      <th>current_available_limit</th>\n",
              "      <th>date</th>\n",
              "      <th>amount</th>\n",
              "      <th>category_expense</th>\n",
              "      <th>purchase_city</th>\n",
              "      <th>purchase_country</th>\n",
              "      <th>Female</th>\n",
              "    </tr>\n",
              "  </thead>\n",
              "  <tbody>\n",
              "    <tr>\n",
              "      <th>5</th>\n",
              "      <td>1</td>\n",
              "      <td>201405</td>\n",
              "      <td>CAMPO LIMPO PAULISTA</td>\n",
              "      <td>SP</td>\n",
              "      <td>37</td>\n",
              "      <td>4700</td>\n",
              "      <td>2636</td>\n",
              "      <td>2020-05-05</td>\n",
              "      <td>44.90</td>\n",
              "      <td>ARTIGOS ELETRO</td>\n",
              "      <td>OSASCO</td>\n",
              "      <td>BR</td>\n",
              "      <td>1</td>\n",
              "    </tr>\n",
              "    <tr>\n",
              "      <th>7</th>\n",
              "      <td>1</td>\n",
              "      <td>201405</td>\n",
              "      <td>CAMPO LIMPO PAULISTA</td>\n",
              "      <td>SP</td>\n",
              "      <td>37</td>\n",
              "      <td>4700</td>\n",
              "      <td>2789</td>\n",
              "      <td>2020-03-21</td>\n",
              "      <td>5.00</td>\n",
              "      <td>M.O.T.O.</td>\n",
              "      <td>SAO PAULO</td>\n",
              "      <td>BR</td>\n",
              "      <td>1</td>\n",
              "    </tr>\n",
              "    <tr>\n",
              "      <th>11</th>\n",
              "      <td>1</td>\n",
              "      <td>201405</td>\n",
              "      <td>CAMPO LIMPO PAULISTA</td>\n",
              "      <td>SP</td>\n",
              "      <td>37</td>\n",
              "      <td>4700</td>\n",
              "      <td>1706</td>\n",
              "      <td>2020-04-04</td>\n",
              "      <td>360.45</td>\n",
              "      <td>M.O.T.O.</td>\n",
              "      <td>LNKD.IN/BILL</td>\n",
              "      <td>IE</td>\n",
              "      <td>1</td>\n",
              "    </tr>\n",
              "    <tr>\n",
              "      <th>15</th>\n",
              "      <td>1</td>\n",
              "      <td>201405</td>\n",
              "      <td>CAMPO LIMPO PAULISTA</td>\n",
              "      <td>SP</td>\n",
              "      <td>37</td>\n",
              "      <td>4700</td>\n",
              "      <td>2117</td>\n",
              "      <td>2020-04-01</td>\n",
              "      <td>26.00</td>\n",
              "      <td>SERVIO</td>\n",
              "      <td>CURITIBA</td>\n",
              "      <td>BR</td>\n",
              "      <td>1</td>\n",
              "    </tr>\n",
              "    <tr>\n",
              "      <th>29</th>\n",
              "      <td>1</td>\n",
              "      <td>201405</td>\n",
              "      <td>CAMPO LIMPO PAULISTA</td>\n",
              "      <td>SP</td>\n",
              "      <td>37</td>\n",
              "      <td>4700</td>\n",
              "      <td>2770</td>\n",
              "      <td>2020-04-20</td>\n",
              "      <td>40.00</td>\n",
              "      <td>SERVIO</td>\n",
              "      <td>SAO PAULO</td>\n",
              "      <td>BR</td>\n",
              "      <td>1</td>\n",
              "    </tr>\n",
              "  </tbody>\n",
              "</table>\n",
              "</div>\n",
              "      <button class=\"colab-df-convert\" onclick=\"convertToInteractive('df-29ee04e6-7106-48bd-bf5d-fa8a4e953084')\"\n",
              "              title=\"Convert this dataframe to an interactive table.\"\n",
              "              style=\"display:none;\">\n",
              "        \n",
              "  <svg xmlns=\"http://www.w3.org/2000/svg\" height=\"24px\"viewBox=\"0 0 24 24\"\n",
              "       width=\"24px\">\n",
              "    <path d=\"M0 0h24v24H0V0z\" fill=\"none\"/>\n",
              "    <path d=\"M18.56 5.44l.94 2.06.94-2.06 2.06-.94-2.06-.94-.94-2.06-.94 2.06-2.06.94zm-11 1L8.5 8.5l.94-2.06 2.06-.94-2.06-.94L8.5 2.5l-.94 2.06-2.06.94zm10 10l.94 2.06.94-2.06 2.06-.94-2.06-.94-.94-2.06-.94 2.06-2.06.94z\"/><path d=\"M17.41 7.96l-1.37-1.37c-.4-.4-.92-.59-1.43-.59-.52 0-1.04.2-1.43.59L10.3 9.45l-7.72 7.72c-.78.78-.78 2.05 0 2.83L4 21.41c.39.39.9.59 1.41.59.51 0 1.02-.2 1.41-.59l7.78-7.78 2.81-2.81c.8-.78.8-2.07 0-2.86zM5.41 20L4 18.59l7.72-7.72 1.47 1.35L5.41 20z\"/>\n",
              "  </svg>\n",
              "      </button>\n",
              "      \n",
              "  <style>\n",
              "    .colab-df-container {\n",
              "      display:flex;\n",
              "      flex-wrap:wrap;\n",
              "      gap: 12px;\n",
              "    }\n",
              "\n",
              "    .colab-df-convert {\n",
              "      background-color: #E8F0FE;\n",
              "      border: none;\n",
              "      border-radius: 50%;\n",
              "      cursor: pointer;\n",
              "      display: none;\n",
              "      fill: #1967D2;\n",
              "      height: 32px;\n",
              "      padding: 0 0 0 0;\n",
              "      width: 32px;\n",
              "    }\n",
              "\n",
              "    .colab-df-convert:hover {\n",
              "      background-color: #E2EBFA;\n",
              "      box-shadow: 0px 1px 2px rgba(60, 64, 67, 0.3), 0px 1px 3px 1px rgba(60, 64, 67, 0.15);\n",
              "      fill: #174EA6;\n",
              "    }\n",
              "\n",
              "    [theme=dark] .colab-df-convert {\n",
              "      background-color: #3B4455;\n",
              "      fill: #D2E3FC;\n",
              "    }\n",
              "\n",
              "    [theme=dark] .colab-df-convert:hover {\n",
              "      background-color: #434B5C;\n",
              "      box-shadow: 0px 1px 3px 1px rgba(0, 0, 0, 0.15);\n",
              "      filter: drop-shadow(0px 1px 2px rgba(0, 0, 0, 0.3));\n",
              "      fill: #FFFFFF;\n",
              "    }\n",
              "  </style>\n",
              "\n",
              "      <script>\n",
              "        const buttonEl =\n",
              "          document.querySelector('#df-29ee04e6-7106-48bd-bf5d-fa8a4e953084 button.colab-df-convert');\n",
              "        buttonEl.style.display =\n",
              "          google.colab.kernel.accessAllowed ? 'block' : 'none';\n",
              "\n",
              "        async function convertToInteractive(key) {\n",
              "          const element = document.querySelector('#df-29ee04e6-7106-48bd-bf5d-fa8a4e953084');\n",
              "          const dataTable =\n",
              "            await google.colab.kernel.invokeFunction('convertToInteractive',\n",
              "                                                     [key], {});\n",
              "          if (!dataTable) return;\n",
              "\n",
              "          const docLinkHtml = 'Like what you see? Visit the ' +\n",
              "            '<a target=\"_blank\" href=https://colab.research.google.com/notebooks/data_table.ipynb>data table notebook</a>'\n",
              "            + ' to learn more about interactive tables.';\n",
              "          element.innerHTML = '';\n",
              "          dataTable['output_type'] = 'display_data';\n",
              "          await google.colab.output.renderOutput(dataTable, element);\n",
              "          const docLink = document.createElement('div');\n",
              "          docLink.innerHTML = docLinkHtml;\n",
              "          element.appendChild(docLink);\n",
              "        }\n",
              "      </script>\n",
              "    </div>\n",
              "  </div>\n",
              "  "
            ]
          },
          "metadata": {},
          "execution_count": 50
        }
      ]
    },
    {
      "cell_type": "code",
      "source": [
        "covid_freq = covid.groupby('id')[['age']].count().sort_values('age',ascending=False)\n",
        "covid_freq.columns = ['frequency']\n",
        "print('average number of transactions frequency: ',covid_freq.frequency.mean())\n",
        "print('max number of transactions frequency: ',covid_freq.frequency.max())\n",
        "print('min number of transactions frequency: ',covid_freq.frequency.min())"
      ],
      "metadata": {
        "colab": {
          "base_uri": "https://localhost:8080/"
        },
        "id": "KgkHaruYE8yL",
        "outputId": "ff49cacb-1e93-4a81-cf8b-d63ee4303701"
      },
      "execution_count": 51,
      "outputs": [
        {
          "output_type": "stream",
          "name": "stdout",
          "text": [
            "average number of transactions frequency:  14.461538461538462\n",
            "max number of transactions frequency:  35\n",
            "min number of transactions frequency:  2\n"
          ]
        }
      ]
    },
    {
      "cell_type": "code",
      "source": [
        "plt.figure(figsize=(15,10))\n",
        "sns.barplot(x=covid_freq.index,y=covid_freq['frequency'])\n",
        "plt.xlabel('Customers')\n",
        "plt.ylabel('Frequency of use')\n",
        "plt.title(\"The frequency of transactions made by customers during the covid\")\n",
        "plt.xticks(rotation= 45);"
      ],
      "metadata": {
        "colab": {
          "base_uri": "https://localhost:8080/",
          "height": 628
        },
        "id": "tS3ScZdGFGRw",
        "outputId": "bef377b5-897b-4445-e92a-f958f255e7fd"
      },
      "execution_count": 52,
      "outputs": [
        {
          "output_type": "display_data",
          "data": {
            "text/plain": [
              "<Figure size 1080x720 with 1 Axes>"
            ],
            "image/png": "[encoded data removed]"
          },
          "metadata": {
            "needs_background": "light"
          }
        }
      ]
    },
    {
      "cell_type": "code",
      "source": [
        "covid_freq"
      ],
      "metadata": {
        "colab": {
          "base_uri": "https://localhost:8080/",
          "height": 896
        },
        "id": "7V-lPLMHFJrd",
        "outputId": "86a35d7a-0515-4f3d-af80-365f2d38b2b0"
      },
      "execution_count": 53,
      "outputs": [
        {
          "output_type": "execute_result",
          "data": {
            "text/plain": [
              "    frequency\n",
              "id           \n",
              "13         35\n",
              "11         34\n",
              "16         32\n",
              "19         28\n",
              "25         28\n",
              "15         25\n",
              "26         24\n",
              "3          22\n",
              "23         19\n",
              "1          15\n",
              "22         13\n",
              "12         13\n",
              "9          10\n",
              "10          9\n",
              "21          9\n",
              "27          8\n",
              "28          8\n",
              "6           8\n",
              "18          7\n",
              "5           7\n",
              "14          7\n",
              "17          4\n",
              "4           4\n",
              "7           3\n",
              "2           2\n",
              "8           2"
            ],
            "text/html": [
              "\n",
              "  <div id=\"df-89553f07-cd13-4a9c-ae05-1686102c9869\">\n",
              "    <div class=\"colab-df-container\">\n",
              "      <div>\n",
              "<style scoped>\n",
              "    .dataframe tbody tr th:only-of-type {\n",
              "        vertical-align: middle;\n",
              "    }\n",
              "\n",
              "    .dataframe tbody tr th {\n",
              "        vertical-align: top;\n",
              "    }\n",
              "\n",
              "    .dataframe thead th {\n",
              "        text-align: right;\n",
              "    }\n",
              "</style>\n",
              "<table border=\"1\" class=\"dataframe\">\n",
              "  <thead>\n",
              "    <tr style=\"text-align: right;\">\n",
              "      <th></th>\n",
              "      <th>frequency</th>\n",
              "    </tr>\n",
              "    <tr>\n",
              "      <th>id</th>\n",
              "      <th></th>\n",
              "    </tr>\n",
              "  </thead>\n",
              "  <tbody>\n",
              "    <tr>\n",
              "      <th>13</th>\n",
              "      <td>35</td>\n",
              "    </tr>\n",
              "    <tr>\n",
              "      <th>11</th>\n",
              "      <td>34</td>\n",
              "    </tr>\n",
              "    <tr>\n",
              "      <th>16</th>\n",
              "      <td>32</td>\n",
              "    </tr>\n",
              "    <tr>\n",
              "      <th>19</th>\n",
              "      <td>28</td>\n",
              "    </tr>\n",
              "    <tr>\n",
              "      <th>25</th>\n",
              "      <td>28</td>\n",
              "    </tr>\n",
              "    <tr>\n",
              "      <th>15</th>\n",
              "      <td>25</td>\n",
              "    </tr>\n",
              "    <tr>\n",
              "      <th>26</th>\n",
              "      <td>24</td>\n",
              "    </tr>\n",
              "    <tr>\n",
              "      <th>3</th>\n",
              "      <td>22</td>\n",
              "    </tr>\n",
              "    <tr>\n",
              "      <th>23</th>\n",
              "      <td>19</td>\n",
              "    </tr>\n",
              "    <tr>\n",
              "      <th>1</th>\n",
              "      <td>15</td>\n",
              "    </tr>\n",
              "    <tr>\n",
              "      <th>22</th>\n",
              "      <td>13</td>\n",
              "    </tr>\n",
              "    <tr>\n",
              "      <th>12</th>\n",
              "      <td>13</td>\n",
              "    </tr>\n",
              "    <tr>\n",
              "      <th>9</th>\n",
              "      <td>10</td>\n",
              "    </tr>\n",
              "    <tr>\n",
              "      <th>10</th>\n",
              "      <td>9</td>\n",
              "    </tr>\n",
              "    <tr>\n",
              "      <th>21</th>\n",
              "      <td>9</td>\n",
              "    </tr>\n",
              "    <tr>\n",
              "      <th>27</th>\n",
              "      <td>8</td>\n",
              "    </tr>\n",
              "    <tr>\n",
              "      <th>28</th>\n",
              "      <td>8</td>\n",
              "    </tr>\n",
              "    <tr>\n",
              "      <th>6</th>\n",
              "      <td>8</td>\n",
              "    </tr>\n",
              "    <tr>\n",
              "      <th>18</th>\n",
              "      <td>7</td>\n",
              "    </tr>\n",
              "    <tr>\n",
              "      <th>5</th>\n",
              "      <td>7</td>\n",
              "    </tr>\n",
              "    <tr>\n",
              "      <th>14</th>\n",
              "      <td>7</td>\n",
              "    </tr>\n",
              "    <tr>\n",
              "      <th>17</th>\n",
              "      <td>4</td>\n",
              "    </tr>\n",
              "    <tr>\n",
              "      <th>4</th>\n",
              "      <td>4</td>\n",
              "    </tr>\n",
              "    <tr>\n",
              "      <th>7</th>\n",
              "      <td>3</td>\n",
              "    </tr>\n",
              "    <tr>\n",
              "      <th>2</th>\n",
              "      <td>2</td>\n",
              "    </tr>\n",
              "    <tr>\n",
              "      <th>8</th>\n",
              "      <td>2</td>\n",
              "    </tr>\n",
              "  </tbody>\n",
              "</table>\n",
              "</div>\n",
              "      <button class=\"colab-df-convert\" onclick=\"convertToInteractive('df-89553f07-cd13-4a9c-ae05-1686102c9869')\"\n",
              "              title=\"Convert this dataframe to an interactive table.\"\n",
              "              style=\"display:none;\">\n",
              "        \n",
              "  <svg xmlns=\"http://www.w3.org/2000/svg\" height=\"24px\"viewBox=\"0 0 24 24\"\n",
              "       width=\"24px\">\n",
              "    <path d=\"M0 0h24v24H0V0z\" fill=\"none\"/>\n",
              "    <path d=\"M18.56 5.44l.94 2.06.94-2.06 2.06-.94-2.06-.94-.94-2.06-.94 2.06-2.06.94zm-11 1L8.5 8.5l.94-2.06 2.06-.94-2.06-.94L8.5 2.5l-.94 2.06-2.06.94zm10 10l.94 2.06.94-2.06 2.06-.94-2.06-.94-.94-2.06-.94 2.06-2.06.94z\"/><path d=\"M17.41 7.96l-1.37-1.37c-.4-.4-.92-.59-1.43-.59-.52 0-1.04.2-1.43.59L10.3 9.45l-7.72 7.72c-.78.78-.78 2.05 0 2.83L4 21.41c.39.39.9.59 1.41.59.51 0 1.02-.2 1.41-.59l7.78-7.78 2.81-2.81c.8-.78.8-2.07 0-2.86zM5.41 20L4 18.59l7.72-7.72 1.47 1.35L5.41 20z\"/>\n",
              "  </svg>\n",
              "      </button>\n",
              "      \n",
              "  <style>\n",
              "    .colab-df-container {\n",
              "      display:flex;\n",
              "      flex-wrap:wrap;\n",
              "      gap: 12px;\n",
              "    }\n",
              "\n",
              "    .colab-df-convert {\n",
              "      background-color: #E8F0FE;\n",
              "      border: none;\n",
              "      border-radius: 50%;\n",
              "      cursor: pointer;\n",
              "      display: none;\n",
              "      fill: #1967D2;\n",
              "      height: 32px;\n",
              "      padding: 0 0 0 0;\n",
              "      width: 32px;\n",
              "    }\n",
              "\n",
              "    .colab-df-convert:hover {\n",
              "      background-color: #E2EBFA;\n",
              "      box-shadow: 0px 1px 2px rgba(60, 64, 67, 0.3), 0px 1px 3px 1px rgba(60, 64, 67, 0.15);\n",
              "      fill: #174EA6;\n",
              "    }\n",
              "\n",
              "    [theme=dark] .colab-df-convert {\n",
              "      background-color: #3B4455;\n",
              "      fill: #D2E3FC;\n",
              "    }\n",
              "\n",
              "    [theme=dark] .colab-df-convert:hover {\n",
              "      background-color: #434B5C;\n",
              "      box-shadow: 0px 1px 3px 1px rgba(0, 0, 0, 0.15);\n",
              "      filter: drop-shadow(0px 1px 2px rgba(0, 0, 0, 0.3));\n",
              "      fill: #FFFFFF;\n",
              "    }\n",
              "  </style>\n",
              "\n",
              "      <script>\n",
              "        const buttonEl =\n",
              "          document.querySelector('#df-89553f07-cd13-4a9c-ae05-1686102c9869 button.colab-df-convert');\n",
              "        buttonEl.style.display =\n",
              "          google.colab.kernel.accessAllowed ? 'block' : 'none';\n",
              "\n",
              "        async function convertToInteractive(key) {\n",
              "          const element = document.querySelector('#df-89553f07-cd13-4a9c-ae05-1686102c9869');\n",
              "          const dataTable =\n",
              "            await google.colab.kernel.invokeFunction('convertToInteractive',\n",
              "                                                     [key], {});\n",
              "          if (!dataTable) return;\n",
              "\n",
              "          const docLinkHtml = 'Like what you see? Visit the ' +\n",
              "            '<a target=\"_blank\" href=https://colab.research.google.com/notebooks/data_table.ipynb>data table notebook</a>'\n",
              "            + ' to learn more about interactive tables.';\n",
              "          element.innerHTML = '';\n",
              "          dataTable['output_type'] = 'display_data';\n",
              "          await google.colab.output.renderOutput(dataTable, element);\n",
              "          const docLink = document.createElement('div');\n",
              "          docLink.innerHTML = docLinkHtml;\n",
              "          element.appendChild(docLink);\n",
              "        }\n",
              "      </script>\n",
              "    </div>\n",
              "  </div>\n",
              "  "
            ]
          },
          "metadata": {},
          "execution_count": 53
        }
      ]
    },
    {
      "cell_type": "code",
      "source": [
        "pre_covid_freq = pre_covid.groupby('id')[['age']].count().sort_values('age',ascending=False)\n",
        "pre_covid_freq.columns = ['frequency']\n",
        "print('average number of transactions frequency: ',pre_covid_freq.frequency.mean())\n",
        "print('max number of transactions frequency: ',pre_covid_freq.frequency.max())\n",
        "print('min number of transactions frequency: ',pre_covid_freq.frequency.min())"
      ],
      "metadata": {
        "colab": {
          "base_uri": "https://localhost:8080/"
        },
        "id": "gqGSf_T7Ij27",
        "outputId": "21aaa674-9843-4874-a12c-7e965d4969a0"
      },
      "execution_count": 54,
      "outputs": [
        {
          "output_type": "stream",
          "name": "stdout",
          "text": [
            "average number of transactions frequency:  39.65384615384615\n",
            "max number of transactions frequency:  133\n",
            "min number of transactions frequency:  5\n"
          ]
        }
      ]
    },
    {
      "cell_type": "code",
      "source": [
        "plt.figure(figsize=(15,10))\n",
        "sns.barplot(x=pre_covid_freq.index,y=pre_covid_freq['frequency'])\n",
        "plt.xlabel('Customers')\n",
        "plt.ylabel('Frequency of use')\n",
        "plt.title(\"The frequency of transactions made by customers before the covid\")\n",
        "plt.xticks(rotation= 45);"
      ],
      "metadata": {
        "colab": {
          "base_uri": "https://localhost:8080/",
          "height": 628
        },
        "id": "LBn4Bgb-IsiN",
        "outputId": "6ef9e45e-3304-44c3-b127-75faa9b99f08"
      },
      "execution_count": 55,
      "outputs": [
        {
          "output_type": "display_data",
          "data": {
            "text/plain": [
              "<Figure size 1080x720 with 1 Axes>"
            ],
            "image/png": "[encoded data removed]"
          },
          "metadata": {
            "needs_background": "light"
          }
        }
      ]
    },
    {
      "cell_type": "code",
      "source": [
        "pre_covid_freq"
      ],
      "metadata": {
        "colab": {
          "base_uri": "https://localhost:8080/",
          "height": 896
        },
        "id": "tFOF0NOcIwi2",
        "outputId": "dbd372a4-1cb9-4776-c8ce-1fb6c2124403"
      },
      "execution_count": 56,
      "outputs": [
        {
          "output_type": "execute_result",
          "data": {
            "text/plain": [
              "    frequency\n",
              "id           \n",
              "16        133\n",
              "11        119\n",
              "23         94\n",
              "19         79\n",
              "14         68\n",
              "3          50\n",
              "26         50\n",
              "13         45\n",
              "5          42\n",
              "1          35\n",
              "15         34\n",
              "22         33\n",
              "9          28\n",
              "21         26\n",
              "6          26\n",
              "25         26\n",
              "27         21\n",
              "8          20\n",
              "12         19\n",
              "4          19\n",
              "28         19\n",
              "18         14\n",
              "10          9\n",
              "17          9\n",
              "2           8\n",
              "7           5"
            ],
            "text/html": [
              "\n",
              "  <div id=\"df-5ae0bfa2-e4f7-43ad-9f20-6846f8707be8\">\n",
              "    <div class=\"colab-df-container\">\n",
              "      <div>\n",
              "<style scoped>\n",
              "    .dataframe tbody tr th:only-of-type {\n",
              "        vertical-align: middle;\n",
              "    }\n",
              "\n",
              "    .dataframe tbody tr th {\n",
              "        vertical-align: top;\n",
              "    }\n",
              "\n",
              "    .dataframe thead th {\n",
              "        text-align: right;\n",
              "    }\n",
              "</style>\n",
              "<table border=\"1\" class=\"dataframe\">\n",
              "  <thead>\n",
              "    <tr style=\"text-align: right;\">\n",
              "      <th></th>\n",
              "      <th>frequency</th>\n",
              "    </tr>\n",
              "    <tr>\n",
              "      <th>id</th>\n",
              "      <th></th>\n",
              "    </tr>\n",
              "  </thead>\n",
              "  <tbody>\n",
              "    <tr>\n",
              "      <th>16</th>\n",
              "      <td>133</td>\n",
              "    </tr>\n",
              "    <tr>\n",
              "      <th>11</th>\n",
              "      <td>119</td>\n",
              "    </tr>\n",
              "    <tr>\n",
              "      <th>23</th>\n",
              "      <td>94</td>\n",
              "    </tr>\n",
              "    <tr>\n",
              "      <th>19</th>\n",
              "      <td>79</td>\n",
              "    </tr>\n",
              "    <tr>\n",
              "      <th>14</th>\n",
              "      <td>68</td>\n",
              "    </tr>\n",
              "    <tr>\n",
              "      <th>3</th>\n",
              "      <td>50</td>\n",
              "    </tr>\n",
              "    <tr>\n",
              "      <th>26</th>\n",
              "      <td>50</td>\n",
              "    </tr>\n",
              "    <tr>\n",
              "      <th>13</th>\n",
              "      <td>45</td>\n",
              "    </tr>\n",
              "    <tr>\n",
              "      <th>5</th>\n",
              "      <td>42</td>\n",
              "    </tr>\n",
              "    <tr>\n",
              "      <th>1</th>\n",
              "      <td>35</td>\n",
              "    </tr>\n",
              "    <tr>\n",
              "      <th>15</th>\n",
              "      <td>34</td>\n",
              "    </tr>\n",
              "    <tr>\n",
              "      <th>22</th>\n",
              "      <td>33</td>\n",
              "    </tr>\n",
              "    <tr>\n",
              "      <th>9</th>\n",
              "      <td>28</td>\n",
              "    </tr>\n",
              "    <tr>\n",
              "      <th>21</th>\n",
              "      <td>26</td>\n",
              "    </tr>\n",
              "    <tr>\n",
              "      <th>6</th>\n",
              "      <td>26</td>\n",
              "    </tr>\n",
              "    <tr>\n",
              "      <th>25</th>\n",
              "      <td>26</td>\n",
              "    </tr>\n",
              "    <tr>\n",
              "      <th>27</th>\n",
              "      <td>21</td>\n",
              "    </tr>\n",
              "    <tr>\n",
              "      <th>8</th>\n",
              "      <td>20</td>\n",
              "    </tr>\n",
              "    <tr>\n",
              "      <th>12</th>\n",
              "      <td>19</td>\n",
              "    </tr>\n",
              "    <tr>\n",
              "      <th>4</th>\n",
              "      <td>19</td>\n",
              "    </tr>\n",
              "    <tr>\n",
              "      <th>28</th>\n",
              "      <td>19</td>\n",
              "    </tr>\n",
              "    <tr>\n",
              "      <th>18</th>\n",
              "      <td>14</td>\n",
              "    </tr>\n",
              "    <tr>\n",
              "      <th>10</th>\n",
              "      <td>9</td>\n",
              "    </tr>\n",
              "    <tr>\n",
              "      <th>17</th>\n",
              "      <td>9</td>\n",
              "    </tr>\n",
              "    <tr>\n",
              "      <th>2</th>\n",
              "      <td>8</td>\n",
              "    </tr>\n",
              "    <tr>\n",
              "      <th>7</th>\n",
              "      <td>5</td>\n",
              "    </tr>\n",
              "  </tbody>\n",
              "</table>\n",
              "</div>\n",
              "      <button class=\"colab-df-convert\" onclick=\"convertToInteractive('df-5ae0bfa2-e4f7-43ad-9f20-6846f8707be8')\"\n",
              "              title=\"Convert this dataframe to an interactive table.\"\n",
              "              style=\"display:none;\">\n",
              "        \n",
              "  <svg xmlns=\"http://www.w3.org/2000/svg\" height=\"24px\"viewBox=\"0 0 24 24\"\n",
              "       width=\"24px\">\n",
              "    <path d=\"M0 0h24v24H0V0z\" fill=\"none\"/>\n",
              "    <path d=\"M18.56 5.44l.94 2.06.94-2.06 2.06-.94-2.06-.94-.94-2.06-.94 2.06-2.06.94zm-11 1L8.5 8.5l.94-2.06 2.06-.94-2.06-.94L8.5 2.5l-.94 2.06-2.06.94zm10 10l.94 2.06.94-2.06 2.06-.94-2.06-.94-.94-2.06-.94 2.06-2.06.94z\"/><path d=\"M17.41 7.96l-1.37-1.37c-.4-.4-.92-.59-1.43-.59-.52 0-1.04.2-1.43.59L10.3 9.45l-7.72 7.72c-.78.78-.78 2.05 0 2.83L4 21.41c.39.39.9.59 1.41.59.51 0 1.02-.2 1.41-.59l7.78-7.78 2.81-2.81c.8-.78.8-2.07 0-2.86zM5.41 20L4 18.59l7.72-7.72 1.47 1.35L5.41 20z\"/>\n",
              "  </svg>\n",
              "      </button>\n",
              "      \n",
              "  <style>\n",
              "    .colab-df-container {\n",
              "      display:flex;\n",
              "      flex-wrap:wrap;\n",
              "      gap: 12px;\n",
              "    }\n",
              "\n",
              "    .colab-df-convert {\n",
              "      background-color: #E8F0FE;\n",
              "      border: none;\n",
              "      border-radius: 50%;\n",
              "      cursor: pointer;\n",
              "      display: none;\n",
              "      fill: #1967D2;\n",
              "      height: 32px;\n",
              "      padding: 0 0 0 0;\n",
              "      width: 32px;\n",
              "    }\n",
              "\n",
              "    .colab-df-convert:hover {\n",
              "      background-color: #E2EBFA;\n",
              "      box-shadow: 0px 1px 2px rgba(60, 64, 67, 0.3), 0px 1px 3px 1px rgba(60, 64, 67, 0.15);\n",
              "      fill: #174EA6;\n",
              "    }\n",
              "\n",
              "    [theme=dark] .colab-df-convert {\n",
              "      background-color: #3B4455;\n",
              "      fill: #D2E3FC;\n",
              "    }\n",
              "\n",
              "    [theme=dark] .colab-df-convert:hover {\n",
              "      background-color: #434B5C;\n",
              "      box-shadow: 0px 1px 3px 1px rgba(0, 0, 0, 0.15);\n",
              "      filter: drop-shadow(0px 1px 2px rgba(0, 0, 0, 0.3));\n",
              "      fill: #FFFFFF;\n",
              "    }\n",
              "  </style>\n",
              "\n",
              "      <script>\n",
              "        const buttonEl =\n",
              "          document.querySelector('#df-5ae0bfa2-e4f7-43ad-9f20-6846f8707be8 button.colab-df-convert');\n",
              "        buttonEl.style.display =\n",
              "          google.colab.kernel.accessAllowed ? 'block' : 'none';\n",
              "\n",
              "        async function convertToInteractive(key) {\n",
              "          const element = document.querySelector('#df-5ae0bfa2-e4f7-43ad-9f20-6846f8707be8');\n",
              "          const dataTable =\n",
              "            await google.colab.kernel.invokeFunction('convertToInteractive',\n",
              "                                                     [key], {});\n",
              "          if (!dataTable) return;\n",
              "\n",
              "          const docLinkHtml = 'Like what you see? Visit the ' +\n",
              "            '<a target=\"_blank\" href=https://colab.research.google.com/notebooks/data_table.ipynb>data table notebook</a>'\n",
              "            + ' to learn more about interactive tables.';\n",
              "          element.innerHTML = '';\n",
              "          dataTable['output_type'] = 'display_data';\n",
              "          await google.colab.output.renderOutput(dataTable, element);\n",
              "          const docLink = document.createElement('div');\n",
              "          docLink.innerHTML = docLinkHtml;\n",
              "          element.appendChild(docLink);\n",
              "        }\n",
              "      </script>\n",
              "    </div>\n",
              "  </div>\n",
              "  "
            ]
          },
          "metadata": {},
          "execution_count": 56
        }
      ]
    },
    {
      "cell_type": "code",
      "source": [
        "covid['category_expense'].value_counts()"
      ],
      "metadata": {
        "colab": {
          "base_uri": "https://localhost:8080/"
        },
        "id": "DJ4GGqJlFSef",
        "outputId": "85798fdf-38b1-4e1d-9f98-ee7555ae2e43"
      },
      "execution_count": 57,
      "outputs": [
        {
          "output_type": "execute_result",
          "data": {
            "text/plain": [
              "SERVIO           97\n",
              "VAREJO            73\n",
              "RESTAURANTE       61\n",
              "SUPERMERCADOS     39\n",
              "FARMACIAS         27\n",
              "M.O.T.O.          24\n",
              "POSTO DE GAS      19\n",
              "ARTIGOS ELETRO    13\n",
              "LOJA DE DEPART     9\n",
              "VESTUARIO          5\n",
              "SEM RAMO           2\n",
              "AUTO PEAS         2\n",
              "MAT CONSTRUCAO     2\n",
              "MOVEIS E DECOR     2\n",
              "HOSP E CLINICA     1\n",
              "Name: category_expense, dtype: int64"
            ]
          },
          "metadata": {},
          "execution_count": 57
        }
      ]
    },
    {
      "cell_type": "code",
      "source": [
        "essential_list = ['FARMACIAS','VAREJO','HOSP E CLINICA','SUPERMERCADOS','POSTO DE GAS','TRANS FINANC']\n",
        "\n",
        "non_essential_list = ['SERVI\\x82O','M.O.T.O.','ARTIGOS ELETRO','LOJA DE DEPART','VESTUARIO','SEM RAMO','MAT CONSTRUCAO','RESTAURANTE','CIA AEREAS','MOVEIS E DECOR','JOALHERIA','AGENCIA DE TUR','HOTEIS','AUTO PE AS','INEXISTENTE','']"
      ],
      "metadata": {
        "id": "xnO1IuURFida"
      },
      "execution_count": 58,
      "outputs": []
    },
    {
      "cell_type": "code",
      "source": [
        "covid[covid.category_expense.isin(essential_list)]['category_expense'].value_counts()"
      ],
      "metadata": {
        "colab": {
          "base_uri": "https://localhost:8080/"
        },
        "id": "qC6-Dpq5Fqx5",
        "outputId": "7b684386-7aad-493d-ee03-cf85199e7c17"
      },
      "execution_count": 59,
      "outputs": [
        {
          "output_type": "execute_result",
          "data": {
            "text/plain": [
              "VAREJO            73\n",
              "SUPERMERCADOS     39\n",
              "FARMACIAS         27\n",
              "POSTO DE GAS      19\n",
              "HOSP E CLINICA     1\n",
              "Name: category_expense, dtype: int64"
            ]
          },
          "metadata": {},
          "execution_count": 59
        }
      ]
    },
    {
      "cell_type": "code",
      "source": [
        "print('Total spending during covid: ',covid['amount'].sum(),'Brazillian R')\n",
        "print('Total spending in essential category during covid',covid[covid.category_expense.isin(essential_list)]['amount'].sum(),'Brazillian R')\n",
        "print('Essential : %',covid[covid.category_expense.isin(essential_list)]['amount'].sum() * 100 / covid['amount'].sum())\n",
        "essential_covid = covid[covid.category_expense.isin(essential_list)]['amount'].sum() * 100 / covid['amount'].sum()"
      ],
      "metadata": {
        "colab": {
          "base_uri": "https://localhost:8080/"
        },
        "id": "zZ9pApLjFzUZ",
        "outputId": "bbe3e0d1-323a-4ac2-c020-e803cfd26d90"
      },
      "execution_count": 60,
      "outputs": [
        {
          "output_type": "stream",
          "name": "stdout",
          "text": [
            "Total spending during covid:  44802.19 Brazillian R\n",
            "Total spending in essential category during covid 20816.75 Brazillian R\n",
            "Essential : % 46.463688493799076\n"
          ]
        }
      ]
    },
    {
      "cell_type": "code",
      "source": [
        "covid[covid.category_expense.isin(non_essential_list)]['category_expense'].value_counts()"
      ],
      "metadata": {
        "colab": {
          "base_uri": "https://localhost:8080/"
        },
        "id": "F_436MEnGDTW",
        "outputId": "bafe0953-f6af-4d3f-975f-3d5aa549819b"
      },
      "execution_count": 61,
      "outputs": [
        {
          "output_type": "execute_result",
          "data": {
            "text/plain": [
              "SERVIO           97\n",
              "RESTAURANTE       61\n",
              "M.O.T.O.          24\n",
              "ARTIGOS ELETRO    13\n",
              "LOJA DE DEPART     9\n",
              "VESTUARIO          5\n",
              "SEM RAMO           2\n",
              "MAT CONSTRUCAO     2\n",
              "MOVEIS E DECOR     2\n",
              "Name: category_expense, dtype: int64"
            ]
          },
          "metadata": {},
          "execution_count": 61
        }
      ]
    },
    {
      "cell_type": "code",
      "source": [
        "# % of non essential\n",
        "print('Total spending during covid: ',covid['amount'].sum(),'Brazillian R')\n",
        "print('Total spending in non essential category during covid',covid[covid.category_expense.isin(non_essential_list)]['amount'].sum(),'Brazillian R')\n",
        "print('Non - Essential : %',covid[covid.category_expense.isin(non_essential_list)]['amount'].sum() * 100 / covid['amount'].sum())\n",
        "non_essential_covid = covid[covid.category_expense.isin(non_essential_list)]['amount'].sum() * 100 / covid['amount'].sum()"
      ],
      "metadata": {
        "colab": {
          "base_uri": "https://localhost:8080/"
        },
        "id": "RwENC5O4GGT3",
        "outputId": "171542e4-7b1d-4abc-f7dc-3ebfb1fbd6a5"
      },
      "execution_count": null,
      "outputs": [
        {
          "output_type": "stream",
          "name": "stdout",
          "text": [
            "Total spending during covid:  44802.19 Brazillian R\n",
            "Total spending in non essential category during covid 23524.269999999997 Brazillian R\n",
            "Non - Essential : % 52.5069645032977\n"
          ]
        }
      ]
    },
    {
      "cell_type": "code",
      "source": [
        "#%%of essential\n",
        "covid[covid.category_expense.isin(essential_list)]['category_expense'].value_counts()[:3]"
      ],
      "metadata": {
        "colab": {
          "base_uri": "https://localhost:8080/"
        },
        "id": "MJ1p6VPMGavq",
        "outputId": "a2770814-8a72-48ab-8d00-029ce21ab76e"
      },
      "execution_count": 62,
      "outputs": [
        {
          "output_type": "execute_result",
          "data": {
            "text/plain": [
              "VAREJO           73\n",
              "SUPERMERCADOS    39\n",
              "FARMACIAS        27\n",
              "Name: category_expense, dtype: int64"
            ]
          },
          "metadata": {},
          "execution_count": 62
        }
      ]
    },
    {
      "cell_type": "code",
      "source": [
        "pre_covid[pre_covid.category_expense.isin(non_essential_list)]['category_expense'].value_counts()[:3]"
      ],
      "metadata": {
        "colab": {
          "base_uri": "https://localhost:8080/"
        },
        "id": "devvs7vyG_e3",
        "outputId": "33813b12-b1a3-4d8d-9c88-89487475162f"
      },
      "execution_count": 63,
      "outputs": [
        {
          "output_type": "execute_result",
          "data": {
            "text/plain": [
              "SERVIO        356\n",
              "RESTAURANTE    170\n",
              "VESTUARIO       52\n",
              "Name: category_expense, dtype: int64"
            ]
          },
          "metadata": {},
          "execution_count": 63
        }
      ]
    },
    {
      "cell_type": "code",
      "source": [
        "# The lowest paid spending and category of each customers before covid\n",
        "\n",
        "for i in range(1,30):\n",
        "    print(pre_covid[pre_covid['id'] == i].sort_values('amount')[:3][['category_expense','amount']].set_index(pre_covid[pre_covid['id'] == i]['id'][:3]))"
      ],
      "metadata": {
        "colab": {
          "base_uri": "https://localhost:8080/"
        },
        "id": "BeYj2fIgHH1t",
        "outputId": "4199cb9e-557b-46b9-8e2c-2f2e32e3d6d9"
      },
      "execution_count": 64,
      "outputs": [
        {
          "output_type": "stream",
          "name": "stdout",
          "text": [
            "   category_expense  amount\n",
            "id                         \n",
            "1          M.O.T.O.    2.00\n",
            "1          M.O.T.O.    5.00\n",
            "1           SERVIO    5.68\n",
            "   category_expense  amount\n",
            "id                         \n",
            "2          SEM RAMO   22.35\n",
            "2    ARTIGOS ELETRO   22.35\n",
            "2    ARTIGOS ELETRO   22.35\n",
            "   category_expense  amount\n",
            "id                         \n",
            "3           SERVIO    6.68\n",
            "3           SERVIO    7.08\n",
            "3           SERVIO    7.34\n",
            "   category_expense  amount\n",
            "id                         \n",
            "4          M.O.T.O.    43.8\n",
            "4      POSTO DE GAS    50.0\n",
            "4      POSTO DE GAS    50.0\n",
            "   category_expense  amount\n",
            "id                         \n",
            "5           SERVIO    7.43\n",
            "5           SERVIO    7.51\n",
            "5           SERVIO    7.60\n",
            "   category_expense  amount\n",
            "id                         \n",
            "6           SERVIO    8.29\n",
            "6     SUPERMERCADOS   11.50\n",
            "6           SERVIO   12.91\n",
            "   category_expense  amount\n",
            "id                         \n",
            "7           SERVIO   50.00\n",
            "7         VESTUARIO   74.99\n",
            "7            VAREJO  139.98\n",
            "   category_expense  amount\n",
            "id                         \n",
            "8          M.O.T.O.    1.63\n",
            "8    LOJA DE DEPART   18.90\n",
            "8           SERVIO   40.00\n",
            "   category_expense  amount\n",
            "id                         \n",
            "9           SERVIO    2.00\n",
            "9           SERVIO    5.89\n",
            "9           SERVIO    6.70\n",
            "   category_expense  amount\n",
            "id                         \n",
            "10           VAREJO  105.20\n",
            "10           VAREJO  107.80\n",
            "10         SEM RAMO  129.99\n",
            "   category_expense  amount\n",
            "id                         \n",
            "11      RESTAURANTE     2.2\n",
            "11      RESTAURANTE     3.0\n",
            "11      RESTAURANTE     3.0\n",
            "   category_expense  amount\n",
            "id                         \n",
            "12          SERVIO     1.0\n",
            "12      RESTAURANTE     4.0\n",
            "12      RESTAURANTE     4.0\n",
            "   category_expense  amount\n",
            "id                         \n",
            "13      RESTAURANTE     1.0\n",
            "13          SERVIO     1.0\n",
            "13      RESTAURANTE     3.0\n",
            "   category_expense  amount\n",
            "id                         \n",
            "14          SERVIO    1.00\n",
            "14          SERVIO    6.93\n",
            "14          SERVIO    7.17\n",
            "   category_expense  amount\n",
            "id                         \n",
            "15          SERVIO     3.0\n",
            "15           VAREJO     3.5\n",
            "15           VAREJO     3.5\n",
            "   category_expense  amount\n",
            "id                         \n",
            "16    SUPERMERCADOS    1.51\n",
            "16          SERVIO    1.73\n",
            "16      RESTAURANTE    5.00\n",
            "   category_expense  amount\n",
            "id                         \n",
            "17    SUPERMERCADOS   19.26\n",
            "17    SUPERMERCADOS   64.00\n",
            "17           VAREJO  125.99\n",
            "   category_expense  amount\n",
            "id                         \n",
            "18           VAREJO    4.00\n",
            "18           HOTEIS   27.00\n",
            "18      RESTAURANTE   28.94\n",
            "   category_expense  amount\n",
            "id                         \n",
            "19          SERVIO     2.0\n",
            "19          SERVIO     3.0\n",
            "19          SERVIO     3.0\n",
            "Empty DataFrame\n",
            "Columns: [category_expense, amount]\n",
            "Index: []\n",
            "   category_expense  amount\n",
            "id                         \n",
            "21   ARTIGOS ELETRO    0.99\n",
            "21    SUPERMERCADOS   13.40\n",
            "21        FARMACIAS   19.59\n",
            "   category_expense  amount\n",
            "id                         \n",
            "22    SUPERMERCADOS   14.23\n",
            "22           VAREJO   18.90\n",
            "22           VAREJO   21.08\n",
            "   category_expense  amount\n",
            "id                         \n",
            "23          SERVIO    0.03\n",
            "23      RESTAURANTE    4.00\n",
            "23          SERVIO    4.40\n",
            "Empty DataFrame\n",
            "Columns: [category_expense, amount]\n",
            "Index: []\n",
            "   category_expense  amount\n",
            "id                         \n",
            "25           VAREJO     9.9\n",
            "25          SERVIO     9.9\n",
            "25          SERVIO     9.9\n",
            "   category_expense  amount\n",
            "id                         \n",
            "26   AGENCIA DE TUR    4.00\n",
            "26          SERVIO    8.00\n",
            "26        FARMACIAS    8.95\n",
            "   category_expense  amount\n",
            "id                         \n",
            "27          SERVIO    5.90\n",
            "27          SERVIO    5.90\n",
            "27          SERVIO    6.87\n",
            "   category_expense  amount\n",
            "id                         \n",
            "28           VAREJO     3.5\n",
            "28           VAREJO     3.5\n",
            "28           VAREJO     3.5\n",
            "Empty DataFrame\n",
            "Columns: [category_expense, amount]\n",
            "Index: []\n"
          ]
        }
      ]
    },
    {
      "cell_type": "code",
      "source": [
        "# The lowest paid spending and category of each customers before covid\n",
        "\n",
        "for i in range(1,30):\n",
        "    print(pre_covid[pre_covid['id'] == i].sort_values('amount',ascending=False)[:3][['category_expense','amount']].set_index(pre_covid[pre_covid['id'] == i]['id'][:3]))"
      ],
      "metadata": {
        "colab": {
          "base_uri": "https://localhost:8080/"
        },
        "id": "PKQQd-qiHy1N",
        "outputId": "099c797c-0b09-405d-e2fc-580911d9e560"
      },
      "execution_count": 65,
      "outputs": [
        {
          "output_type": "stream",
          "name": "stdout",
          "text": [
            "   category_expense   amount\n",
            "id                          \n",
            "1    HOSP E CLINICA  1260.00\n",
            "1          M.O.T.O.   579.98\n",
            "1           SERVIO   250.00\n",
            "   category_expense  amount\n",
            "id                         \n",
            "2            VAREJO   195.0\n",
            "2          M.O.T.O.    89.9\n",
            "2          M.O.T.O.    89.9\n",
            "   category_expense  amount\n",
            "id                         \n",
            "3    LOJA DE DEPART  528.23\n",
            "3     SUPERMERCADOS  465.27\n",
            "3     SUPERMERCADOS  367.59\n",
            "   category_expense  amount\n",
            "id                         \n",
            "4            VAREJO  4320.0\n",
            "4    MOVEIS E DECOR  1290.0\n",
            "4       RESTAURANTE   456.5\n",
            "   category_expense   amount\n",
            "id                          \n",
            "5            HOTEIS  1400.00\n",
            "5     SUPERMERCADOS   200.20\n",
            "5       RESTAURANTE   176.88\n",
            "   category_expense  amount\n",
            "id                         \n",
            "6         VESTUARIO  344.00\n",
            "6         VESTUARIO  179.99\n",
            "6    ARTIGOS ELETRO  149.00\n",
            "   category_expense  amount\n",
            "id                         \n",
            "7        CIA AEREAS  984.61\n",
            "7         VESTUARIO  211.80\n",
            "7            VAREJO  139.98\n",
            "   category_expense  amount\n",
            "id                         \n",
            "8            VAREJO   399.8\n",
            "8         VESTUARIO   339.8\n",
            "8            VAREJO   290.0\n",
            "   category_expense  amount\n",
            "id                         \n",
            "9    AGENCIA DE TUR  3800.0\n",
            "9    LOJA DE DEPART    79.9\n",
            "9    LOJA DE DEPART    69.9\n",
            "   category_expense  amount\n",
            "id                         \n",
            "10        VESTUARIO  357.00\n",
            "10           VAREJO  265.92\n",
            "10        VESTUARIO  229.72\n",
            "   category_expense  amount\n",
            "id                         \n",
            "11          SERVIO   350.0\n",
            "11       AUTO PEAS   320.0\n",
            "11       AUTO PEAS   320.0\n",
            "   category_expense  amount\n",
            "id                         \n",
            "12          SERVIO  497.44\n",
            "12          SERVIO  400.00\n",
            "12          SERVIO   39.49\n",
            "   category_expense   amount\n",
            "id                          \n",
            "13      RESTAURANTE  4947.14\n",
            "13      RESTAURANTE  3074.00\n",
            "13           VAREJO  1323.26\n",
            "   category_expense  amount\n",
            "id                         \n",
            "14           VAREJO  599.99\n",
            "14          SERVIO  315.02\n",
            "14        VESTUARIO  300.00\n",
            "   category_expense   amount\n",
            "id                          \n",
            "15       CIA AEREAS  3366.36\n",
            "15          SERVIO   495.00\n",
            "15          SERVIO   448.00\n",
            "   category_expense  amount\n",
            "id                         \n",
            "16   AGENCIA DE TUR  3087.0\n",
            "16           VAREJO  1100.0\n",
            "16          SERVIO   705.0\n",
            "   category_expense  amount\n",
            "id                         \n",
            "17          SERVIO  308.90\n",
            "17          SERVIO  308.90\n",
            "17           VAREJO  133.72\n",
            "   category_expense  amount\n",
            "id                         \n",
            "18      RESTAURANTE   200.0\n",
            "18           VAREJO   173.4\n",
            "18    SUPERMERCADOS    82.0\n",
            "   category_expense    amount\n",
            "id                           \n",
            "19       CIA AEREAS  14618.36\n",
            "19       CIA AEREAS  13835.16\n",
            "19      INEXISTENTE   9909.26\n",
            "Empty DataFrame\n",
            "Columns: [category_expense, amount]\n",
            "Index: []\n",
            "   category_expense  amount\n",
            "id                         \n",
            "21           VAREJO  345.16\n",
            "21    SUPERMERCADOS  173.00\n",
            "21      RESTAURANTE   77.33\n",
            "   category_expense  amount\n",
            "id                         \n",
            "22        VESTUARIO  338.30\n",
            "22        VESTUARIO  260.00\n",
            "22    SUPERMERCADOS  236.36\n",
            "   category_expense  amount\n",
            "id                         \n",
            "23        VESTUARIO   439.8\n",
            "23        VESTUARIO   379.0\n",
            "23           VAREJO   223.8\n",
            "Empty DataFrame\n",
            "Columns: [category_expense, amount]\n",
            "Index: []\n",
            "   category_expense   amount\n",
            "id                          \n",
            "25        JOALHERIA  1025.00\n",
            "25           VAREJO   219.00\n",
            "25      RESTAURANTE   124.75\n",
            "   category_expense  amount\n",
            "id                         \n",
            "26    SUPERMERCADOS  428.06\n",
            "26   MOVEIS E DECOR  369.99\n",
            "26      RESTAURANTE  326.57\n",
            "   category_expense  amount\n",
            "id                         \n",
            "27          SERVIO   42.69\n",
            "27         SEM RAMO   37.90\n",
            "27      RESTAURANTE   27.00\n",
            "   category_expense  amount\n",
            "id                         \n",
            "28          SERVIO  2690.4\n",
            "28       CIA AEREAS   695.1\n",
            "28       CIA AEREAS   225.9\n",
            "Empty DataFrame\n",
            "Columns: [category_expense, amount]\n",
            "Index: []\n"
          ]
        }
      ]
    },
    {
      "cell_type": "code",
      "source": [
        "freq = pd.concat([covid_freq.sort_index(),pre_covid_freq.sort_index()],axis=1)\n",
        "freq.columns = ['covid_freq','pre_covid_freq']"
      ],
      "metadata": {
        "id": "Hh24-FaUHjVx"
      },
      "execution_count": 66,
      "outputs": []
    },
    {
      "cell_type": "code",
      "source": [
        "# The frequency of using credit card for each customer before covid vs during covid\n",
        "\n",
        "\n",
        "fig, ax = plt.subplots(2,2,sharey=True)\n",
        "\n",
        "\n",
        "ax[0,0].plot(pre_covid_freq.sort_index().index,pre_covid_freq.sort_index().values,color='g',marker='o')\n",
        "ax[0,0].set_title('Pre Covid')\n",
        "\n",
        "\n",
        "ax[0,1].plot(covid_freq.sort_index().index,covid_freq.sort_index().values,color='b',marker='o')\n",
        "ax[0,1].set_title('Covid')\n",
        "\n",
        "plt.show();"
      ],
      "metadata": {
        "colab": {
          "base_uri": "https://localhost:8080/",
          "height": 281
        },
        "id": "UxJ-98A9HY1t",
        "outputId": "b9692c56-4da1-4f33-84db-f85ffa96a0ef"
      },
      "execution_count": 67,
      "outputs": [
        {
          "output_type": "display_data",
          "data": {
            "text/plain": [
              "<Figure size 432x288 with 4 Axes>"
            ],
            "image/png": "[encoded data removed]"
          },
          "metadata": {
            "needs_background": "light"
          }
        }
      ]
    },
    {
      "cell_type": "code",
      "source": [
        "import plotly.graph_objs as go\n",
        "#import chart_studio.plotly as py\n",
        "\n",
        "\n",
        "fig = go.Figure()\n",
        "fig.add_trace(go.Box(y=freq.covid_freq, name='The frequency of using credit card for each customer during covid',\n",
        "                marker_color = 'indianred'))\n",
        "fig.add_trace(go.Box(y=freq.pre_covid_freq, name = 'The frequency of using credit card for each customer before covid',\n",
        "                marker_color = 'lightseagreen'))\n",
        "\n",
        "fig.show()"
      ],
      "metadata": {
        "colab": {
          "base_uri": "https://localhost:8080/",
          "height": 542
        },
        "id": "cOsIIgS3I96P",
        "outputId": "98a48bfe-ff1d-49b2-e0f1-42b923244bd8"
      },
      "execution_count": 68,
      "outputs": [
        {
          "output_type": "display_data",
          "data": {
            "text/html": [
              "<html>\n",
              "<head><meta charset=\"utf-8\" /></head>\n",
              "<body>\n",
              "    <div>            <script src=\"https://cdnjs.cloudflare.com/ajax/libs/mathjax/2.7.5/MathJax.js?config=TeX-AMS-MML_SVG\"></script><script type=\"text/javascript\">if (window.MathJax) {MathJax.Hub.Config({SVG: {font: \"STIX-Web\"}});}</script>                <script type=\"text/javascript\">window.PlotlyConfig = {MathJaxConfig: 'local'};</script>\n",
              "        <script src=\"https://cdn.plot.ly/plotly-2.8.3.min.js\"></script>                <div id=\"bbfaa9eb-11f9-4054-b91a-b4802444ad53\" class=\"plotly-graph-div\" style=\"height:525px; width:100%;\"></div>            <script type=\"text/javascript\">                                    window.PLOTLYENV=window.PLOTLYENV || {};                                    if (document.getElementById(\"bbfaa9eb-11f9-4054-b91a-b4802444ad53\")) {                    Plotly.newPlot(                        \"bbfaa9eb-11f9-4054-b91a-b4802444ad53\",                        [{\"marker\":{\"color\":\"indianred\"},\"name\":\"The frequency of using credit card for each customer during covid\",\"y\":[15,2,22,4,7,8,3,2,10,9,34,13,35,7,25,32,4,7,28,9,13,19,28,24,8,8],\"type\":\"box\"},{\"marker\":{\"color\":\"lightseagreen\"},\"name\":\"The frequency of using credit card for each customer before covid\",\"y\":[35,8,50,19,42,26,5,20,28,9,119,19,45,68,34,133,9,14,79,26,33,94,26,50,21,19],\"type\":\"box\"}],                        {\"template\":{\"data\":{\"bar\":[{\"error_x\":{\"color\":\"#2a3f5f\"},\"error_y\":{\"color\":\"#2a3f5f\"},\"marker\":{\"line\":{\"color\":\"#E5ECF6\",\"width\":0.5},\"pattern\":{\"fillmode\":\"overlay\",\"size\":10,\"solidity\":0.2}},\"type\":\"bar\"}],\"barpolar\":[{\"marker\":{\"line\":{\"color\":\"#E5ECF6\",\"width\":0.5},\"pattern\":{\"fillmode\":\"overlay\",\"size\":10,\"solidity\":0.2}},\"type\":\"barpolar\"}],\"carpet\":[{\"aaxis\":{\"endlinecolor\":\"#2a3f5f\",\"gridcolor\":\"white\",\"linecolor\":\"white\",\"minorgridcolor\":\"white\",\"startlinecolor\":\"#2a3f5f\"},\"baxis\":{\"endlinecolor\":\"#2a3f5f\",\"gridcolor\":\"white\",\"linecolor\":\"white\",\"minorgridcolor\":\"white\",\"startlinecolor\":\"#2a3f5f\"},\"type\":\"carpet\"}],\"choropleth\":[{\"colorbar\":{\"outlinewidth\":0,\"ticks\":\"\"},\"type\":\"choropleth\"}],\"contour\":[{\"colorbar\":{\"outlinewidth\":0,\"ticks\":\"\"},\"colorscale\":[[0.0,\"#0d0887\"],[0.1111111111111111,\"#46039f\"],[0.2222222222222222,\"#7201a8\"],[0.3333333333333333,\"#9c179e\"],[0.4444444444444444,\"#bd3786\"],[0.5555555555555556,\"#d8576b\"],[0.6666666666666666,\"#ed7953\"],[0.7777777777777778,\"#fb9f3a\"],[0.8888888888888888,\"#fdca26\"],[1.0,\"#f0f921\"]],\"type\":\"contour\"}],\"contourcarpet\":[{\"colorbar\":{\"outlinewidth\":0,\"ticks\":\"\"},\"type\":\"contourcarpet\"}],\"heatmap\":[{\"colorbar\":{\"outlinewidth\":0,\"ticks\":\"\"},\"colorscale\":[[0.0,\"#0d0887\"],[0.1111111111111111,\"#46039f\"],[0.2222222222222222,\"#7201a8\"],[0.3333333333333333,\"#9c179e\"],[0.4444444444444444,\"#bd3786\"],[0.5555555555555556,\"#d8576b\"],[0.6666666666666666,\"#ed7953\"],[0.7777777777777778,\"#fb9f3a\"],[0.8888888888888888,\"#fdca26\"],[1.0,\"#f0f921\"]],\"type\":\"heatmap\"}],\"heatmapgl\":[{\"colorbar\":{\"outlinewidth\":0,\"ticks\":\"\"},\"colorscale\":[[0.0,\"#0d0887\"],[0.1111111111111111,\"#46039f\"],[0.2222222222222222,\"#7201a8\"],[0.3333333333333333,\"#9c179e\"],[0.4444444444444444,\"#bd3786\"],[0.5555555555555556,\"#d8576b\"],[0.6666666666666666,\"#ed7953\"],[0.7777777777777778,\"#fb9f3a\"],[0.8888888888888888,\"#fdca26\"],[1.0,\"#f0f921\"]],\"type\":\"heatmapgl\"}],\"histogram\":[{\"marker\":{\"pattern\":{\"fillmode\":\"overlay\",\"size\":10,\"solidity\":0.2}},\"type\":\"histogram\"}],\"histogram2d\":[{\"colorbar\":{\"outlinewidth\":0,\"ticks\":\"\"},\"colorscale\":[[0.0,\"#0d0887\"],[0.1111111111111111,\"#46039f\"],[0.2222222222222222,\"#7201a8\"],[0.3333333333333333,\"#9c179e\"],[0.4444444444444444,\"#bd3786\"],[0.5555555555555556,\"#d8576b\"],[0.6666666666666666,\"#ed7953\"],[0.7777777777777778,\"#fb9f3a\"],[0.8888888888888888,\"#fdca26\"],[1.0,\"#f0f921\"]],\"type\":\"histogram2d\"}],\"histogram2dcontour\":[{\"colorbar\":{\"outlinewidth\":0,\"ticks\":\"\"},\"colorscale\":[[0.0,\"#0d0887\"],[0.1111111111111111,\"#46039f\"],[0.2222222222222222,\"#7201a8\"],[0.3333333333333333,\"#9c179e\"],[0.4444444444444444,\"#bd3786\"],[0.5555555555555556,\"#d8576b\"],[0.6666666666666666,\"#ed7953\"],[0.7777777777777778,\"#fb9f3a\"],[0.8888888888888888,\"#fdca26\"],[1.0,\"#f0f921\"]],\"type\":\"histogram2dcontour\"}],\"mesh3d\":[{\"colorbar\":{\"outlinewidth\":0,\"ticks\":\"\"},\"type\":\"mesh3d\"}],\"parcoords\":[{\"line\":{\"colorbar\":{\"outlinewidth\":0,\"ticks\":\"\"}},\"type\":\"parcoords\"}],\"pie\":[{\"automargin\":true,\"type\":\"pie\"}],\"scatter\":[{\"marker\":{\"colorbar\":{\"outlinewidth\":0,\"ticks\":\"\"}},\"type\":\"scatter\"}],\"scatter3d\":[{\"line\":{\"colorbar\":{\"outlinewidth\":0,\"ticks\":\"\"}},\"marker\":{\"colorbar\":{\"outlinewidth\":0,\"ticks\":\"\"}},\"type\":\"scatter3d\"}],\"scattercarpet\":[{\"marker\":{\"colorbar\":{\"outlinewidth\":0,\"ticks\":\"\"}},\"type\":\"scattercarpet\"}],\"scattergeo\":[{\"marker\":{\"colorbar\":{\"outlinewidth\":0,\"ticks\":\"\"}},\"type\":\"scattergeo\"}],\"scattergl\":[{\"marker\":{\"colorbar\":{\"outlinewidth\":0,\"ticks\":\"\"}},\"type\":\"scattergl\"}],\"scattermapbox\":[{\"marker\":{\"colorbar\":{\"outlinewidth\":0,\"ticks\":\"\"}},\"type\":\"scattermapbox\"}],\"scatterpolar\":[{\"marker\":{\"colorbar\":{\"outlinewidth\":0,\"ticks\":\"\"}},\"type\":\"scatterpolar\"}],\"scatterpolargl\":[{\"marker\":{\"colorbar\":{\"outlinewidth\":0,\"ticks\":\"\"}},\"type\":\"scatterpolargl\"}],\"scatterternary\":[{\"marker\":{\"colorbar\":{\"outlinewidth\":0,\"ticks\":\"\"}},\"type\":\"scatterternary\"}],\"surface\":[{\"colorbar\":{\"outlinewidth\":0,\"ticks\":\"\"},\"colorscale\":[[0.0,\"#0d0887\"],[0.1111111111111111,\"#46039f\"],[0.2222222222222222,\"#7201a8\"],[0.3333333333333333,\"#9c179e\"],[0.4444444444444444,\"#bd3786\"],[0.5555555555555556,\"#d8576b\"],[0.6666666666666666,\"#ed7953\"],[0.7777777777777778,\"#fb9f3a\"],[0.8888888888888888,\"#fdca26\"],[1.0,\"#f0f921\"]],\"type\":\"surface\"}],\"table\":[{\"cells\":{\"fill\":{\"color\":\"#EBF0F8\"},\"line\":{\"color\":\"white\"}},\"header\":{\"fill\":{\"color\":\"#C8D4E3\"},\"line\":{\"color\":\"white\"}},\"type\":\"table\"}]},\"layout\":{\"annotationdefaults\":{\"arrowcolor\":\"#2a3f5f\",\"arrowhead\":0,\"arrowwidth\":1},\"autotypenumbers\":\"strict\",\"coloraxis\":{\"colorbar\":{\"outlinewidth\":0,\"ticks\":\"\"}},\"colorscale\":{\"diverging\":[[0,\"#8e0152\"],[0.1,\"#c51b7d\"],[0.2,\"#de77ae\"],[0.3,\"#f1b6da\"],[0.4,\"#fde0ef\"],[0.5,\"#f7f7f7\"],[0.6,\"#e6f5d0\"],[0.7,\"#b8e186\"],[0.8,\"#7fbc41\"],[0.9,\"#4d9221\"],[1,\"#276419\"]],\"sequential\":[[0.0,\"#0d0887\"],[0.1111111111111111,\"#46039f\"],[0.2222222222222222,\"#7201a8\"],[0.3333333333333333,\"#9c179e\"],[0.4444444444444444,\"#bd3786\"],[0.5555555555555556,\"#d8576b\"],[0.6666666666666666,\"#ed7953\"],[0.7777777777777778,\"#fb9f3a\"],[0.8888888888888888,\"#fdca26\"],[1.0,\"#f0f921\"]],\"sequentialminus\":[[0.0,\"#0d0887\"],[0.1111111111111111,\"#46039f\"],[0.2222222222222222,\"#7201a8\"],[0.3333333333333333,\"#9c179e\"],[0.4444444444444444,\"#bd3786\"],[0.5555555555555556,\"#d8576b\"],[0.6666666666666666,\"#ed7953\"],[0.7777777777777778,\"#fb9f3a\"],[0.8888888888888888,\"#fdca26\"],[1.0,\"#f0f921\"]]},\"colorway\":[\"#636efa\",\"#EF553B\",\"#00cc96\",\"#ab63fa\",\"#FFA15A\",\"#19d3f3\",\"#FF6692\",\"#B6E880\",\"#FF97FF\",\"#FECB52\"],\"font\":{\"color\":\"#2a3f5f\"},\"geo\":{\"bgcolor\":\"white\",\"lakecolor\":\"white\",\"landcolor\":\"#E5ECF6\",\"showlakes\":true,\"showland\":true,\"subunitcolor\":\"white\"},\"hoverlabel\":{\"align\":\"left\"},\"hovermode\":\"closest\",\"mapbox\":{\"style\":\"light\"},\"paper_bgcolor\":\"white\",\"plot_bgcolor\":\"#E5ECF6\",\"polar\":{\"angularaxis\":{\"gridcolor\":\"white\",\"linecolor\":\"white\",\"ticks\":\"\"},\"bgcolor\":\"#E5ECF6\",\"radialaxis\":{\"gridcolor\":\"white\",\"linecolor\":\"white\",\"ticks\":\"\"}},\"scene\":{\"xaxis\":{\"backgroundcolor\":\"#E5ECF6\",\"gridcolor\":\"white\",\"gridwidth\":2,\"linecolor\":\"white\",\"showbackground\":true,\"ticks\":\"\",\"zerolinecolor\":\"white\"},\"yaxis\":{\"backgroundcolor\":\"#E5ECF6\",\"gridcolor\":\"white\",\"gridwidth\":2,\"linecolor\":\"white\",\"showbackground\":true,\"ticks\":\"\",\"zerolinecolor\":\"white\"},\"zaxis\":{\"backgroundcolor\":\"#E5ECF6\",\"gridcolor\":\"white\",\"gridwidth\":2,\"linecolor\":\"white\",\"showbackground\":true,\"ticks\":\"\",\"zerolinecolor\":\"white\"}},\"shapedefaults\":{\"line\":{\"color\":\"#2a3f5f\"}},\"ternary\":{\"aaxis\":{\"gridcolor\":\"white\",\"linecolor\":\"white\",\"ticks\":\"\"},\"baxis\":{\"gridcolor\":\"white\",\"linecolor\":\"white\",\"ticks\":\"\"},\"bgcolor\":\"#E5ECF6\",\"caxis\":{\"gridcolor\":\"white\",\"linecolor\":\"white\",\"ticks\":\"\"}},\"title\":{\"x\":0.05},\"xaxis\":{\"automargin\":true,\"gridcolor\":\"white\",\"linecolor\":\"white\",\"ticks\":\"\",\"title\":{\"standoff\":15},\"zerolinecolor\":\"white\",\"zerolinewidth\":2},\"yaxis\":{\"automargin\":true,\"gridcolor\":\"white\",\"linecolor\":\"white\",\"ticks\":\"\",\"title\":{\"standoff\":15},\"zerolinecolor\":\"white\",\"zerolinewidth\":2}}}},                        {\"responsive\": true}                    ).then(function(){\n",
              "                            \n",
              "var gd = document.getElementById('bbfaa9eb-11f9-4054-b91a-b4802444ad53');\n",
              "var x = new MutationObserver(function (mutations, observer) {{\n",
              "        var display = window.getComputedStyle(gd).display;\n",
              "        if (!display || display === 'none') {{\n",
              "            console.log([gd, 'removed!']);\n",
              "            Plotly.purge(gd);\n",
              "            observer.disconnect();\n",
              "        }}\n",
              "}});\n",
              "\n",
              "// Listen for the removal of the full notebook cells\n",
              "var notebookContainer = gd.closest('#notebook-container');\n",
              "if (notebookContainer) {{\n",
              "    x.observe(notebookContainer, {childList: true});\n",
              "}}\n",
              "\n",
              "// Listen for the clearing of the current output cell\n",
              "var outputEl = gd.closest('.output');\n",
              "if (outputEl) {{\n",
              "    x.observe(outputEl, {childList: true});\n",
              "}}\n",
              "\n",
              "                        })                };                            </script>        </div>\n",
              "</body>\n",
              "</html>"
            ]
          },
          "metadata": {}
        }
      ]
    },
    {
      "cell_type": "code",
      "source": [
        "from plotly.offline import init_notebook_mode, iplot, plot\n",
        "import plotly.graph_objs as go\n",
        "\n",
        "\n",
        "# Creating trace1\n",
        "trace1 = go.Scatter(\n",
        "                    x = freq.index,\n",
        "                    y = freq.covid_freq,\n",
        "                    mode = \"lines\",\n",
        "                    name = \"Covid Freq\",\n",
        "                    marker = dict(color = 'rgba(16, 112, 2, 0.8)'),\n",
        "                    text= freq.covid_freq)\n",
        "# Creating trace2\n",
        "trace2 = go.Scatter(\n",
        "                    x = freq.index,\n",
        "                    y = freq.pre_covid_freq,\n",
        "                    mode = \"lines+markers\",\n",
        "                    name = \"Pre Covidreq\",\n",
        "                    marker = dict(color = 'rgba(80, 26, 80, 0.8)'),\n",
        "                    text= freq.pre_covid_freq)\n",
        "data = [trace1, trace2]\n",
        "layout = dict(title = 'The frequency of using credit card for each customer before covid vs during covid',\n",
        "              xaxis= dict(title= 'Customers',ticklen= 5,zeroline= False)\n",
        "             )\n",
        "fig = dict(data = data, layout = layout)\n",
        "iplot(fig)\n"
      ],
      "metadata": {
        "colab": {
          "base_uri": "https://localhost:8080/",
          "height": 542
        },
        "id": "YJuB2hXEKK2n",
        "outputId": "9ae6cab4-8017-4237-b04a-e6bda49094d6"
      },
      "execution_count": 69,
      "outputs": [
        {
          "output_type": "display_data",
          "data": {
            "text/html": [
              "<html>\n",
              "<head><meta charset=\"utf-8\" /></head>\n",
              "<body>\n",
              "    <div>            <script src=\"https://cdnjs.cloudflare.com/ajax/libs/mathjax/2.7.5/MathJax.js?config=TeX-AMS-MML_SVG\"></script><script type=\"text/javascript\">if (window.MathJax) {MathJax.Hub.Config({SVG: {font: \"STIX-Web\"}});}</script>                <script type=\"text/javascript\">window.PlotlyConfig = {MathJaxConfig: 'local'};</script>\n",
              "        <script src=\"https://cdn.plot.ly/plotly-2.8.3.min.js\"></script>                <div id=\"b640afb8-8fbc-4e0c-93c0-4ce60b0079a8\" class=\"plotly-graph-div\" style=\"height:525px; width:100%;\"></div>            <script type=\"text/javascript\">                                    window.PLOTLYENV=window.PLOTLYENV || {};                                    if (document.getElementById(\"b640afb8-8fbc-4e0c-93c0-4ce60b0079a8\")) {                    Plotly.newPlot(                        \"b640afb8-8fbc-4e0c-93c0-4ce60b0079a8\",                        [{\"marker\":{\"color\":\"rgba(16, 112, 2, 0.8)\"},\"mode\":\"lines\",\"name\":\"Covid Freq\",\"text\":[15.0,2.0,22.0,4.0,7.0,8.0,3.0,2.0,10.0,9.0,34.0,13.0,35.0,7.0,25.0,32.0,4.0,7.0,28.0,9.0,13.0,19.0,28.0,24.0,8.0,8.0],\"x\":[1,2,3,4,5,6,7,8,9,10,11,12,13,14,15,16,17,18,19,21,22,23,25,26,27,28],\"y\":[15,2,22,4,7,8,3,2,10,9,34,13,35,7,25,32,4,7,28,9,13,19,28,24,8,8],\"type\":\"scatter\"},{\"marker\":{\"color\":\"rgba(80, 26, 80, 0.8)\"},\"mode\":\"lines+markers\",\"name\":\"Pre Covidreq\",\"text\":[35.0,8.0,50.0,19.0,42.0,26.0,5.0,20.0,28.0,9.0,119.0,19.0,45.0,68.0,34.0,133.0,9.0,14.0,79.0,26.0,33.0,94.0,26.0,50.0,21.0,19.0],\"x\":[1,2,3,4,5,6,7,8,9,10,11,12,13,14,15,16,17,18,19,21,22,23,25,26,27,28],\"y\":[35,8,50,19,42,26,5,20,28,9,119,19,45,68,34,133,9,14,79,26,33,94,26,50,21,19],\"type\":\"scatter\"}],                        {\"template\":{\"data\":{\"barpolar\":[{\"marker\":{\"line\":{\"color\":\"#E5ECF6\",\"width\":0.5},\"pattern\":{\"fillmode\":\"overlay\",\"size\":10,\"solidity\":0.2}},\"type\":\"barpolar\"}],\"bar\":[{\"error_x\":{\"color\":\"#2a3f5f\"},\"error_y\":{\"color\":\"#2a3f5f\"},\"marker\":{\"line\":{\"color\":\"#E5ECF6\",\"width\":0.5},\"pattern\":{\"fillmode\":\"overlay\",\"size\":10,\"solidity\":0.2}},\"type\":\"bar\"}],\"carpet\":[{\"aaxis\":{\"endlinecolor\":\"#2a3f5f\",\"gridcolor\":\"white\",\"linecolor\":\"white\",\"minorgridcolor\":\"white\",\"startlinecolor\":\"#2a3f5f\"},\"baxis\":{\"endlinecolor\":\"#2a3f5f\",\"gridcolor\":\"white\",\"linecolor\":\"white\",\"minorgridcolor\":\"white\",\"startlinecolor\":\"#2a3f5f\"},\"type\":\"carpet\"}],\"choropleth\":[{\"colorbar\":{\"outlinewidth\":0,\"ticks\":\"\"},\"type\":\"choropleth\"}],\"contourcarpet\":[{\"colorbar\":{\"outlinewidth\":0,\"ticks\":\"\"},\"type\":\"contourcarpet\"}],\"contour\":[{\"colorbar\":{\"outlinewidth\":0,\"ticks\":\"\"},\"colorscale\":[[0.0,\"#0d0887\"],[0.1111111111111111,\"#46039f\"],[0.2222222222222222,\"#7201a8\"],[0.3333333333333333,\"#9c179e\"],[0.4444444444444444,\"#bd3786\"],[0.5555555555555556,\"#d8576b\"],[0.6666666666666666,\"#ed7953\"],[0.7777777777777778,\"#fb9f3a\"],[0.8888888888888888,\"#fdca26\"],[1.0,\"#f0f921\"]],\"type\":\"contour\"}],\"heatmapgl\":[{\"colorbar\":{\"outlinewidth\":0,\"ticks\":\"\"},\"colorscale\":[[0.0,\"#0d0887\"],[0.1111111111111111,\"#46039f\"],[0.2222222222222222,\"#7201a8\"],[0.3333333333333333,\"#9c179e\"],[0.4444444444444444,\"#bd3786\"],[0.5555555555555556,\"#d8576b\"],[0.6666666666666666,\"#ed7953\"],[0.7777777777777778,\"#fb9f3a\"],[0.8888888888888888,\"#fdca26\"],[1.0,\"#f0f921\"]],\"type\":\"heatmapgl\"}],\"heatmap\":[{\"colorbar\":{\"outlinewidth\":0,\"ticks\":\"\"},\"colorscale\":[[0.0,\"#0d0887\"],[0.1111111111111111,\"#46039f\"],[0.2222222222222222,\"#7201a8\"],[0.3333333333333333,\"#9c179e\"],[0.4444444444444444,\"#bd3786\"],[0.5555555555555556,\"#d8576b\"],[0.6666666666666666,\"#ed7953\"],[0.7777777777777778,\"#fb9f3a\"],[0.8888888888888888,\"#fdca26\"],[1.0,\"#f0f921\"]],\"type\":\"heatmap\"}],\"histogram2dcontour\":[{\"colorbar\":{\"outlinewidth\":0,\"ticks\":\"\"},\"colorscale\":[[0.0,\"#0d0887\"],[0.1111111111111111,\"#46039f\"],[0.2222222222222222,\"#7201a8\"],[0.3333333333333333,\"#9c179e\"],[0.4444444444444444,\"#bd3786\"],[0.5555555555555556,\"#d8576b\"],[0.6666666666666666,\"#ed7953\"],[0.7777777777777778,\"#fb9f3a\"],[0.8888888888888888,\"#fdca26\"],[1.0,\"#f0f921\"]],\"type\":\"histogram2dcontour\"}],\"histogram2d\":[{\"colorbar\":{\"outlinewidth\":0,\"ticks\":\"\"},\"colorscale\":[[0.0,\"#0d0887\"],[0.1111111111111111,\"#46039f\"],[0.2222222222222222,\"#7201a8\"],[0.3333333333333333,\"#9c179e\"],[0.4444444444444444,\"#bd3786\"],[0.5555555555555556,\"#d8576b\"],[0.6666666666666666,\"#ed7953\"],[0.7777777777777778,\"#fb9f3a\"],[0.8888888888888888,\"#fdca26\"],[1.0,\"#f0f921\"]],\"type\":\"histogram2d\"}],\"histogram\":[{\"marker\":{\"pattern\":{\"fillmode\":\"overlay\",\"size\":10,\"solidity\":0.2}},\"type\":\"histogram\"}],\"mesh3d\":[{\"colorbar\":{\"outlinewidth\":0,\"ticks\":\"\"},\"type\":\"mesh3d\"}],\"parcoords\":[{\"line\":{\"colorbar\":{\"outlinewidth\":0,\"ticks\":\"\"}},\"type\":\"parcoords\"}],\"pie\":[{\"automargin\":true,\"type\":\"pie\"}],\"scatter3d\":[{\"line\":{\"colorbar\":{\"outlinewidth\":0,\"ticks\":\"\"}},\"marker\":{\"colorbar\":{\"outlinewidth\":0,\"ticks\":\"\"}},\"type\":\"scatter3d\"}],\"scattercarpet\":[{\"marker\":{\"colorbar\":{\"outlinewidth\":0,\"ticks\":\"\"}},\"type\":\"scattercarpet\"}],\"scattergeo\":[{\"marker\":{\"colorbar\":{\"outlinewidth\":0,\"ticks\":\"\"}},\"type\":\"scattergeo\"}],\"scattergl\":[{\"marker\":{\"colorbar\":{\"outlinewidth\":0,\"ticks\":\"\"}},\"type\":\"scattergl\"}],\"scattermapbox\":[{\"marker\":{\"colorbar\":{\"outlinewidth\":0,\"ticks\":\"\"}},\"type\":\"scattermapbox\"}],\"scatterpolargl\":[{\"marker\":{\"colorbar\":{\"outlinewidth\":0,\"ticks\":\"\"}},\"type\":\"scatterpolargl\"}],\"scatterpolar\":[{\"marker\":{\"colorbar\":{\"outlinewidth\":0,\"ticks\":\"\"}},\"type\":\"scatterpolar\"}],\"scatter\":[{\"marker\":{\"colorbar\":{\"outlinewidth\":0,\"ticks\":\"\"}},\"type\":\"scatter\"}],\"scatterternary\":[{\"marker\":{\"colorbar\":{\"outlinewidth\":0,\"ticks\":\"\"}},\"type\":\"scatterternary\"}],\"surface\":[{\"colorbar\":{\"outlinewidth\":0,\"ticks\":\"\"},\"colorscale\":[[0.0,\"#0d0887\"],[0.1111111111111111,\"#46039f\"],[0.2222222222222222,\"#7201a8\"],[0.3333333333333333,\"#9c179e\"],[0.4444444444444444,\"#bd3786\"],[0.5555555555555556,\"#d8576b\"],[0.6666666666666666,\"#ed7953\"],[0.7777777777777778,\"#fb9f3a\"],[0.8888888888888888,\"#fdca26\"],[1.0,\"#f0f921\"]],\"type\":\"surface\"}],\"table\":[{\"cells\":{\"fill\":{\"color\":\"#EBF0F8\"},\"line\":{\"color\":\"white\"}},\"header\":{\"fill\":{\"color\":\"#C8D4E3\"},\"line\":{\"color\":\"white\"}},\"type\":\"table\"}]},\"layout\":{\"annotationdefaults\":{\"arrowcolor\":\"#2a3f5f\",\"arrowhead\":0,\"arrowwidth\":1},\"autotypenumbers\":\"strict\",\"coloraxis\":{\"colorbar\":{\"outlinewidth\":0,\"ticks\":\"\"}},\"colorscale\":{\"diverging\":[[0,\"#8e0152\"],[0.1,\"#c51b7d\"],[0.2,\"#de77ae\"],[0.3,\"#f1b6da\"],[0.4,\"#fde0ef\"],[0.5,\"#f7f7f7\"],[0.6,\"#e6f5d0\"],[0.7,\"#b8e186\"],[0.8,\"#7fbc41\"],[0.9,\"#4d9221\"],[1,\"#276419\"]],\"sequential\":[[0.0,\"#0d0887\"],[0.1111111111111111,\"#46039f\"],[0.2222222222222222,\"#7201a8\"],[0.3333333333333333,\"#9c179e\"],[0.4444444444444444,\"#bd3786\"],[0.5555555555555556,\"#d8576b\"],[0.6666666666666666,\"#ed7953\"],[0.7777777777777778,\"#fb9f3a\"],[0.8888888888888888,\"#fdca26\"],[1.0,\"#f0f921\"]],\"sequentialminus\":[[0.0,\"#0d0887\"],[0.1111111111111111,\"#46039f\"],[0.2222222222222222,\"#7201a8\"],[0.3333333333333333,\"#9c179e\"],[0.4444444444444444,\"#bd3786\"],[0.5555555555555556,\"#d8576b\"],[0.6666666666666666,\"#ed7953\"],[0.7777777777777778,\"#fb9f3a\"],[0.8888888888888888,\"#fdca26\"],[1.0,\"#f0f921\"]]},\"colorway\":[\"#636efa\",\"#EF553B\",\"#00cc96\",\"#ab63fa\",\"#FFA15A\",\"#19d3f3\",\"#FF6692\",\"#B6E880\",\"#FF97FF\",\"#FECB52\"],\"font\":{\"color\":\"#2a3f5f\"},\"geo\":{\"bgcolor\":\"white\",\"lakecolor\":\"white\",\"landcolor\":\"#E5ECF6\",\"showlakes\":true,\"showland\":true,\"subunitcolor\":\"white\"},\"hoverlabel\":{\"align\":\"left\"},\"hovermode\":\"closest\",\"mapbox\":{\"style\":\"light\"},\"paper_bgcolor\":\"white\",\"plot_bgcolor\":\"#E5ECF6\",\"polar\":{\"angularaxis\":{\"gridcolor\":\"white\",\"linecolor\":\"white\",\"ticks\":\"\"},\"bgcolor\":\"#E5ECF6\",\"radialaxis\":{\"gridcolor\":\"white\",\"linecolor\":\"white\",\"ticks\":\"\"}},\"scene\":{\"xaxis\":{\"backgroundcolor\":\"#E5ECF6\",\"gridcolor\":\"white\",\"gridwidth\":2,\"linecolor\":\"white\",\"showbackground\":true,\"ticks\":\"\",\"zerolinecolor\":\"white\"},\"yaxis\":{\"backgroundcolor\":\"#E5ECF6\",\"gridcolor\":\"white\",\"gridwidth\":2,\"linecolor\":\"white\",\"showbackground\":true,\"ticks\":\"\",\"zerolinecolor\":\"white\"},\"zaxis\":{\"backgroundcolor\":\"#E5ECF6\",\"gridcolor\":\"white\",\"gridwidth\":2,\"linecolor\":\"white\",\"showbackground\":true,\"ticks\":\"\",\"zerolinecolor\":\"white\"}},\"shapedefaults\":{\"line\":{\"color\":\"#2a3f5f\"}},\"ternary\":{\"aaxis\":{\"gridcolor\":\"white\",\"linecolor\":\"white\",\"ticks\":\"\"},\"baxis\":{\"gridcolor\":\"white\",\"linecolor\":\"white\",\"ticks\":\"\"},\"bgcolor\":\"#E5ECF6\",\"caxis\":{\"gridcolor\":\"white\",\"linecolor\":\"white\",\"ticks\":\"\"}},\"title\":{\"x\":0.05},\"xaxis\":{\"automargin\":true,\"gridcolor\":\"white\",\"linecolor\":\"white\",\"ticks\":\"\",\"title\":{\"standoff\":15},\"zerolinecolor\":\"white\",\"zerolinewidth\":2},\"yaxis\":{\"automargin\":true,\"gridcolor\":\"white\",\"linecolor\":\"white\",\"ticks\":\"\",\"title\":{\"standoff\":15},\"zerolinecolor\":\"white\",\"zerolinewidth\":2}}},\"title\":{\"text\":\"The frequency of using credit card for each customer before covid vs during covid\"},\"xaxis\":{\"ticklen\":5,\"title\":{\"text\":\"Customers\"},\"zeroline\":false}},                        {\"responsive\": true}                    ).then(function(){\n",
              "                            \n",
              "var gd = document.getElementById('b640afb8-8fbc-4e0c-93c0-4ce60b0079a8');\n",
              "var x = new MutationObserver(function (mutations, observer) {{\n",
              "        var display = window.getComputedStyle(gd).display;\n",
              "        if (!display || display === 'none') {{\n",
              "            console.log([gd, 'removed!']);\n",
              "            Plotly.purge(gd);\n",
              "            observer.disconnect();\n",
              "        }}\n",
              "}});\n",
              "\n",
              "// Listen for the removal of the full notebook cells\n",
              "var notebookContainer = gd.closest('#notebook-container');\n",
              "if (notebookContainer) {{\n",
              "    x.observe(notebookContainer, {childList: true});\n",
              "}}\n",
              "\n",
              "// Listen for the clearing of the current output cell\n",
              "var outputEl = gd.closest('.output');\n",
              "if (outputEl) {{\n",
              "    x.observe(outputEl, {childList: true});\n",
              "}}\n",
              "\n",
              "                        })                };                            </script>        </div>\n",
              "</body>\n",
              "</html>"
            ]
          },
          "metadata": {}
        }
      ]
    },
    {
      "cell_type": "code",
      "source": [
        "df.corr()"
      ],
      "metadata": {
        "colab": {
          "base_uri": "https://localhost:8080/",
          "height": 333
        },
        "id": "pK27pNTUKUIA",
        "outputId": "2ce599d2-4d6a-4c63-ce4e-4b36ed0e66db"
      },
      "execution_count": 70,
      "outputs": [
        {
          "output_type": "execute_result",
          "data": {
            "text/plain": [
              "                               id  branch_number       age  \\\n",
              "id                       1.000000      -0.178432  0.205862   \n",
              "branch_number           -0.178432       1.000000 -0.365763   \n",
              "age                      0.205862      -0.365763  1.000000   \n",
              "total_credit_card_limit  0.431043      -0.194742  0.554631   \n",
              "current_available_limit  0.425183      -0.335052  0.519919   \n",
              "amount                   0.059863      -0.005254  0.111993   \n",
              "Female                  -0.429397       0.109896 -0.094320   \n",
              "\n",
              "                         total_credit_card_limit  current_available_limit  \\\n",
              "id                                      0.431043                 0.425183   \n",
              "branch_number                          -0.194742                -0.335052   \n",
              "age                                     0.554631                 0.519919   \n",
              "total_credit_card_limit                 1.000000                 0.938872   \n",
              "current_available_limit                 0.938872                 1.000000   \n",
              "amount                                  0.186453                 0.114712   \n",
              "Female                                 -0.428910                -0.407079   \n",
              "\n",
              "                           amount    Female  \n",
              "id                       0.059863 -0.429397  \n",
              "branch_number           -0.005254  0.109896  \n",
              "age                      0.111993 -0.094320  \n",
              "total_credit_card_limit  0.186453 -0.428910  \n",
              "current_available_limit  0.114712 -0.407079  \n",
              "amount                   1.000000 -0.058389  \n",
              "Female                  -0.058389  1.000000  "
            ],
            "text/html": [
              "\n",
              "  <div id=\"df-8085552d-5cde-47bc-814c-182e010450cf\">\n",
              "    <div class=\"colab-df-container\">\n",
              "      <div>\n",
              "<style scoped>\n",
              "    .dataframe tbody tr th:only-of-type {\n",
              "        vertical-align: middle;\n",
              "    }\n",
              "\n",
              "    .dataframe tbody tr th {\n",
              "        vertical-align: top;\n",
              "    }\n",
              "\n",
              "    .dataframe thead th {\n",
              "        text-align: right;\n",
              "    }\n",
              "</style>\n",
              "<table border=\"1\" class=\"dataframe\">\n",
              "  <thead>\n",
              "    <tr style=\"text-align: right;\">\n",
              "      <th></th>\n",
              "      <th>id</th>\n",
              "      <th>branch_number</th>\n",
              "      <th>age</th>\n",
              "      <th>total_credit_card_limit</th>\n",
              "      <th>current_available_limit</th>\n",
              "      <th>amount</th>\n",
              "      <th>Female</th>\n",
              "    </tr>\n",
              "  </thead>\n",
              "  <tbody>\n",
              "    <tr>\n",
              "      <th>id</th>\n",
              "      <td>1.000000</td>\n",
              "      <td>-0.178432</td>\n",
              "      <td>0.205862</td>\n",
              "      <td>0.431043</td>\n",
              "      <td>0.425183</td>\n",
              "      <td>0.059863</td>\n",
              "      <td>-0.429397</td>\n",
              "    </tr>\n",
              "    <tr>\n",
              "      <th>branch_number</th>\n",
              "      <td>-0.178432</td>\n",
              "      <td>1.000000</td>\n",
              "      <td>-0.365763</td>\n",
              "      <td>-0.194742</td>\n",
              "      <td>-0.335052</td>\n",
              "      <td>-0.005254</td>\n",
              "      <td>0.109896</td>\n",
              "    </tr>\n",
              "    <tr>\n",
              "      <th>age</th>\n",
              "      <td>0.205862</td>\n",
              "      <td>-0.365763</td>\n",
              "      <td>1.000000</td>\n",
              "      <td>0.554631</td>\n",
              "      <td>0.519919</td>\n",
              "      <td>0.111993</td>\n",
              "      <td>-0.094320</td>\n",
              "    </tr>\n",
              "    <tr>\n",
              "      <th>total_credit_card_limit</th>\n",
              "      <td>0.431043</td>\n",
              "      <td>-0.194742</td>\n",
              "      <td>0.554631</td>\n",
              "      <td>1.000000</td>\n",
              "      <td>0.938872</td>\n",
              "      <td>0.186453</td>\n",
              "      <td>-0.428910</td>\n",
              "    </tr>\n",
              "    <tr>\n",
              "      <th>current_available_limit</th>\n",
              "      <td>0.425183</td>\n",
              "      <td>-0.335052</td>\n",
              "      <td>0.519919</td>\n",
              "      <td>0.938872</td>\n",
              "      <td>1.000000</td>\n",
              "      <td>0.114712</td>\n",
              "      <td>-0.407079</td>\n",
              "    </tr>\n",
              "    <tr>\n",
              "      <th>amount</th>\n",
              "      <td>0.059863</td>\n",
              "      <td>-0.005254</td>\n",
              "      <td>0.111993</td>\n",
              "      <td>0.186453</td>\n",
              "      <td>0.114712</td>\n",
              "      <td>1.000000</td>\n",
              "      <td>-0.058389</td>\n",
              "    </tr>\n",
              "    <tr>\n",
              "      <th>Female</th>\n",
              "      <td>-0.429397</td>\n",
              "      <td>0.109896</td>\n",
              "      <td>-0.094320</td>\n",
              "      <td>-0.428910</td>\n",
              "      <td>-0.407079</td>\n",
              "      <td>-0.058389</td>\n",
              "      <td>1.000000</td>\n",
              "    </tr>\n",
              "  </tbody>\n",
              "</table>\n",
              "</div>\n",
              "      <button class=\"colab-df-convert\" onclick=\"convertToInteractive('df-8085552d-5cde-47bc-814c-182e010450cf')\"\n",
              "              title=\"Convert this dataframe to an interactive table.\"\n",
              "              style=\"display:none;\">\n",
              "        \n",
              "  <svg xmlns=\"http://www.w3.org/2000/svg\" height=\"24px\"viewBox=\"0 0 24 24\"\n",
              "       width=\"24px\">\n",
              "    <path d=\"M0 0h24v24H0V0z\" fill=\"none\"/>\n",
              "    <path d=\"M18.56 5.44l.94 2.06.94-2.06 2.06-.94-2.06-.94-.94-2.06-.94 2.06-2.06.94zm-11 1L8.5 8.5l.94-2.06 2.06-.94-2.06-.94L8.5 2.5l-.94 2.06-2.06.94zm10 10l.94 2.06.94-2.06 2.06-.94-2.06-.94-.94-2.06-.94 2.06-2.06.94z\"/><path d=\"M17.41 7.96l-1.37-1.37c-.4-.4-.92-.59-1.43-.59-.52 0-1.04.2-1.43.59L10.3 9.45l-7.72 7.72c-.78.78-.78 2.05 0 2.83L4 21.41c.39.39.9.59 1.41.59.51 0 1.02-.2 1.41-.59l7.78-7.78 2.81-2.81c.8-.78.8-2.07 0-2.86zM5.41 20L4 18.59l7.72-7.72 1.47 1.35L5.41 20z\"/>\n",
              "  </svg>\n",
              "      </button>\n",
              "      \n",
              "  <style>\n",
              "    .colab-df-container {\n",
              "      display:flex;\n",
              "      flex-wrap:wrap;\n",
              "      gap: 12px;\n",
              "    }\n",
              "\n",
              "    .colab-df-convert {\n",
              "      background-color: #E8F0FE;\n",
              "      border: none;\n",
              "      border-radius: 50%;\n",
              "      cursor: pointer;\n",
              "      display: none;\n",
              "      fill: #1967D2;\n",
              "      height: 32px;\n",
              "      padding: 0 0 0 0;\n",
              "      width: 32px;\n",
              "    }\n",
              "\n",
              "    .colab-df-convert:hover {\n",
              "      background-color: #E2EBFA;\n",
              "      box-shadow: 0px 1px 2px rgba(60, 64, 67, 0.3), 0px 1px 3px 1px rgba(60, 64, 67, 0.15);\n",
              "      fill: #174EA6;\n",
              "    }\n",
              "\n",
              "    [theme=dark] .colab-df-convert {\n",
              "      background-color: #3B4455;\n",
              "      fill: #D2E3FC;\n",
              "    }\n",
              "\n",
              "    [theme=dark] .colab-df-convert:hover {\n",
              "      background-color: #434B5C;\n",
              "      box-shadow: 0px 1px 3px 1px rgba(0, 0, 0, 0.15);\n",
              "      filter: drop-shadow(0px 1px 2px rgba(0, 0, 0, 0.3));\n",
              "      fill: #FFFFFF;\n",
              "    }\n",
              "  </style>\n",
              "\n",
              "      <script>\n",
              "        const buttonEl =\n",
              "          document.querySelector('#df-8085552d-5cde-47bc-814c-182e010450cf button.colab-df-convert');\n",
              "        buttonEl.style.display =\n",
              "          google.colab.kernel.accessAllowed ? 'block' : 'none';\n",
              "\n",
              "        async function convertToInteractive(key) {\n",
              "          const element = document.querySelector('#df-8085552d-5cde-47bc-814c-182e010450cf');\n",
              "          const dataTable =\n",
              "            await google.colab.kernel.invokeFunction('convertToInteractive',\n",
              "                                                     [key], {});\n",
              "          if (!dataTable) return;\n",
              "\n",
              "          const docLinkHtml = 'Like what you see? Visit the ' +\n",
              "            '<a target=\"_blank\" href=https://colab.research.google.com/notebooks/data_table.ipynb>data table notebook</a>'\n",
              "            + ' to learn more about interactive tables.';\n",
              "          element.innerHTML = '';\n",
              "          dataTable['output_type'] = 'display_data';\n",
              "          await google.colab.output.renderOutput(dataTable, element);\n",
              "          const docLink = document.createElement('div');\n",
              "          docLink.innerHTML = docLinkHtml;\n",
              "          element.appendChild(docLink);\n",
              "        }\n",
              "      </script>\n",
              "    </div>\n",
              "  </div>\n",
              "  "
            ]
          },
          "metadata": {},
          "execution_count": 70
        }
      ]
    },
    {
      "cell_type": "markdown",
      "source": [
        "###I would take the variables 'total_credit_card_limit', 'current_available_limit' and 'age'. When we look at the correlation matrix, the relationship between them is the most in these 3 variables to evaluate the risk"
      ],
      "metadata": {
        "id": "UJcRmeAVLJDK"
      }
    },
    {
      "cell_type": "code",
      "source": [
        "df"
      ],
      "metadata": {
        "colab": {
          "base_uri": "https://localhost:8080/",
          "height": 748
        },
        "id": "WZ9vlnvoRoOT",
        "outputId": "4526051b-8154-406d-d76a-13b51a7d138e"
      },
      "execution_count": 71,
      "outputs": [
        {
          "output_type": "execute_result",
          "data": {
            "text/plain": [
              "      id  branch_number                    city state  age  \\\n",
              "0      1         201405  CAMPO LIMPO PAULISTA     SP    37   \n",
              "1      1         201405  CAMPO LIMPO PAULISTA     SP    37   \n",
              "2      1         201405  CAMPO LIMPO PAULISTA     SP    37   \n",
              "3      1         201405  CAMPO LIMPO PAULISTA     SP    37   \n",
              "4      1         201405  CAMPO LIMPO PAULISTA     SP    37   \n",
              "...   ..            ...                     ...   ...  ...   \n",
              "4950  23         201910  SAO PAULO                SP    37   \n",
              "4951  23         201910  SAO PAULO                SP    37   \n",
              "4952  23         201910  SAO PAULO                SP    37   \n",
              "4953  23         201910  SAO PAULO                SP    37   \n",
              "4954  23         201910  SAO PAULO                SP    37   \n",
              "\n",
              "      total_credit_card_limit  current_available_limit       date  amount  \\\n",
              "0                        4700                     5605 2019-12-04   31.00   \n",
              "1                        4700                     5343 2019-11-09  150.01   \n",
              "2                        4700                     2829 2019-05-06   50.00   \n",
              "3                        4700                     2547 2019-06-01   54.40   \n",
              "4                        4700                     2515 2019-06-01   32.79   \n",
              "...                       ...                      ...        ...     ...   \n",
              "4950                     8500                     5305 2020-01-23   25.50   \n",
              "4951                     8500                     5266 2020-01-23   39.50   \n",
              "4952                     8500                     5445 2020-02-19   75.56   \n",
              "4953                     8500                     5002 2020-03-30    5.90   \n",
              "4954                     8500                     5222 2020-01-24   43.69   \n",
              "\n",
              "     category_expense  purchase_city purchase_country  Female  \n",
              "0             SERVIO      SAO PAULO               BR       1  \n",
              "1           FARMACIAS         SANTOS               BR       1  \n",
              "2             SERVIO      SAO PAULO               BR       1  \n",
              "3            M.O.T.O.         OSASCO               BR       1  \n",
              "4            M.O.T.O.         OSASCO               BR       1  \n",
              "...               ...            ...              ...     ...  \n",
              "4950      RESTAURANTE      SAO PAULO               BR       0  \n",
              "4951    SUPERMERCADOS      SAO PAULO               BR       0  \n",
              "4952      RESTAURANTE      SAO PAULO               BR       0  \n",
              "4953          SERVIO      SAO PAULO               BR       0  \n",
              "4954         M.O.T.O.  RIO DE JANEIR               BR       0  \n",
              "\n",
              "[4942 rows x 13 columns]"
            ],
            "text/html": [
              "\n",
              "  <div id=\"df-a77d38da-626b-44a7-af50-c67fe71a38ea\">\n",
              "    <div class=\"colab-df-container\">\n",
              "      <div>\n",
              "<style scoped>\n",
              "    .dataframe tbody tr th:only-of-type {\n",
              "        vertical-align: middle;\n",
              "    }\n",
              "\n",
              "    .dataframe tbody tr th {\n",
              "        vertical-align: top;\n",
              "    }\n",
              "\n",
              "    .dataframe thead th {\n",
              "        text-align: right;\n",
              "    }\n",
              "</style>\n",
              "<table border=\"1\" class=\"dataframe\">\n",
              "  <thead>\n",
              "    <tr style=\"text-align: right;\">\n",
              "      <th></th>\n",
              "      <th>id</th>\n",
              "      <th>branch_number</th>\n",
              "      <th>city</th>\n",
              "      <th>state</th>\n",
              "      <th>age</th>\n",
              "      <th>total_credit_card_limit</th>\n",
              "      <th>current_available_limit</th>\n",
              "      <th>date</th>\n",
              "      <th>amount</th>\n",
              "      <th>category_expense</th>\n",
              "      <th>purchase_city</th>\n",
              "      <th>purchase_country</th>\n",
              "      <th>Female</th>\n",
              "    </tr>\n",
              "  </thead>\n",
              "  <tbody>\n",
              "    <tr>\n",
              "      <th>0</th>\n",
              "      <td>1</td>\n",
              "      <td>201405</td>\n",
              "      <td>CAMPO LIMPO PAULISTA</td>\n",
              "      <td>SP</td>\n",
              "      <td>37</td>\n",
              "      <td>4700</td>\n",
              "      <td>5605</td>\n",
              "      <td>2019-12-04</td>\n",
              "      <td>31.00</td>\n",
              "      <td>SERVIO</td>\n",
              "      <td>SAO PAULO</td>\n",
              "      <td>BR</td>\n",
              "      <td>1</td>\n",
              "    </tr>\n",
              "    <tr>\n",
              "      <th>1</th>\n",
              "      <td>1</td>\n",
              "      <td>201405</td>\n",
              "      <td>CAMPO LIMPO PAULISTA</td>\n",
              "      <td>SP</td>\n",
              "      <td>37</td>\n",
              "      <td>4700</td>\n",
              "      <td>5343</td>\n",
              "      <td>2019-11-09</td>\n",
              "      <td>150.01</td>\n",
              "      <td>FARMACIAS</td>\n",
              "      <td>SANTOS</td>\n",
              "      <td>BR</td>\n",
              "      <td>1</td>\n",
              "    </tr>\n",
              "    <tr>\n",
              "      <th>2</th>\n",
              "      <td>1</td>\n",
              "      <td>201405</td>\n",
              "      <td>CAMPO LIMPO PAULISTA</td>\n",
              "      <td>SP</td>\n",
              "      <td>37</td>\n",
              "      <td>4700</td>\n",
              "      <td>2829</td>\n",
              "      <td>2019-05-06</td>\n",
              "      <td>50.00</td>\n",
              "      <td>SERVIO</td>\n",
              "      <td>SAO PAULO</td>\n",
              "      <td>BR</td>\n",
              "      <td>1</td>\n",
              "    </tr>\n",
              "    <tr>\n",
              "      <th>3</th>\n",
              "      <td>1</td>\n",
              "      <td>201405</td>\n",
              "      <td>CAMPO LIMPO PAULISTA</td>\n",
              "      <td>SP</td>\n",
              "      <td>37</td>\n",
              "      <td>4700</td>\n",
              "      <td>2547</td>\n",
              "      <td>2019-06-01</td>\n",
              "      <td>54.40</td>\n",
              "      <td>M.O.T.O.</td>\n",
              "      <td>OSASCO</td>\n",
              "      <td>BR</td>\n",
              "      <td>1</td>\n",
              "    </tr>\n",
              "    <tr>\n",
              "      <th>4</th>\n",
              "      <td>1</td>\n",
              "      <td>201405</td>\n",
              "      <td>CAMPO LIMPO PAULISTA</td>\n",
              "      <td>SP</td>\n",
              "      <td>37</td>\n",
              "      <td>4700</td>\n",
              "      <td>2515</td>\n",
              "      <td>2019-06-01</td>\n",
              "      <td>32.79</td>\n",
              "      <td>M.O.T.O.</td>\n",
              "      <td>OSASCO</td>\n",
              "      <td>BR</td>\n",
              "      <td>1</td>\n",
              "    </tr>\n",
              "    <tr>\n",
              "      <th>...</th>\n",
              "      <td>...</td>\n",
              "      <td>...</td>\n",
              "      <td>...</td>\n",
              "      <td>...</td>\n",
              "      <td>...</td>\n",
              "      <td>...</td>\n",
              "      <td>...</td>\n",
              "      <td>...</td>\n",
              "      <td>...</td>\n",
              "      <td>...</td>\n",
              "      <td>...</td>\n",
              "      <td>...</td>\n",
              "      <td>...</td>\n",
              "    </tr>\n",
              "    <tr>\n",
              "      <th>4950</th>\n",
              "      <td>23</td>\n",
              "      <td>201910</td>\n",
              "      <td>SAO PAULO</td>\n",
              "      <td>SP</td>\n",
              "      <td>37</td>\n",
              "      <td>8500</td>\n",
              "      <td>5305</td>\n",
              "      <td>2020-01-23</td>\n",
              "      <td>25.50</td>\n",
              "      <td>RESTAURANTE</td>\n",
              "      <td>SAO PAULO</td>\n",
              "      <td>BR</td>\n",
              "      <td>0</td>\n",
              "    </tr>\n",
              "    <tr>\n",
              "      <th>4951</th>\n",
              "      <td>23</td>\n",
              "      <td>201910</td>\n",
              "      <td>SAO PAULO</td>\n",
              "      <td>SP</td>\n",
              "      <td>37</td>\n",
              "      <td>8500</td>\n",
              "      <td>5266</td>\n",
              "      <td>2020-01-23</td>\n",
              "      <td>39.50</td>\n",
              "      <td>SUPERMERCADOS</td>\n",
              "      <td>SAO PAULO</td>\n",
              "      <td>BR</td>\n",
              "      <td>0</td>\n",
              "    </tr>\n",
              "    <tr>\n",
              "      <th>4952</th>\n",
              "      <td>23</td>\n",
              "      <td>201910</td>\n",
              "      <td>SAO PAULO</td>\n",
              "      <td>SP</td>\n",
              "      <td>37</td>\n",
              "      <td>8500</td>\n",
              "      <td>5445</td>\n",
              "      <td>2020-02-19</td>\n",
              "      <td>75.56</td>\n",
              "      <td>RESTAURANTE</td>\n",
              "      <td>SAO PAULO</td>\n",
              "      <td>BR</td>\n",
              "      <td>0</td>\n",
              "    </tr>\n",
              "    <tr>\n",
              "      <th>4953</th>\n",
              "      <td>23</td>\n",
              "      <td>201910</td>\n",
              "      <td>SAO PAULO</td>\n",
              "      <td>SP</td>\n",
              "      <td>37</td>\n",
              "      <td>8500</td>\n",
              "      <td>5002</td>\n",
              "      <td>2020-03-30</td>\n",
              "      <td>5.90</td>\n",
              "      <td>SERVIO</td>\n",
              "      <td>SAO PAULO</td>\n",
              "      <td>BR</td>\n",
              "      <td>0</td>\n",
              "    </tr>\n",
              "    <tr>\n",
              "      <th>4954</th>\n",
              "      <td>23</td>\n",
              "      <td>201910</td>\n",
              "      <td>SAO PAULO</td>\n",
              "      <td>SP</td>\n",
              "      <td>37</td>\n",
              "      <td>8500</td>\n",
              "      <td>5222</td>\n",
              "      <td>2020-01-24</td>\n",
              "      <td>43.69</td>\n",
              "      <td>M.O.T.O.</td>\n",
              "      <td>RIO DE JANEIR</td>\n",
              "      <td>BR</td>\n",
              "      <td>0</td>\n",
              "    </tr>\n",
              "  </tbody>\n",
              "</table>\n",
              "<p>4942 rows × 13 columns</p>\n",
              "</div>\n",
              "      <button class=\"colab-df-convert\" onclick=\"convertToInteractive('df-a77d38da-626b-44a7-af50-c67fe71a38ea')\"\n",
              "              title=\"Convert this dataframe to an interactive table.\"\n",
              "              style=\"display:none;\">\n",
              "        \n",
              "  <svg xmlns=\"http://www.w3.org/2000/svg\" height=\"24px\"viewBox=\"0 0 24 24\"\n",
              "       width=\"24px\">\n",
              "    <path d=\"M0 0h24v24H0V0z\" fill=\"none\"/>\n",
              "    <path d=\"M18.56 5.44l.94 2.06.94-2.06 2.06-.94-2.06-.94-.94-2.06-.94 2.06-2.06.94zm-11 1L8.5 8.5l.94-2.06 2.06-.94-2.06-.94L8.5 2.5l-.94 2.06-2.06.94zm10 10l.94 2.06.94-2.06 2.06-.94-2.06-.94-.94-2.06-.94 2.06-2.06.94z\"/><path d=\"M17.41 7.96l-1.37-1.37c-.4-.4-.92-.59-1.43-.59-.52 0-1.04.2-1.43.59L10.3 9.45l-7.72 7.72c-.78.78-.78 2.05 0 2.83L4 21.41c.39.39.9.59 1.41.59.51 0 1.02-.2 1.41-.59l7.78-7.78 2.81-2.81c.8-.78.8-2.07 0-2.86zM5.41 20L4 18.59l7.72-7.72 1.47 1.35L5.41 20z\"/>\n",
              "  </svg>\n",
              "      </button>\n",
              "      \n",
              "  <style>\n",
              "    .colab-df-container {\n",
              "      display:flex;\n",
              "      flex-wrap:wrap;\n",
              "      gap: 12px;\n",
              "    }\n",
              "\n",
              "    .colab-df-convert {\n",
              "      background-color: #E8F0FE;\n",
              "      border: none;\n",
              "      border-radius: 50%;\n",
              "      cursor: pointer;\n",
              "      display: none;\n",
              "      fill: #1967D2;\n",
              "      height: 32px;\n",
              "      padding: 0 0 0 0;\n",
              "      width: 32px;\n",
              "    }\n",
              "\n",
              "    .colab-df-convert:hover {\n",
              "      background-color: #E2EBFA;\n",
              "      box-shadow: 0px 1px 2px rgba(60, 64, 67, 0.3), 0px 1px 3px 1px rgba(60, 64, 67, 0.15);\n",
              "      fill: #174EA6;\n",
              "    }\n",
              "\n",
              "    [theme=dark] .colab-df-convert {\n",
              "      background-color: #3B4455;\n",
              "      fill: #D2E3FC;\n",
              "    }\n",
              "\n",
              "    [theme=dark] .colab-df-convert:hover {\n",
              "      background-color: #434B5C;\n",
              "      box-shadow: 0px 1px 3px 1px rgba(0, 0, 0, 0.15);\n",
              "      filter: drop-shadow(0px 1px 2px rgba(0, 0, 0, 0.3));\n",
              "      fill: #FFFFFF;\n",
              "    }\n",
              "  </style>\n",
              "\n",
              "      <script>\n",
              "        const buttonEl =\n",
              "          document.querySelector('#df-a77d38da-626b-44a7-af50-c67fe71a38ea button.colab-df-convert');\n",
              "        buttonEl.style.display =\n",
              "          google.colab.kernel.accessAllowed ? 'block' : 'none';\n",
              "\n",
              "        async function convertToInteractive(key) {\n",
              "          const element = document.querySelector('#df-a77d38da-626b-44a7-af50-c67fe71a38ea');\n",
              "          const dataTable =\n",
              "            await google.colab.kernel.invokeFunction('convertToInteractive',\n",
              "                                                     [key], {});\n",
              "          if (!dataTable) return;\n",
              "\n",
              "          const docLinkHtml = 'Like what you see? Visit the ' +\n",
              "            '<a target=\"_blank\" href=https://colab.research.google.com/notebooks/data_table.ipynb>data table notebook</a>'\n",
              "            + ' to learn more about interactive tables.';\n",
              "          element.innerHTML = '';\n",
              "          dataTable['output_type'] = 'display_data';\n",
              "          await google.colab.output.renderOutput(dataTable, element);\n",
              "          const docLink = document.createElement('div');\n",
              "          docLink.innerHTML = docLinkHtml;\n",
              "          element.appendChild(docLink);\n",
              "        }\n",
              "      </script>\n",
              "    </div>\n",
              "  </div>\n",
              "  "
            ]
          },
          "metadata": {},
          "execution_count": 71
        }
      ]
    },
    {
      "cell_type": "code",
      "source": [
        "y = df['total_credit_card_limit'].astype(int)\n",
        "x = df[['age','current_available_limit']]"
      ],
      "metadata": {
        "id": "xLjsAF-WR2-y"
      },
      "execution_count": 72,
      "outputs": []
    },
    {
      "cell_type": "code",
      "source": [
        "from sklearn.model_selection import train_test_split\n",
        "from sklearn.preprocessing import StandardScaler"
      ],
      "metadata": {
        "id": "x33lGnLQWiBU"
      },
      "execution_count": 73,
      "outputs": []
    },
    {
      "cell_type": "code",
      "source": [
        "scaler = StandardScaler()\n",
        "X = pd.DataFrame(scaler.fit_transform(x))"
      ],
      "metadata": {
        "id": "aDPiunmtWk57"
      },
      "execution_count": 74,
      "outputs": []
    },
    {
      "cell_type": "code",
      "source": [
        "X_train, X_pre_test, y_train, y_pre_test = train_test_split(X, y, test_size=0.2, random_state=42)\n",
        "\n",
        "#Focus that we are using X_pre_test and y_pre_test. Also test_size is fixed to 0.5\n",
        "\n",
        "X_val, X_test, y_val, y_test = train_test_split(X_pre_test, y_pre_test , test_size=0.5, random_state=123)  "
      ],
      "metadata": {
        "id": "QFB6EGeWW9kj"
      },
      "execution_count": 75,
      "outputs": []
    },
    {
      "cell_type": "code",
      "source": [
        "from sklearn.linear_model import LogisticRegression"
      ],
      "metadata": {
        "id": "EfZmZQ0JXDpw"
      },
      "execution_count": 76,
      "outputs": []
    },
    {
      "cell_type": "code",
      "source": [
        "model = LogisticRegression()"
      ],
      "metadata": {
        "id": "sdXegxUgXIP7"
      },
      "execution_count": 77,
      "outputs": []
    },
    {
      "cell_type": "code",
      "source": [
        "model.fit(X_train, y_train)"
      ],
      "metadata": {
        "colab": {
          "base_uri": "https://localhost:8080/"
        },
        "id": "SZ52glQVXNYt",
        "outputId": "84d60fec-b993-4bcd-95f5-96c21e28d1f8"
      },
      "execution_count": 78,
      "outputs": [
        {
          "output_type": "stream",
          "name": "stderr",
          "text": [
            "/usr/local/lib/python3.7/dist-packages/sklearn/linear_model/_logistic.py:818: ConvergenceWarning:\n",
            "\n",
            "lbfgs failed to converge (status=1):\n",
            "STOP: TOTAL NO. of ITERATIONS REACHED LIMIT.\n",
            "\n",
            "Increase the number of iterations (max_iter) or scale the data as shown in:\n",
            "    https://scikit-learn.org/stable/modules/preprocessing.html\n",
            "Please also refer to the documentation for alternative solver options:\n",
            "    https://scikit-learn.org/stable/modules/linear_model.html#logistic-regression\n",
            "\n"
          ]
        },
        {
          "output_type": "execute_result",
          "data": {
            "text/plain": [
              "LogisticRegression()"
            ]
          },
          "metadata": {},
          "execution_count": 78
        }
      ]
    },
    {
      "cell_type": "code",
      "source": [
        "pred = model.predict(X_test)"
      ],
      "metadata": {
        "id": "XhnLAw6RXgAH"
      },
      "execution_count": 79,
      "outputs": []
    },
    {
      "cell_type": "code",
      "source": [
        "from sklearn.metrics import accuracy_score"
      ],
      "metadata": {
        "id": "jM8Y1fAYXlMm"
      },
      "execution_count": 80,
      "outputs": []
    },
    {
      "cell_type": "code",
      "source": [
        "score = accuracy_score(y_test, pred)\n",
        "print('The Accuracy Score is', score)"
      ],
      "metadata": {
        "colab": {
          "base_uri": "https://localhost:8080/"
        },
        "id": "h83L5WFwXpOO",
        "outputId": "8c1f62b3-f623-4a85-8707-d86c5c63055a"
      },
      "execution_count": 81,
      "outputs": [
        {
          "output_type": "stream",
          "name": "stdout",
          "text": [
            "The Accuracy Score is 0.49292929292929294\n"
          ]
        }
      ]
    },
    {
      "cell_type": "code",
      "source": [
        "from sklearn.metrics import confusion_matrix, classification_report"
      ],
      "metadata": {
        "id": "oyw82S14X0pj"
      },
      "execution_count": 82,
      "outputs": []
    },
    {
      "cell_type": "code",
      "source": [
        "accuracy = confusion_matrix(y_test, pred)\n",
        "print('The Accuracy of Classifier: \\n', accuracy)"
      ],
      "metadata": {
        "colab": {
          "base_uri": "https://localhost:8080/"
        },
        "id": "UWdxcwRzX6t4",
        "outputId": "7b4a71bf-c94c-45ac-df51-d551a48f07a0"
      },
      "execution_count": 83,
      "outputs": [
        {
          "output_type": "stream",
          "name": "stdout",
          "text": [
            "The Accuracy of Classifier: \n",
            " [[ 5  0  0 ...  0  0  0]\n",
            " [ 0 13  0 ...  0  0  0]\n",
            " [ 0  0  0 ...  0  0  0]\n",
            " ...\n",
            " [ 0  0  0 ...  0  0  4]\n",
            " [ 0  0  0 ...  0 31  0]\n",
            " [ 0  0  0 ...  3  0 28]]\n"
          ]
        }
      ]
    },
    {
      "cell_type": "markdown",
      "source": [
        "###The recall is the ratio tp / (tp + fn) where tp is the number of true positives and fn the number of false negatives. The recall is intuitively the ability of the classifier to find all the positive samples.The best value is 1 and the worst value is 0.\n",
        "\n",
        "###The precision is the ratio tp / (tp + fp) where tp is the number of true positives and fp the number of false positives. The precision is intuitively the ability of the classifier not to label a negative sample as positive.\n",
        "\n",
        "###The F-1 score can be interpreted as a weighted harmonic mean of the precision and recall, where an F-beta score reaches its best value at 1 and worst score at 0."
      ],
      "metadata": {
        "id": "p3IrdaB31jYT"
      }
    },
    {
      "cell_type": "code",
      "source": [
        "matrix = classification_report(y_test, pred)\n",
        "print('Classification Report: \\n', matrix)"
      ],
      "metadata": {
        "colab": {
          "base_uri": "https://localhost:8080/"
        },
        "id": "Vt1yy53MYBgN",
        "outputId": "8244a2ec-f310-4e1e-b9f8-c481fe87edc3"
      },
      "execution_count": 84,
      "outputs": [
        {
          "output_type": "stream",
          "name": "stdout",
          "text": [
            "Classification Report: \n",
            "               precision    recall  f1-score   support\n",
            "\n",
            "         500       1.00      1.00      1.00         5\n",
            "        1420       1.00      1.00      1.00        13\n",
            "        1500       0.00      0.00      0.00         1\n",
            "        1600       0.00      0.00      0.00         1\n",
            "        1750       0.00      0.00      0.00         3\n",
            "        1900       0.00      0.00      0.00         1\n",
            "        2011       0.00      0.00      0.00         6\n",
            "        2200       0.33      0.24      0.28        21\n",
            "        2500       0.00      0.00      0.00         3\n",
            "        2508       0.00      0.00      0.00         2\n",
            "        2700       0.00      0.00      0.00        22\n",
            "        3200       0.00      0.00      0.00         2\n",
            "        3400       0.00      0.00      0.00         2\n",
            "        3500       0.00      0.00      0.00         6\n",
            "        3600       0.00      0.00      0.00         4\n",
            "        3650       0.57      1.00      0.73        49\n",
            "        3700       0.00      0.00      0.00        14\n",
            "        3750       0.00      0.00      0.00         1\n",
            "        3800       0.60      1.00      0.75         6\n",
            "        3973       0.00      0.00      0.00         2\n",
            "        4000       0.23      0.81      0.36        16\n",
            "        4200       0.14      0.21      0.17        38\n",
            "        4600       0.00      0.00      0.00         2\n",
            "        4700       0.08      0.05      0.06        39\n",
            "        5000       0.00      0.00      0.00         1\n",
            "        5200       0.00      0.00      0.00        14\n",
            "        5500       0.62      0.83      0.71        24\n",
            "        5605       0.00      0.00      0.00         1\n",
            "        5750       0.00      0.00      0.00         5\n",
            "        6500       1.00      0.90      0.95        21\n",
            "        7150       0.00      0.00      0.00         1\n",
            "        7500       0.20      0.26      0.23        35\n",
            "        8500       0.46      0.86      0.60        28\n",
            "        9550       1.00      1.00      1.00        12\n",
            "       10500       0.00      0.00      0.00         3\n",
            "       12000       0.00      0.00      0.00         8\n",
            "       14085       0.00      0.00      0.00         1\n",
            "       18000       0.00      0.00      0.00        20\n",
            "       35200       1.00      1.00      1.00        31\n",
            "       40000       0.88      0.90      0.89        31\n",
            "\n",
            "    accuracy                           0.49       495\n",
            "   macro avg       0.23      0.28      0.24       495\n",
            "weighted avg       0.39      0.49      0.43       495\n",
            "\n"
          ]
        },
        {
          "output_type": "stream",
          "name": "stderr",
          "text": [
            "/usr/local/lib/python3.7/dist-packages/sklearn/metrics/_classification.py:1318: UndefinedMetricWarning:\n",
            "\n",
            "Precision and F-score are ill-defined and being set to 0.0 in labels with no predicted samples. Use `zero_division` parameter to control this behavior.\n",
            "\n",
            "/usr/local/lib/python3.7/dist-packages/sklearn/metrics/_classification.py:1318: UndefinedMetricWarning:\n",
            "\n",
            "Precision and F-score are ill-defined and being set to 0.0 in labels with no predicted samples. Use `zero_division` parameter to control this behavior.\n",
            "\n",
            "/usr/local/lib/python3.7/dist-packages/sklearn/metrics/_classification.py:1318: UndefinedMetricWarning:\n",
            "\n",
            "Precision and F-score are ill-defined and being set to 0.0 in labels with no predicted samples. Use `zero_division` parameter to control this behavior.\n",
            "\n"
          ]
        }
      ]
    },
    {
      "cell_type": "code",
      "source": [
        "#from sklearn.metrics import roc_auc_score, roc_curve"
      ],
      "metadata": {
        "id": "2nkJTa2dhQJq"
      },
      "execution_count": 87,
      "outputs": []
    },
    {
      "cell_type": "code",
      "source": [
        "#auc_score = roc_auc_score(y_test, pred)\n",
        "#auc_score"
      ],
      "metadata": {
        "id": "Mw95BCIOhbIV"
      },
      "execution_count": 89,
      "outputs": []
    },
    {
      "cell_type": "code",
      "source": [
        "from sklearn.ensemble import RandomForestClassifier"
      ],
      "metadata": {
        "id": "QodsMqZqhpVy"
      },
      "execution_count": 94,
      "outputs": []
    },
    {
      "cell_type": "code",
      "source": [
        "rfc = RandomForestClassifier()"
      ],
      "metadata": {
        "id": "e8WxSyzkhxao"
      },
      "execution_count": 95,
      "outputs": []
    },
    {
      "cell_type": "code",
      "source": [
        "rfc.fit(X_train, y_train)"
      ],
      "metadata": {
        "colab": {
          "base_uri": "https://localhost:8080/"
        },
        "id": "PS2Ibz1YijWn",
        "outputId": "9ae4d272-79da-4dd6-a132-c92eeac6c121"
      },
      "execution_count": 96,
      "outputs": [
        {
          "output_type": "execute_result",
          "data": {
            "text/plain": [
              "RandomForestClassifier()"
            ]
          },
          "metadata": {},
          "execution_count": 96
        }
      ]
    },
    {
      "cell_type": "code",
      "source": [
        "rfc_pred = rfc.predict(X_test)"
      ],
      "metadata": {
        "id": "w6oM-B_AiwaE"
      },
      "execution_count": 98,
      "outputs": []
    },
    {
      "cell_type": "markdown",
      "source": [
        "##The accuracy_score function computes the accuracy, either the fraction (default) or the count (normalize=False) of correct predictions.\n",
        "\n",
        "##In multilabel classification, the function returns the subset accuracy. If the entire set of predicted labels for a sample strictly match with the true set of labels, then the subset accuracy is 1.0; otherwise it is 0.0."
      ],
      "metadata": {
        "id": "9njszC17vNmM"
      }
    },
    {
      "cell_type": "code",
      "source": [
        "score = accuracy_score(y_test, rfc_pred)\n",
        "print('The Accuracy Score is', score)"
      ],
      "metadata": {
        "colab": {
          "base_uri": "https://localhost:8080/"
        },
        "id": "1JXG5c_YjCV6",
        "outputId": "169867d7-5162-4839-f345-49a15e13d676"
      },
      "execution_count": 99,
      "outputs": [
        {
          "output_type": "stream",
          "name": "stdout",
          "text": [
            "The Accuracy Score is 0.7252525252525253\n"
          ]
        }
      ]
    },
    {
      "cell_type": "code",
      "source": [
        "#XgBoost Classifier\n",
        "import xgboost\n",
        "\n",
        "#Hyper parameter tuning models\n",
        "from sklearn.model_selection import RandomizedSearchCV , GridSearchCV"
      ],
      "metadata": {
        "id": "uxpfl8BokeKZ"
      },
      "execution_count": 103,
      "outputs": []
    },
    {
      "cell_type": "code",
      "source": [
        "from sklearn.model_selection import train_test_split"
      ],
      "metadata": {
        "id": "v646VRLxkJWW"
      },
      "execution_count": 104,
      "outputs": []
    },
    {
      "cell_type": "code",
      "source": [
        "X_train , X_test, y_train , y_test = train_test_split(X,y,test_size=0.3, random_state=42)"
      ],
      "metadata": {
        "id": "3jmiP9m_kNrU"
      },
      "execution_count": 105,
      "outputs": []
    },
    {
      "cell_type": "code",
      "source": [
        "baseline_model = xgboost.XGBClassifier()"
      ],
      "metadata": {
        "id": "kPopY4i6kSXl"
      },
      "execution_count": 106,
      "outputs": []
    },
    {
      "cell_type": "code",
      "source": [
        "#Fitting data to the model\n",
        "baseline_model.fit(X_train,y_train)"
      ],
      "metadata": {
        "colab": {
          "base_uri": "https://localhost:8080/"
        },
        "id": "SFxUN_oZknrX",
        "outputId": "654d8fa3-928e-4542-ff90-0353847fd934"
      },
      "execution_count": 107,
      "outputs": [
        {
          "output_type": "execute_result",
          "data": {
            "text/plain": [
              "XGBClassifier(objective='multi:softprob')"
            ]
          },
          "metadata": {},
          "execution_count": 107
        }
      ]
    },
    {
      "cell_type": "code",
      "source": [
        "#Training accuracy\n",
        "baseline_model.score(X_train,y_train)"
      ],
      "metadata": {
        "colab": {
          "base_uri": "https://localhost:8080/"
        },
        "id": "XTLN_Ip2kx5W",
        "outputId": "25fea79b-6c37-4c6b-e379-b4bf4c2ce5bd"
      },
      "execution_count": 108,
      "outputs": [
        {
          "output_type": "execute_result",
          "data": {
            "text/plain": [
              "0.8603642671292281"
            ]
          },
          "metadata": {},
          "execution_count": 108
        }
      ]
    },
    {
      "cell_type": "code",
      "source": [
        "#Predictions\n",
        "baseline_preds = baseline_model.predict(X_test)"
      ],
      "metadata": {
        "id": "GGoDeiqik8Ax"
      },
      "execution_count": 109,
      "outputs": []
    },
    {
      "cell_type": "code",
      "source": [
        "#Evaluation Metrics\n",
        "from sklearn.metrics import confusion_matrix , classification_report"
      ],
      "metadata": {
        "id": "QD9CZlXUlBXR"
      },
      "execution_count": 113,
      "outputs": []
    },
    {
      "cell_type": "code",
      "source": [
        "#Confusion metrics\n",
        "print(confusion_matrix(y_test,baseline_preds))"
      ],
      "metadata": {
        "colab": {
          "base_uri": "https://localhost:8080/"
        },
        "id": "ElyVEJG1lIje",
        "outputId": "3469ec99-dd8a-49c3-c2fb-6e92f12053a7"
      },
      "execution_count": 114,
      "outputs": [
        {
          "output_type": "stream",
          "name": "stdout",
          "text": [
            "[[ 0  2  0 ...  0  0  0]\n",
            " [ 0 35  0 ...  0  0  0]\n",
            " [ 0  0  0 ...  0  0  0]\n",
            " ...\n",
            " [ 0  0  0 ... 47  0  0]\n",
            " [ 0  0  0 ...  0 82  0]\n",
            " [ 0  0  0 ...  0  0 72]]\n"
          ]
        }
      ]
    },
    {
      "cell_type": "code",
      "source": [
        "#Classification Report\n",
        "print(classification_report(y_test,baseline_preds))"
      ],
      "metadata": {
        "colab": {
          "base_uri": "https://localhost:8080/"
        },
        "id": "wKwYm0JplO3c",
        "outputId": "16f9b177-dcab-4da4-bcea-471182690fe7"
      },
      "execution_count": 112,
      "outputs": [
        {
          "output_type": "stream",
          "name": "stdout",
          "text": [
            "              precision    recall  f1-score   support\n",
            "\n",
            "         400       0.00      0.00      0.00         2\n",
            "         500       0.95      1.00      0.97        35\n",
            "        1200       0.00      0.00      0.00         2\n",
            "        1358       0.00      0.00      0.00         3\n",
            "        1420       1.00      1.00      1.00        32\n",
            "        1500       0.00      0.00      0.00         1\n",
            "        1600       0.33      0.86      0.48         7\n",
            "        1750       0.00      0.00      0.00         4\n",
            "        1850       0.25      1.00      0.40         1\n",
            "        1900       0.00      0.00      0.00         1\n",
            "        2005       0.00      0.00      0.00         1\n",
            "        2011       0.56      0.50      0.53        18\n",
            "        2065       0.00      0.00      0.00         1\n",
            "        2158       0.00      0.00      0.00         1\n",
            "        2200       0.63      0.71      0.67        65\n",
            "        2500       0.00      0.00      0.00         4\n",
            "        2508       0.00      0.00      0.00         8\n",
            "        2700       0.88      0.70      0.78        50\n",
            "        2878       0.00      0.00      0.00         1\n",
            "        2900       0.00      0.00      0.00         1\n",
            "        3200       1.00      0.83      0.91         6\n",
            "        3400       0.00      0.00      0.00         5\n",
            "        3500       1.00      0.11      0.20         9\n",
            "        3600       0.00      0.00      0.00         4\n",
            "        3650       1.00      1.00      1.00       136\n",
            "        3700       0.35      0.26      0.30        34\n",
            "        3750       0.00      0.00      0.00         2\n",
            "        3800       1.00      1.00      1.00        30\n",
            "        3973       0.00      0.00      0.00         2\n",
            "        4000       0.32      0.70      0.44        53\n",
            "        4200       0.75      0.84      0.79       127\n",
            "        4600       0.00      0.00      0.00         3\n",
            "        4700       0.72      0.55      0.62       120\n",
            "        5000       0.00      0.00      0.00         5\n",
            "        5200       0.24      0.15      0.19        52\n",
            "        5500       0.98      1.00      0.99        92\n",
            "        5605       0.00      0.00      0.00         2\n",
            "        5750       0.33      0.09      0.14        11\n",
            "        6000       0.00      0.00      0.00         2\n",
            "        6500       0.95      0.87      0.91        67\n",
            "        7150       0.00      0.00      0.00         2\n",
            "        7500       0.76      0.79      0.78       114\n",
            "        8500       0.81      0.92      0.86        87\n",
            "        9550       1.00      1.00      1.00        32\n",
            "       10416       0.25      1.00      0.40         1\n",
            "       10500       1.00      0.88      0.93         8\n",
            "       12000       0.88      1.00      0.93        35\n",
            "       14085       0.00      0.00      0.00         3\n",
            "       18000       0.94      1.00      0.97        47\n",
            "       35200       1.00      1.00      1.00        82\n",
            "       40000       1.00      1.00      1.00        72\n",
            "\n",
            "    accuracy                           0.78      1483\n",
            "   macro avg       0.41      0.43      0.40      1483\n",
            "weighted avg       0.78      0.78      0.77      1483\n",
            "\n"
          ]
        },
        {
          "output_type": "stream",
          "name": "stderr",
          "text": [
            "/usr/local/lib/python3.7/dist-packages/sklearn/metrics/_classification.py:1318: UndefinedMetricWarning:\n",
            "\n",
            "Precision and F-score are ill-defined and being set to 0.0 in labels with no predicted samples. Use `zero_division` parameter to control this behavior.\n",
            "\n",
            "/usr/local/lib/python3.7/dist-packages/sklearn/metrics/_classification.py:1318: UndefinedMetricWarning:\n",
            "\n",
            "Precision and F-score are ill-defined and being set to 0.0 in labels with no predicted samples. Use `zero_division` parameter to control this behavior.\n",
            "\n",
            "/usr/local/lib/python3.7/dist-packages/sklearn/metrics/_classification.py:1318: UndefinedMetricWarning:\n",
            "\n",
            "Precision and F-score are ill-defined and being set to 0.0 in labels with no predicted samples. Use `zero_division` parameter to control this behavior.\n",
            "\n"
          ]
        }
      ]
    },
    {
      "cell_type": "markdown",
      "source": [
        "##Hyper Parameter Tuning (RandomizedSearchCV)"
      ],
      "metadata": {
        "id": "FDp5sPmKlnOf"
      }
    },
    {
      "cell_type": "code",
      "source": [
        "xgb_params = {\n",
        "            'learning_rate' : [0.05,0.10,0.15,0.20,0.25,0.30],\n",
        "            'max_depth'     : [3,4,5,6,8,10,12,15],\n",
        "            'min_child_weight' : [1,3,5,7],\n",
        "            'gamma' : [0.0,0.1,0.2,0.3,0.4],\n",
        "            'colsample_bytree' : [0.3,0.4,0.5,0.7]    \n",
        "            }"
      ],
      "metadata": {
        "id": "rIBQi39ElwRe"
      },
      "execution_count": 115,
      "outputs": []
    },
    {
      "cell_type": "code",
      "source": [
        "rs_xgb_model = RandomizedSearchCV(xgboost.XGBClassifier(),xgb_params,n_iter=5,scoring = 'accuracy',cv=5,verbose=2) "
      ],
      "metadata": {
        "id": "rixWy2R7l02g"
      },
      "execution_count": 116,
      "outputs": []
    },
    {
      "cell_type": "code",
      "source": [
        "rs_xgb_model.fit(X_train,y_train)"
      ],
      "metadata": {
        "colab": {
          "base_uri": "https://localhost:8080/"
        },
        "id": "y4d6DpiGl6t_",
        "outputId": "5de712a4-c090-428e-979e-80068b47303c"
      },
      "execution_count": 117,
      "outputs": [
        {
          "output_type": "stream",
          "name": "stdout",
          "text": [
            "Fitting 5 folds for each of 5 candidates, totalling 25 fits\n"
          ]
        },
        {
          "output_type": "stream",
          "name": "stderr",
          "text": [
            "/usr/local/lib/python3.7/dist-packages/sklearn/model_selection/_split.py:680: UserWarning:\n",
            "\n",
            "The least populated class in y has only 1 members, which is less than n_splits=5.\n",
            "\n"
          ]
        },
        {
          "output_type": "stream",
          "name": "stdout",
          "text": [
            "[CV] END colsample_bytree=0.5, gamma=0.1, learning_rate=0.1, max_depth=5, min_child_weight=7; total time=   3.3s\n",
            "[CV] END colsample_bytree=0.5, gamma=0.1, learning_rate=0.1, max_depth=5, min_child_weight=7; total time=   2.8s\n",
            "[CV] END colsample_bytree=0.5, gamma=0.1, learning_rate=0.1, max_depth=5, min_child_weight=7; total time=   2.8s\n",
            "[CV] END colsample_bytree=0.5, gamma=0.1, learning_rate=0.1, max_depth=5, min_child_weight=7; total time=   2.8s\n",
            "[CV] END colsample_bytree=0.5, gamma=0.1, learning_rate=0.1, max_depth=5, min_child_weight=7; total time=   2.8s\n",
            "[CV] END colsample_bytree=0.5, gamma=0.2, learning_rate=0.2, max_depth=15, min_child_weight=3; total time=   3.1s\n",
            "[CV] END colsample_bytree=0.5, gamma=0.2, learning_rate=0.2, max_depth=15, min_child_weight=3; total time=   3.1s\n",
            "[CV] END colsample_bytree=0.5, gamma=0.2, learning_rate=0.2, max_depth=15, min_child_weight=3; total time=   3.1s\n",
            "[CV] END colsample_bytree=0.5, gamma=0.2, learning_rate=0.2, max_depth=15, min_child_weight=3; total time=   3.1s\n",
            "[CV] END colsample_bytree=0.5, gamma=0.2, learning_rate=0.2, max_depth=15, min_child_weight=3; total time=   3.1s\n",
            "[CV] END colsample_bytree=0.3, gamma=0.4, learning_rate=0.05, max_depth=15, min_child_weight=1; total time=   4.2s\n",
            "[CV] END colsample_bytree=0.3, gamma=0.4, learning_rate=0.05, max_depth=15, min_child_weight=1; total time=   4.2s\n",
            "[CV] END colsample_bytree=0.3, gamma=0.4, learning_rate=0.05, max_depth=15, min_child_weight=1; total time=   4.2s\n",
            "[CV] END colsample_bytree=0.3, gamma=0.4, learning_rate=0.05, max_depth=15, min_child_weight=1; total time=   4.2s\n",
            "[CV] END colsample_bytree=0.3, gamma=0.4, learning_rate=0.05, max_depth=15, min_child_weight=1; total time=   4.3s\n",
            "[CV] END colsample_bytree=0.4, gamma=0.4, learning_rate=0.1, max_depth=10, min_child_weight=5; total time=   3.0s\n",
            "[CV] END colsample_bytree=0.4, gamma=0.4, learning_rate=0.1, max_depth=10, min_child_weight=5; total time=   3.1s\n",
            "[CV] END colsample_bytree=0.4, gamma=0.4, learning_rate=0.1, max_depth=10, min_child_weight=5; total time=   3.1s\n",
            "[CV] END colsample_bytree=0.4, gamma=0.4, learning_rate=0.1, max_depth=10, min_child_weight=5; total time=   3.8s\n",
            "[CV] END colsample_bytree=0.4, gamma=0.4, learning_rate=0.1, max_depth=10, min_child_weight=5; total time=   3.1s\n",
            "[CV] END colsample_bytree=0.5, gamma=0.1, learning_rate=0.1, max_depth=15, min_child_weight=3; total time=   3.5s\n",
            "[CV] END colsample_bytree=0.5, gamma=0.1, learning_rate=0.1, max_depth=15, min_child_weight=3; total time=   3.5s\n",
            "[CV] END colsample_bytree=0.5, gamma=0.1, learning_rate=0.1, max_depth=15, min_child_weight=3; total time=   3.5s\n",
            "[CV] END colsample_bytree=0.5, gamma=0.1, learning_rate=0.1, max_depth=15, min_child_weight=3; total time=   3.5s\n",
            "[CV] END colsample_bytree=0.5, gamma=0.1, learning_rate=0.1, max_depth=15, min_child_weight=3; total time=   3.5s\n"
          ]
        },
        {
          "output_type": "execute_result",
          "data": {
            "text/plain": [
              "RandomizedSearchCV(cv=5, estimator=XGBClassifier(), n_iter=5,\n",
              "                   param_distributions={'colsample_bytree': [0.3, 0.4, 0.5,\n",
              "                                                             0.7],\n",
              "                                        'gamma': [0.0, 0.1, 0.2, 0.3, 0.4],\n",
              "                                        'learning_rate': [0.05, 0.1, 0.15, 0.2,\n",
              "                                                          0.25, 0.3],\n",
              "                                        'max_depth': [3, 4, 5, 6, 8, 10, 12,\n",
              "                                                      15],\n",
              "                                        'min_child_weight': [1, 3, 5, 7]},\n",
              "                   scoring='accuracy', verbose=2)"
            ]
          },
          "metadata": {},
          "execution_count": 117
        }
      ]
    },
    {
      "cell_type": "code",
      "source": [
        "#Best Parameters\n",
        "rs_xgb_model.best_params_"
      ],
      "metadata": {
        "colab": {
          "base_uri": "https://localhost:8080/"
        },
        "id": "t8tIvEtrmT1X",
        "outputId": "adb4fa55-62c3-4985-9eae-45d7bb48e3fa"
      },
      "execution_count": 118,
      "outputs": [
        {
          "output_type": "execute_result",
          "data": {
            "text/plain": [
              "{'colsample_bytree': 0.4,\n",
              " 'gamma': 0.4,\n",
              " 'learning_rate': 0.1,\n",
              " 'max_depth': 10,\n",
              " 'min_child_weight': 5}"
            ]
          },
          "metadata": {},
          "execution_count": 118
        }
      ]
    },
    {
      "cell_type": "code",
      "source": [
        "#Best Estimators\n",
        "rs_xgb_model.best_estimator_"
      ],
      "metadata": {
        "colab": {
          "base_uri": "https://localhost:8080/"
        },
        "id": "28Ubjl5ymarR",
        "outputId": "7c24745d-5ce9-4625-db8b-d887223a7ed9"
      },
      "execution_count": 119,
      "outputs": [
        {
          "output_type": "execute_result",
          "data": {
            "text/plain": [
              "XGBClassifier(colsample_bytree=0.4, gamma=0.4, max_depth=10, min_child_weight=5,\n",
              "              objective='multi:softprob')"
            ]
          },
          "metadata": {},
          "execution_count": 119
        }
      ]
    },
    {
      "cell_type": "code",
      "source": [
        "# Training Score\n",
        "rs_xgb_model.score(X_train,y_train)"
      ],
      "metadata": {
        "colab": {
          "base_uri": "https://localhost:8080/"
        },
        "id": "fm5P1Z99mgO4",
        "outputId": "c0b564b9-79fe-4540-801b-db258ee65569"
      },
      "execution_count": 120,
      "outputs": [
        {
          "output_type": "execute_result",
          "data": {
            "text/plain": [
              "0.8496675339693553"
            ]
          },
          "metadata": {},
          "execution_count": 120
        }
      ]
    },
    {
      "cell_type": "code",
      "source": [
        "# Testing score\n",
        "rs_xgb_model.score(X_test,y_test)"
      ],
      "metadata": {
        "colab": {
          "base_uri": "https://localhost:8080/"
        },
        "id": "rbV_9W9fmq0o",
        "outputId": "4671dc42-13a7-4ed4-b6e5-f3773d149047"
      },
      "execution_count": 121,
      "outputs": [
        {
          "output_type": "execute_result",
          "data": {
            "text/plain": [
              "0.7680377612946729"
            ]
          },
          "metadata": {},
          "execution_count": 121
        }
      ]
    },
    {
      "cell_type": "markdown",
      "source": [
        "##Tuned Model"
      ],
      "metadata": {
        "id": "MiZEJ2uOm9Y6"
      }
    },
    {
      "cell_type": "code",
      "source": [
        "#Retrieved from best estimators (Randomized search cv)\n",
        "xgb_tuned_model=xgboost.XGBClassifier(min_child_weight=1,max_depth=10,learning_rate=0.05, gamma=0.1,colsample_bytree=0.5)"
      ],
      "metadata": {
        "id": "z0rmlqmLmz9S"
      },
      "execution_count": 123,
      "outputs": []
    },
    {
      "cell_type": "code",
      "source": [
        "#Fitting data\n",
        "xgb_tuned_model.fit(X_train,y_train)"
      ],
      "metadata": {
        "colab": {
          "base_uri": "https://localhost:8080/"
        },
        "id": "b7YDy9eBnD5R",
        "outputId": "01e0952e-815b-4f04-fec7-c7d510b46847"
      },
      "execution_count": 124,
      "outputs": [
        {
          "output_type": "execute_result",
          "data": {
            "text/plain": [
              "XGBClassifier(colsample_bytree=0.5, gamma=0.1, learning_rate=0.05, max_depth=10,\n",
              "              objective='multi:softprob')"
            ]
          },
          "metadata": {},
          "execution_count": 124
        }
      ]
    },
    {
      "cell_type": "code",
      "source": [
        "#Training score\n",
        "xgb_tuned_model.score(X_train,y_train)"
      ],
      "metadata": {
        "colab": {
          "base_uri": "https://localhost:8080/"
        },
        "id": "rogfmMt7nPGb",
        "outputId": "300627ed-698c-4861-d809-43a54111bd4e"
      },
      "execution_count": 125,
      "outputs": [
        {
          "output_type": "execute_result",
          "data": {
            "text/plain": [
              "0.8866724486845909"
            ]
          },
          "metadata": {},
          "execution_count": 125
        }
      ]
    },
    {
      "cell_type": "code",
      "source": [
        "#Testing score\n",
        "xgb_tuned_model.score(X_test,y_test)"
      ],
      "metadata": {
        "colab": {
          "base_uri": "https://localhost:8080/"
        },
        "id": "VXqNiuZSnUq1",
        "outputId": "5ca4c568-21a5-42f7-daa9-6945170356de"
      },
      "execution_count": 126,
      "outputs": [
        {
          "output_type": "execute_result",
          "data": {
            "text/plain": [
              "0.75118004045853"
            ]
          },
          "metadata": {},
          "execution_count": 126
        }
      ]
    },
    {
      "cell_type": "code",
      "source": [
        "#Predictions\n",
        "tuned_preds = xgb_tuned_model.predict(X_test)"
      ],
      "metadata": {
        "id": "DtyNoFUnncSu"
      },
      "execution_count": 128,
      "outputs": []
    },
    {
      "cell_type": "code",
      "source": [
        "#Confusion matrix\n",
        "print(confusion_matrix(y_test,tuned_preds))"
      ],
      "metadata": {
        "colab": {
          "base_uri": "https://localhost:8080/"
        },
        "id": "wklliR7Rnkty",
        "outputId": "4a65411f-958b-4ea5-8455-57e98984cf1e"
      },
      "execution_count": 129,
      "outputs": [
        {
          "output_type": "stream",
          "name": "stdout",
          "text": [
            "[[ 0  2  0 ...  0  0  0]\n",
            " [ 0 35  0 ...  0  0  0]\n",
            " [ 0  0  0 ...  0  0  0]\n",
            " ...\n",
            " [ 0  0  0 ... 47  0  0]\n",
            " [ 0  0  0 ...  0 82  0]\n",
            " [ 0  0  0 ...  0  0 72]]\n"
          ]
        }
      ]
    },
    {
      "cell_type": "code",
      "source": [
        "#Classification Report\n",
        "print(classification_report(y_test,tuned_preds))"
      ],
      "metadata": {
        "colab": {
          "base_uri": "https://localhost:8080/"
        },
        "id": "O-F0p5zHnqwy",
        "outputId": "e3cd6010-0449-47aa-9eae-f8b291a4d3a5"
      },
      "execution_count": 130,
      "outputs": [
        {
          "output_type": "stream",
          "name": "stdout",
          "text": [
            "              precision    recall  f1-score   support\n",
            "\n",
            "         400       0.00      0.00      0.00         2\n",
            "         500       0.95      1.00      0.97        35\n",
            "        1200       0.00      0.00      0.00         2\n",
            "        1358       0.00      0.00      0.00         3\n",
            "        1420       1.00      1.00      1.00        32\n",
            "        1500       0.00      0.00      0.00         1\n",
            "        1600       0.00      0.00      0.00         7\n",
            "        1750       0.00      0.00      0.00         4\n",
            "        1850       0.25      1.00      0.40         1\n",
            "        1900       0.00      0.00      0.00         1\n",
            "        2005       0.00      0.00      0.00         1\n",
            "        2011       0.50      0.56      0.53        18\n",
            "        2065       0.00      0.00      0.00         1\n",
            "        2158       0.00      0.00      0.00         1\n",
            "        2200       0.58      0.58      0.58        65\n",
            "        2500       0.00      0.00      0.00         4\n",
            "        2508       0.00      0.00      0.00         8\n",
            "        2700       0.68      0.64      0.66        50\n",
            "        2878       0.00      0.00      0.00         1\n",
            "        2900       0.00      0.00      0.00         1\n",
            "        3200       1.00      0.33      0.50         6\n",
            "        3400       0.00      0.00      0.00         5\n",
            "        3500       0.50      0.11      0.18         9\n",
            "        3600       0.00      0.00      0.00         4\n",
            "        3650       1.00      1.00      1.00       136\n",
            "        3700       0.23      0.21      0.22        34\n",
            "        3750       0.00      0.00      0.00         2\n",
            "        3800       1.00      1.00      1.00        30\n",
            "        3973       0.00      0.00      0.00         2\n",
            "        4000       0.30      0.66      0.42        53\n",
            "        4200       0.71      0.76      0.73       127\n",
            "        4600       0.00      0.00      0.00         3\n",
            "        4700       0.62      0.56      0.59       120\n",
            "        5000       0.00      0.00      0.00         5\n",
            "        5200       0.30      0.31      0.30        52\n",
            "        5500       0.94      1.00      0.97        92\n",
            "        5605       0.00      0.00      0.00         2\n",
            "        5750       0.33      0.09      0.14        11\n",
            "        6000       0.00      0.00      0.00         2\n",
            "        6500       0.90      0.84      0.87        67\n",
            "        7150       0.00      0.00      0.00         2\n",
            "        7500       0.69      0.67      0.68       114\n",
            "        8500       0.84      0.87      0.86        87\n",
            "        9550       1.00      1.00      1.00        32\n",
            "       10416       0.00      0.00      0.00         1\n",
            "       10500       1.00      1.00      1.00         8\n",
            "       12000       0.81      0.97      0.88        35\n",
            "       14085       0.00      0.00      0.00         3\n",
            "       18000       0.94      1.00      0.97        47\n",
            "       35200       1.00      1.00      1.00        82\n",
            "       40000       0.95      1.00      0.97        72\n",
            "\n",
            "    accuracy                           0.75      1483\n",
            "   macro avg       0.37      0.38      0.36      1483\n",
            "weighted avg       0.74      0.75      0.74      1483\n",
            "\n"
          ]
        },
        {
          "output_type": "stream",
          "name": "stderr",
          "text": [
            "/usr/local/lib/python3.7/dist-packages/sklearn/metrics/_classification.py:1318: UndefinedMetricWarning:\n",
            "\n",
            "Precision and F-score are ill-defined and being set to 0.0 in labels with no predicted samples. Use `zero_division` parameter to control this behavior.\n",
            "\n",
            "/usr/local/lib/python3.7/dist-packages/sklearn/metrics/_classification.py:1318: UndefinedMetricWarning:\n",
            "\n",
            "Precision and F-score are ill-defined and being set to 0.0 in labels with no predicted samples. Use `zero_division` parameter to control this behavior.\n",
            "\n",
            "/usr/local/lib/python3.7/dist-packages/sklearn/metrics/_classification.py:1318: UndefinedMetricWarning:\n",
            "\n",
            "Precision and F-score are ill-defined and being set to 0.0 in labels with no predicted samples. Use `zero_division` parameter to control this behavior.\n",
            "\n"
          ]
        }
      ]
    },
    {
      "cell_type": "markdown",
      "source": [
        "##Cross Validation Score"
      ],
      "metadata": {
        "id": "xXlCV6_Gnt00"
      }
    },
    {
      "cell_type": "code",
      "source": [
        "from sklearn.model_selection import cross_val_score"
      ],
      "metadata": {
        "id": "ZG86rHQ1ny0f"
      },
      "execution_count": 131,
      "outputs": []
    },
    {
      "cell_type": "code",
      "source": [
        "cv_score = cross_val_score(xgb_tuned_model,X_train,y_train,cv=10)"
      ],
      "metadata": {
        "colab": {
          "base_uri": "https://localhost:8080/"
        },
        "id": "pt9FZgN8n6jd",
        "outputId": "ad1a6d29-6cff-410c-e1c4-583d2097ebdd"
      },
      "execution_count": 132,
      "outputs": [
        {
          "output_type": "stream",
          "name": "stderr",
          "text": [
            "/usr/local/lib/python3.7/dist-packages/sklearn/model_selection/_split.py:680: UserWarning:\n",
            "\n",
            "The least populated class in y has only 1 members, which is less than n_splits=10.\n",
            "\n"
          ]
        }
      ]
    },
    {
      "cell_type": "code",
      "source": [
        "np.mean(cv_score)"
      ],
      "metadata": {
        "colab": {
          "base_uri": "https://localhost:8080/"
        },
        "id": "vNPrnr5oosPc",
        "outputId": "234e5e06-7eaf-4c5e-8e6b-852ffa45bff1"
      },
      "execution_count": 133,
      "outputs": [
        {
          "output_type": "execute_result",
          "data": {
            "text/plain": [
              "0.7652525760241267"
            ]
          },
          "metadata": {},
          "execution_count": 133
        }
      ]
    },
    {
      "cell_type": "code",
      "source": [
        "xgb_tuned_model.fit(X,y)"
      ],
      "metadata": {
        "colab": {
          "base_uri": "https://localhost:8080/"
        },
        "id": "AhsKnuY-o0Gv",
        "outputId": "a112485a-90e0-4d52-d888-b9199284fe93"
      },
      "execution_count": 134,
      "outputs": [
        {
          "output_type": "execute_result",
          "data": {
            "text/plain": [
              "XGBClassifier(colsample_bytree=0.5, gamma=0.1, learning_rate=0.05, max_depth=10,\n",
              "              objective='multi:softprob')"
            ]
          },
          "metadata": {},
          "execution_count": 134
        }
      ]
    },
    {
      "cell_type": "code",
      "source": [
        "#evaluate score\n",
        "xgb_tuned_model.score(X,y)"
      ],
      "metadata": {
        "colab": {
          "base_uri": "https://localhost:8080/"
        },
        "id": "GIKiDBeMo9Bx",
        "outputId": "50deda3d-18ab-4344-b4ad-17e7d4e887f9"
      },
      "execution_count": 135,
      "outputs": [
        {
          "output_type": "execute_result",
          "data": {
            "text/plain": [
              "0.877175232699312"
            ]
          },
          "metadata": {},
          "execution_count": 135
        }
      ]
    },
    {
      "cell_type": "markdown",
      "source": [
        "###Return the mean accuracy on the given test data and labels.In multi-label classification, this is the subset accuracy which is a harsh metric since you require for each sample that each label set be correctly predicted."
      ],
      "metadata": {
        "id": "nt2ewN7jwY01"
      }
    },
    {
      "cell_type": "markdown",
      "source": [
        "###References\n",
        "###https://scikit-learn.org/stable/modules/generated/sklearn.ensemble.RandomForestClassifier.html?highlight=score#sklearn.ensemble.RandomForestClassifier.score\n",
        "###https://scikit-learn.org/stable/modules/model_evaluation.htmlaccuracy-score\n",
        "####https://scikit-learn.org/stable/auto_examples/model_selection/plot_multi_metric_evaluation.html?highlight=from%20sklearn%20model_selection%20import%20cross_val_score\n",
        "###https://scikit-learn.org/stable/modules/generated/sklearn.metrics.precision_recall_fscore_support.html#sklearn.metrics.precision_recall_fscore_support\n",
        "\n",
        "\n",
        "###Brier1950G. Brier, Verification of forecasts expressed in terms of probability, Monthly weather review 78.1 (1950)\n",
        "\n",
        "###Bella2012(1,2)Bella, Ferri, Hernández-Orallo, and Ramírez-Quintana “Calibration of Machine Learning Models” in Khosrow-Pour, M. “Machine learning: concepts, methodologies, tools and applications.” Hershey, PA: Information Science Reference (2012).\n",
        "\n",
        "###Flach2008Flach, Peter, and Edson Matsubara. “On classification, ranking, and probability estimation.” Dagstuhl Seminar Proceedings. Schloss Dagstuhl-Leibniz-Zentrum fr Informatik (2008)."
      ],
      "metadata": {
        "id": "-rLz3llXyX9b"
      }
    }
  ]
}